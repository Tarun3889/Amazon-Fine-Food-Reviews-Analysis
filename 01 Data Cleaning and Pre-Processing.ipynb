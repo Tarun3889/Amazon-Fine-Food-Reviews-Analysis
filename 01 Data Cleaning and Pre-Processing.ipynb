{
 "cells": [
  {
   "cell_type": "code",
   "execution_count": 1,
   "metadata": {},
   "outputs": [
    {
     "data": {
      "text/html": [
       "<style>.container { width:100% !important; }</style>"
      ],
      "text/plain": [
       "<IPython.core.display.HTML object>"
      ]
     },
     "metadata": {},
     "output_type": "display_data"
    }
   ],
   "source": [
    "from IPython.core.display import display, HTML\n",
    "display(HTML(\"<style>.container { width:100% !important; }</style>\"))"
   ]
  },
  {
   "cell_type": "code",
   "execution_count": 2,
   "metadata": {},
   "outputs": [],
   "source": [
    "%matplotlib inline\n",
    "import warnings\n",
    "warnings.filterwarnings(\"ignore\")\n",
    "import sqlite3\n",
    "import pandas as pd\n",
    "import numpy as np\n",
    "import nltk\n",
    "import string\n",
    "import matplotlib.pyplot as plt\n",
    "import seaborn as sns\n",
    "from sklearn.feature_extraction.text import TfidfTransformer, TfidfVectorizer, CountVectorizer\n",
    "from sklearn import metrics\n",
    "from nltk.stem.porter import PorterStemmer\n",
    "import re\n",
    "# Tutorial about Python regular expressions: https://pymotw.com/2/re/\n",
    "import string\n",
    "from nltk.corpus import stopwords\n",
    "from nltk.stem import PorterStemmer\n",
    "from nltk.stem.wordnet import WordNetLemmatizer\n",
    "from gensim.models import Word2Vec\n",
    "from gensim.models import KeyedVectors\n",
    "import pickle\n",
    "from tqdm import tqdm\n",
    "import os\n",
    "from sklearn.ensemble import RandomForestClassifier, GradientBoostingClassifier\n",
    "from sklearn.model_selection import GridSearchCV, RandomizedSearchCV, train_test_split\n",
    "from sklearn.metrics import confusion_matrix, precision_score, recall_score, f1_score, accuracy_score, roc_curve, auc\n",
    "from sklearn.calibration import CalibratedClassifierCV\n",
    "from xgboost import XGBClassifier\n",
    "from wordcloud import WordCloud"
   ]
  },
  {
   "cell_type": "markdown",
   "metadata": {
    "colab_type": "text",
    "id": "AM7jsfwALPlp"
   },
   "source": [
    "# Amazon Fine Food Reviews Analysis Data Cleaning and Pre-Processing.\n",
    "\n",
    "Data Source: https://www.kaggle.com/snap/amazon-fine-food-reviews\n",
    "\n",
    "#### Basic information about the downloaded dataset<br>\n",
    "\n",
    "Number of reviews: 568,454<br>\n",
    "Number of users: 256,059<br>\n",
    "Number of products: 74,258<br>\n",
    "Timespan: Oct 1999 - Oct 2012<br>\n",
    "Number of Attributes/Columns in data: 10 \n",
    "\n",
    "#### Attribute Information:\n",
    "\n",
    "1. Id\n",
    "2. ProductId - unique identifier for the product\n",
    "3. UserId - unqiue identifier for the user\n",
    "4. ProfileName\n",
    "5. HelpfulnessNumerator - number of users who found the review helpful\n",
    "6. HelpfulnessDenominator - number of users who indicated whether they found the review helpful or not\n",
    "7. Score - rating between 1 and 5\n",
    "8. Time - timestamp for the review\n",
    "9. Summary - brief summary of the review\n",
    "10. Text - text of the review\n",
    "\n",
    "\n",
    "#### Objective:\n",
    "Our main objective for this analysis is to train a model which can seperate the postive and negative reviews.\n",
    "In this problem we will apply classification techniques called Random Forest and Gradient Boosted Decision Trees to get an idea if the data can be seperated based on its polarity, i.e. if the review is positive or negative. By looking at the Score column we can make out that the review is positive or not. But we don't need to implement any ML here. A simple if-else condition will make us do this. So for this problem, we will put our focus on to the Review text. The text is the most important feature here if you may ask. Based on the review text we will build a prediction model and determine if a future review is positive or negative.\n",
    "\n",
    "#### While pre-processing the original dataset we have taken into consideration the following points.\n",
    "\n",
    "1. We will classify a review to be positive if and only if the corresponding Score for the given review is 4 or 5.\n",
    "2. We will classify a review to be negative if and only if the corresponding Score for the given review is 1 or 2.\n",
    "3. We will ignore the reviews for the time being which has a Score rating of 3. Because 3 can be thought of as a neutral review. It's neither negative nor positive.\n",
    "4. We will remove the duplicate entries from the dataset. \n",
    "5. We will train our final mdel using four featurizations -> bag of words model, tf-idf model, average word-to-vec model and tf-idf weighted word-to-vec model.\n",
    "6. So at end of the training the model will be trained on the above four featurizations to determine if a given review is positive or negative (Determining the sentiment polarity of the Amazon reviews)"
   ]
  },
  {
   "cell_type": "markdown",
   "metadata": {
    "colab_type": "text",
    "id": "CaQ7XJ4OLPls"
   },
   "source": [
    "# [1]. Reading Data"
   ]
  },
  {
   "cell_type": "markdown",
   "metadata": {
    "colab_type": "text",
    "id": "5VnEBjKRLPlu"
   },
   "source": [
    "## [1.1] Loading the data\n",
    "\n",
    "The dataset is available in two forms\n",
    "1. .csv file\n",
    "2. SQLite Database\n",
    "\n",
    "In order to load the data, We have used the SQLITE dataset as it is easier to query the data and visualise the data efficiently.\n",
    "<br> \n",
    "\n",
    "Here as we only want to get the global sentiment of the recommendations (positive or negative), we will purposefully ignore all Scores equal to 3. If the score is above 3, then the recommendation wil be set to \"positive\". Otherwise, it will be set to \"negative\"."
   ]
  },
  {
   "cell_type": "code",
   "execution_count": 31,
   "metadata": {
    "colab": {},
    "colab_type": "code",
    "id": "NZ4OSpSiLPl0",
    "outputId": "241c4c64-6186-4351-e38f-fcd06c6896dd",
    "scrolled": false
   },
   "outputs": [
    {
     "name": "stdout",
     "output_type": "stream",
     "text": [
      "Number of data points in our data 525814\n",
      "Number of features in our data 12\n"
     ]
    },
    {
     "data": {
      "text/html": [
       "<div>\n",
       "<style scoped>\n",
       "    .dataframe tbody tr th:only-of-type {\n",
       "        vertical-align: middle;\n",
       "    }\n",
       "\n",
       "    .dataframe tbody tr th {\n",
       "        vertical-align: top;\n",
       "    }\n",
       "\n",
       "    .dataframe thead th {\n",
       "        text-align: right;\n",
       "    }\n",
       "</style>\n",
       "<table border=\"1\" class=\"dataframe\">\n",
       "  <thead>\n",
       "    <tr style=\"text-align: right;\">\n",
       "      <th></th>\n",
       "      <th>Id</th>\n",
       "      <th>ProductId</th>\n",
       "      <th>UserId</th>\n",
       "      <th>ProfileName</th>\n",
       "      <th>HelpfulnessNumerator</th>\n",
       "      <th>HelpfulnessDenominator</th>\n",
       "      <th>Score</th>\n",
       "      <th>Time</th>\n",
       "      <th>Summary</th>\n",
       "      <th>Text</th>\n",
       "      <th>SentimentPolarity</th>\n",
       "      <th>Class_Labels</th>\n",
       "    </tr>\n",
       "  </thead>\n",
       "  <tbody>\n",
       "    <tr>\n",
       "      <th>0</th>\n",
       "      <td>1</td>\n",
       "      <td>B001E4KFG0</td>\n",
       "      <td>A3SGXH7AUHU8GW</td>\n",
       "      <td>delmartian</td>\n",
       "      <td>1</td>\n",
       "      <td>1</td>\n",
       "      <td>5</td>\n",
       "      <td>1303862400</td>\n",
       "      <td>Good Quality Dog Food</td>\n",
       "      <td>I have bought several of the Vitality canned d...</td>\n",
       "      <td>Positive</td>\n",
       "      <td>1</td>\n",
       "    </tr>\n",
       "    <tr>\n",
       "      <th>1</th>\n",
       "      <td>2</td>\n",
       "      <td>B00813GRG4</td>\n",
       "      <td>A1D87F6ZCVE5NK</td>\n",
       "      <td>dll pa</td>\n",
       "      <td>0</td>\n",
       "      <td>0</td>\n",
       "      <td>1</td>\n",
       "      <td>1346976000</td>\n",
       "      <td>Not as Advertised</td>\n",
       "      <td>Product arrived labeled as Jumbo Salted Peanut...</td>\n",
       "      <td>Negative</td>\n",
       "      <td>0</td>\n",
       "    </tr>\n",
       "    <tr>\n",
       "      <th>2</th>\n",
       "      <td>3</td>\n",
       "      <td>B000LQOCH0</td>\n",
       "      <td>ABXLMWJIXXAIN</td>\n",
       "      <td>Natalia Corres \"Natalia Corres\"</td>\n",
       "      <td>1</td>\n",
       "      <td>1</td>\n",
       "      <td>4</td>\n",
       "      <td>1219017600</td>\n",
       "      <td>\"Delight\" says it all</td>\n",
       "      <td>This is a confection that has been around a fe...</td>\n",
       "      <td>Positive</td>\n",
       "      <td>1</td>\n",
       "    </tr>\n",
       "    <tr>\n",
       "      <th>3</th>\n",
       "      <td>4</td>\n",
       "      <td>B000UA0QIQ</td>\n",
       "      <td>A395BORC6FGVXV</td>\n",
       "      <td>Karl</td>\n",
       "      <td>3</td>\n",
       "      <td>3</td>\n",
       "      <td>2</td>\n",
       "      <td>1307923200</td>\n",
       "      <td>Cough Medicine</td>\n",
       "      <td>If you are looking for the secret ingredient i...</td>\n",
       "      <td>Negative</td>\n",
       "      <td>0</td>\n",
       "    </tr>\n",
       "    <tr>\n",
       "      <th>4</th>\n",
       "      <td>5</td>\n",
       "      <td>B006K2ZZ7K</td>\n",
       "      <td>A1UQRSCLF8GW1T</td>\n",
       "      <td>Michael D. Bigham \"M. Wassir\"</td>\n",
       "      <td>0</td>\n",
       "      <td>0</td>\n",
       "      <td>5</td>\n",
       "      <td>1350777600</td>\n",
       "      <td>Great taffy</td>\n",
       "      <td>Great taffy at a great price.  There was a wid...</td>\n",
       "      <td>Positive</td>\n",
       "      <td>1</td>\n",
       "    </tr>\n",
       "  </tbody>\n",
       "</table>\n",
       "</div>"
      ],
      "text/plain": [
       "   Id   ProductId          UserId                      ProfileName  \\\n",
       "0   1  B001E4KFG0  A3SGXH7AUHU8GW                       delmartian   \n",
       "1   2  B00813GRG4  A1D87F6ZCVE5NK                           dll pa   \n",
       "2   3  B000LQOCH0   ABXLMWJIXXAIN  Natalia Corres \"Natalia Corres\"   \n",
       "3   4  B000UA0QIQ  A395BORC6FGVXV                             Karl   \n",
       "4   5  B006K2ZZ7K  A1UQRSCLF8GW1T    Michael D. Bigham \"M. Wassir\"   \n",
       "\n",
       "   HelpfulnessNumerator  HelpfulnessDenominator  Score        Time  \\\n",
       "0                     1                       1      5  1303862400   \n",
       "1                     0                       0      1  1346976000   \n",
       "2                     1                       1      4  1219017600   \n",
       "3                     3                       3      2  1307923200   \n",
       "4                     0                       0      5  1350777600   \n",
       "\n",
       "                 Summary                                               Text  \\\n",
       "0  Good Quality Dog Food  I have bought several of the Vitality canned d...   \n",
       "1      Not as Advertised  Product arrived labeled as Jumbo Salted Peanut...   \n",
       "2  \"Delight\" says it all  This is a confection that has been around a fe...   \n",
       "3         Cough Medicine  If you are looking for the secret ingredient i...   \n",
       "4            Great taffy  Great taffy at a great price.  There was a wid...   \n",
       "\n",
       "  SentimentPolarity  Class_Labels  \n",
       "0          Positive             1  \n",
       "1          Negative             0  \n",
       "2          Positive             1  \n",
       "3          Negative             0  \n",
       "4          Positive             1  "
      ]
     },
     "execution_count": 31,
     "metadata": {},
     "output_type": "execute_result"
    }
   ],
   "source": [
    "'''Loading the Amazon dataset, Remove duplicate data.'''\n",
    "#Data Source: https://www.kaggle.com/snap/amazon-fine-food-reviews.\n",
    "connection_sqlobject = sqlite3.connect('database.sqlite') \n",
    "\n",
    "#Filter only positive and negative reviews. Do not consider reviews with score = 3.\n",
    "#not taking into consideration those reviews with Score=3\n",
    "# SELECT * FROM Reviews WHERE Score != 3 LIMIT 500000, will give top 500000 data points\n",
    "# you can change the number to any other number based on your computing power\n",
    "filtered_data = pd.read_sql_query(\"\"\" SELECT * FROM Reviews WHERE Score != 3 \"\"\", connection_sqlobject)\n",
    "\n",
    "#Give reviews with Score > 3 a 'Positive' tag, and reviews with a score < 3 a 'Negative' tag.\n",
    "filtered_data['SentimentPolarity'] = filtered_data['Score'].apply(lambda x : 'Positive' if x > 3 else 'Negative')\n",
    "filtered_data['Class_Labels'] = filtered_data['SentimentPolarity'].apply(lambda x : 1 if x == 'Positive' else 0)\n",
    "\n",
    "#Display some of the datapoints from the loaded dataset.\n",
    "print(\"Number of data points in our data\", filtered_data.shape[0])\n",
    "print(\"Number of features in our data\", filtered_data.shape[1])\n",
    "filtered_data.head(5)"
   ]
  },
  {
   "cell_type": "markdown",
   "metadata": {
    "colab_type": "text",
    "id": "PuNkhjz0LPmQ"
   },
   "source": [
    "#  [2] Exploratory Data Analysis"
   ]
  },
  {
   "cell_type": "markdown",
   "metadata": {
    "colab_type": "text",
    "id": "oCJaTWrTLPmS"
   },
   "source": [
    "## [2.1] Data Cleaning: Deduplication\n",
    "\n",
    "It is observed (as shown in the table below) that the reviews data had many duplicate entries. Hence it was necessary to remove duplicates in order to get unbiased results for the analysis of the data.  Following is an example:"
   ]
  },
  {
   "cell_type": "code",
   "execution_count": 32,
   "metadata": {
    "scrolled": true
   },
   "outputs": [
    {
     "name": "stdout",
     "output_type": "stream",
     "text": [
      "(80668, 7)\n"
     ]
    },
    {
     "data": {
      "text/html": [
       "<div>\n",
       "<style scoped>\n",
       "    .dataframe tbody tr th:only-of-type {\n",
       "        vertical-align: middle;\n",
       "    }\n",
       "\n",
       "    .dataframe tbody tr th {\n",
       "        vertical-align: top;\n",
       "    }\n",
       "\n",
       "    .dataframe thead th {\n",
       "        text-align: right;\n",
       "    }\n",
       "</style>\n",
       "<table border=\"1\" class=\"dataframe\">\n",
       "  <thead>\n",
       "    <tr style=\"text-align: right;\">\n",
       "      <th></th>\n",
       "      <th>UserId</th>\n",
       "      <th>ProductId</th>\n",
       "      <th>ProfileName</th>\n",
       "      <th>Time</th>\n",
       "      <th>Score</th>\n",
       "      <th>Text</th>\n",
       "      <th>COUNT(*)</th>\n",
       "    </tr>\n",
       "  </thead>\n",
       "  <tbody>\n",
       "    <tr>\n",
       "      <th>0</th>\n",
       "      <td>#oc-R115TNMSPFT9I7</td>\n",
       "      <td>B007Y59HVM</td>\n",
       "      <td>Breyton</td>\n",
       "      <td>1331510400</td>\n",
       "      <td>2</td>\n",
       "      <td>Overall its just OK when considering the price...</td>\n",
       "      <td>2</td>\n",
       "    </tr>\n",
       "    <tr>\n",
       "      <th>1</th>\n",
       "      <td>#oc-R11D9D7SHXIJB9</td>\n",
       "      <td>B005HG9ET0</td>\n",
       "      <td>Louis E. Emory \"hoppy\"</td>\n",
       "      <td>1342396800</td>\n",
       "      <td>5</td>\n",
       "      <td>My wife has recurring extreme muscle spasms, u...</td>\n",
       "      <td>3</td>\n",
       "    </tr>\n",
       "    <tr>\n",
       "      <th>2</th>\n",
       "      <td>#oc-R11DNU2NBKQ23Z</td>\n",
       "      <td>B007Y59HVM</td>\n",
       "      <td>Kim Cieszykowski</td>\n",
       "      <td>1348531200</td>\n",
       "      <td>1</td>\n",
       "      <td>This coffee is horrible and unfortunately not ...</td>\n",
       "      <td>2</td>\n",
       "    </tr>\n",
       "    <tr>\n",
       "      <th>3</th>\n",
       "      <td>#oc-R11O5J5ZVQE25C</td>\n",
       "      <td>B005HG9ET0</td>\n",
       "      <td>Penguin Chick</td>\n",
       "      <td>1346889600</td>\n",
       "      <td>5</td>\n",
       "      <td>This will be the bottle that you grab from the...</td>\n",
       "      <td>3</td>\n",
       "    </tr>\n",
       "    <tr>\n",
       "      <th>4</th>\n",
       "      <td>#oc-R12KPBODL2B5ZD</td>\n",
       "      <td>B007OSBE1U</td>\n",
       "      <td>Christopher P. Presta</td>\n",
       "      <td>1348617600</td>\n",
       "      <td>1</td>\n",
       "      <td>I didnt like this coffee. Instead of telling y...</td>\n",
       "      <td>2</td>\n",
       "    </tr>\n",
       "  </tbody>\n",
       "</table>\n",
       "</div>"
      ],
      "text/plain": [
       "               UserId   ProductId             ProfileName        Time  Score  \\\n",
       "0  #oc-R115TNMSPFT9I7  B007Y59HVM                 Breyton  1331510400      2   \n",
       "1  #oc-R11D9D7SHXIJB9  B005HG9ET0  Louis E. Emory \"hoppy\"  1342396800      5   \n",
       "2  #oc-R11DNU2NBKQ23Z  B007Y59HVM        Kim Cieszykowski  1348531200      1   \n",
       "3  #oc-R11O5J5ZVQE25C  B005HG9ET0           Penguin Chick  1346889600      5   \n",
       "4  #oc-R12KPBODL2B5ZD  B007OSBE1U   Christopher P. Presta  1348617600      1   \n",
       "\n",
       "                                                Text  COUNT(*)  \n",
       "0  Overall its just OK when considering the price...         2  \n",
       "1  My wife has recurring extreme muscle spasms, u...         3  \n",
       "2  This coffee is horrible and unfortunately not ...         2  \n",
       "3  This will be the bottle that you grab from the...         3  \n",
       "4  I didnt like this coffee. Instead of telling y...         2  "
      ]
     },
     "execution_count": 32,
     "metadata": {},
     "output_type": "execute_result"
    }
   ],
   "source": [
    "#This code block check how many entries are there from the same user id, who has provided review more than one time for different products.\n",
    "display = pd.read_sql_query(\"\"\"\n",
    "SELECT UserId, ProductId, ProfileName, Time, Score, Text, COUNT(*)\n",
    "FROM Reviews\n",
    "GROUP BY UserId\n",
    "HAVING COUNT(*)>1\n",
    "\"\"\", connection_sqlobject)\n",
    "\n",
    "print(display.shape)\n",
    "display.head()"
   ]
  },
  {
   "cell_type": "code",
   "execution_count": 33,
   "metadata": {
    "scrolled": true
   },
   "outputs": [
    {
     "data": {
      "text/html": [
       "<div>\n",
       "<style scoped>\n",
       "    .dataframe tbody tr th:only-of-type {\n",
       "        vertical-align: middle;\n",
       "    }\n",
       "\n",
       "    .dataframe tbody tr th {\n",
       "        vertical-align: top;\n",
       "    }\n",
       "\n",
       "    .dataframe thead th {\n",
       "        text-align: right;\n",
       "    }\n",
       "</style>\n",
       "<table border=\"1\" class=\"dataframe\">\n",
       "  <thead>\n",
       "    <tr style=\"text-align: right;\">\n",
       "      <th></th>\n",
       "      <th>UserId</th>\n",
       "      <th>ProductId</th>\n",
       "      <th>ProfileName</th>\n",
       "      <th>Time</th>\n",
       "      <th>Score</th>\n",
       "      <th>Text</th>\n",
       "      <th>COUNT(*)</th>\n",
       "    </tr>\n",
       "  </thead>\n",
       "  <tbody>\n",
       "    <tr>\n",
       "      <th>80638</th>\n",
       "      <td>AZY10LLTJ71NX</td>\n",
       "      <td>B006P7E5ZI</td>\n",
       "      <td>undertheshrine \"undertheshrine\"</td>\n",
       "      <td>1334707200</td>\n",
       "      <td>5</td>\n",
       "      <td>I was recommended to try green tea extract to ...</td>\n",
       "      <td>5</td>\n",
       "    </tr>\n",
       "  </tbody>\n",
       "</table>\n",
       "</div>"
      ],
      "text/plain": [
       "              UserId   ProductId                      ProfileName        Time  \\\n",
       "80638  AZY10LLTJ71NX  B006P7E5ZI  undertheshrine \"undertheshrine\"  1334707200   \n",
       "\n",
       "       Score                                               Text  COUNT(*)  \n",
       "80638      5  I was recommended to try green tea extract to ...         5  "
      ]
     },
     "execution_count": 33,
     "metadata": {},
     "output_type": "execute_result"
    }
   ],
   "source": [
    "display[display['UserId']=='AZY10LLTJ71NX']"
   ]
  },
  {
   "cell_type": "code",
   "execution_count": 34,
   "metadata": {
    "scrolled": true
   },
   "outputs": [
    {
     "data": {
      "text/plain": [
       "393063"
      ]
     },
     "execution_count": 34,
     "metadata": {},
     "output_type": "execute_result"
    }
   ],
   "source": [
    "display['COUNT(*)'].sum()"
   ]
  },
  {
   "cell_type": "code",
   "execution_count": 35,
   "metadata": {
    "colab": {},
    "colab_type": "code",
    "id": "3lvzRwWVLPmT",
    "outputId": "96ba6f90-6c40-4972-ecd2-d2d208e48877",
    "scrolled": false
   },
   "outputs": [
    {
     "data": {
      "text/html": [
       "<div>\n",
       "<style scoped>\n",
       "    .dataframe tbody tr th:only-of-type {\n",
       "        vertical-align: middle;\n",
       "    }\n",
       "\n",
       "    .dataframe tbody tr th {\n",
       "        vertical-align: top;\n",
       "    }\n",
       "\n",
       "    .dataframe thead th {\n",
       "        text-align: right;\n",
       "    }\n",
       "</style>\n",
       "<table border=\"1\" class=\"dataframe\">\n",
       "  <thead>\n",
       "    <tr style=\"text-align: right;\">\n",
       "      <th></th>\n",
       "      <th>Id</th>\n",
       "      <th>ProductId</th>\n",
       "      <th>UserId</th>\n",
       "      <th>ProfileName</th>\n",
       "      <th>HelpfulnessNumerator</th>\n",
       "      <th>HelpfulnessDenominator</th>\n",
       "      <th>Score</th>\n",
       "      <th>Time</th>\n",
       "      <th>Summary</th>\n",
       "      <th>Text</th>\n",
       "    </tr>\n",
       "  </thead>\n",
       "  <tbody>\n",
       "    <tr>\n",
       "      <th>0</th>\n",
       "      <td>78445</td>\n",
       "      <td>B000HDL1RQ</td>\n",
       "      <td>AR5J8UI46CURR</td>\n",
       "      <td>Geetha Krishnan</td>\n",
       "      <td>2</td>\n",
       "      <td>2</td>\n",
       "      <td>5</td>\n",
       "      <td>1199577600</td>\n",
       "      <td>LOACKER QUADRATINI VANILLA WAFERS</td>\n",
       "      <td>DELICIOUS WAFERS. I FIND THAT EUROPEAN WAFERS ...</td>\n",
       "    </tr>\n",
       "    <tr>\n",
       "      <th>1</th>\n",
       "      <td>138317</td>\n",
       "      <td>B000HDOPYC</td>\n",
       "      <td>AR5J8UI46CURR</td>\n",
       "      <td>Geetha Krishnan</td>\n",
       "      <td>2</td>\n",
       "      <td>2</td>\n",
       "      <td>5</td>\n",
       "      <td>1199577600</td>\n",
       "      <td>LOACKER QUADRATINI VANILLA WAFERS</td>\n",
       "      <td>DELICIOUS WAFERS. I FIND THAT EUROPEAN WAFERS ...</td>\n",
       "    </tr>\n",
       "    <tr>\n",
       "      <th>2</th>\n",
       "      <td>138277</td>\n",
       "      <td>B000HDOPYM</td>\n",
       "      <td>AR5J8UI46CURR</td>\n",
       "      <td>Geetha Krishnan</td>\n",
       "      <td>2</td>\n",
       "      <td>2</td>\n",
       "      <td>5</td>\n",
       "      <td>1199577600</td>\n",
       "      <td>LOACKER QUADRATINI VANILLA WAFERS</td>\n",
       "      <td>DELICIOUS WAFERS. I FIND THAT EUROPEAN WAFERS ...</td>\n",
       "    </tr>\n",
       "    <tr>\n",
       "      <th>3</th>\n",
       "      <td>73791</td>\n",
       "      <td>B000HDOPZG</td>\n",
       "      <td>AR5J8UI46CURR</td>\n",
       "      <td>Geetha Krishnan</td>\n",
       "      <td>2</td>\n",
       "      <td>2</td>\n",
       "      <td>5</td>\n",
       "      <td>1199577600</td>\n",
       "      <td>LOACKER QUADRATINI VANILLA WAFERS</td>\n",
       "      <td>DELICIOUS WAFERS. I FIND THAT EUROPEAN WAFERS ...</td>\n",
       "    </tr>\n",
       "    <tr>\n",
       "      <th>4</th>\n",
       "      <td>155049</td>\n",
       "      <td>B000PAQ75C</td>\n",
       "      <td>AR5J8UI46CURR</td>\n",
       "      <td>Geetha Krishnan</td>\n",
       "      <td>2</td>\n",
       "      <td>2</td>\n",
       "      <td>5</td>\n",
       "      <td>1199577600</td>\n",
       "      <td>LOACKER QUADRATINI VANILLA WAFERS</td>\n",
       "      <td>DELICIOUS WAFERS. I FIND THAT EUROPEAN WAFERS ...</td>\n",
       "    </tr>\n",
       "  </tbody>\n",
       "</table>\n",
       "</div>"
      ],
      "text/plain": [
       "       Id   ProductId         UserId      ProfileName  HelpfulnessNumerator  \\\n",
       "0   78445  B000HDL1RQ  AR5J8UI46CURR  Geetha Krishnan                     2   \n",
       "1  138317  B000HDOPYC  AR5J8UI46CURR  Geetha Krishnan                     2   \n",
       "2  138277  B000HDOPYM  AR5J8UI46CURR  Geetha Krishnan                     2   \n",
       "3   73791  B000HDOPZG  AR5J8UI46CURR  Geetha Krishnan                     2   \n",
       "4  155049  B000PAQ75C  AR5J8UI46CURR  Geetha Krishnan                     2   \n",
       "\n",
       "   HelpfulnessDenominator  Score        Time  \\\n",
       "0                       2      5  1199577600   \n",
       "1                       2      5  1199577600   \n",
       "2                       2      5  1199577600   \n",
       "3                       2      5  1199577600   \n",
       "4                       2      5  1199577600   \n",
       "\n",
       "                             Summary  \\\n",
       "0  LOACKER QUADRATINI VANILLA WAFERS   \n",
       "1  LOACKER QUADRATINI VANILLA WAFERS   \n",
       "2  LOACKER QUADRATINI VANILLA WAFERS   \n",
       "3  LOACKER QUADRATINI VANILLA WAFERS   \n",
       "4  LOACKER QUADRATINI VANILLA WAFERS   \n",
       "\n",
       "                                                Text  \n",
       "0  DELICIOUS WAFERS. I FIND THAT EUROPEAN WAFERS ...  \n",
       "1  DELICIOUS WAFERS. I FIND THAT EUROPEAN WAFERS ...  \n",
       "2  DELICIOUS WAFERS. I FIND THAT EUROPEAN WAFERS ...  \n",
       "3  DELICIOUS WAFERS. I FIND THAT EUROPEAN WAFERS ...  \n",
       "4  DELICIOUS WAFERS. I FIND THAT EUROPEAN WAFERS ...  "
      ]
     },
     "execution_count": 35,
     "metadata": {},
     "output_type": "execute_result"
    }
   ],
   "source": [
    "#Checking the number of entries that came from UserId=\"AR5J8UI46CURR\"\n",
    "display= pd.read_sql_query(\"\"\"\n",
    "SELECT *\n",
    "FROM Reviews\n",
    "WHERE Score != 3 AND UserId=\"AR5J8UI46CURR\"\n",
    "ORDER BY ProductID\n",
    "\"\"\", connection_sqlobject)\n",
    "display.head()"
   ]
  },
  {
   "cell_type": "code",
   "execution_count": 36,
   "metadata": {
    "scrolled": true
   },
   "outputs": [
    {
     "name": "stdout",
     "output_type": "stream",
     "text": [
      "The shape of the filtered matrix : (525814, 12)\n",
      "The median score values : 4.27914813983652\n",
      "The number of positive and negative reviews before the removal of duplicate data.\n",
      "Positive    443777\n",
      "Negative     82037\n",
      "Name: SentimentPolarity, dtype: int64\n"
     ]
    }
   ],
   "source": [
    "#Display information about the dataset before the removal of duplicate data.\n",
    "print(\"The shape of the filtered matrix : {}\".format(filtered_data.shape))\n",
    "print(\"The median score values : {}\".format(filtered_data['Score'].mean()))\n",
    "print(\"The number of positive and negative reviews before the removal of duplicate data.\")\n",
    "print(filtered_data[\"SentimentPolarity\"].value_counts())"
   ]
  },
  {
   "cell_type": "markdown",
   "metadata": {
    "colab_type": "text",
    "id": "uT7p9_deLPmb"
   },
   "source": [
    "As it can be seen above that same user has multiple reviews with same values for HelpfulnessNumerator, HelpfulnessDenominator, Score, Time, Summary and Text and on doing analysis it was found that <br>\n",
    "<br> \n",
    "ProductId=B000HDOPZG was Loacker Quadratini Vanilla Wafer Cookies, 8.82-Ounce Packages (Pack of 8)<br>\n",
    "<br> \n",
    "ProductId=B000HDL1RQ was Loacker Quadratini Lemon Wafer Cookies, 8.82-Ounce Packages (Pack of 8) and so on<br>\n",
    "\n",
    "It was inferred after analysis that reviews with same parameters other than ProductId belonged to the same product just having different flavour or quantity. Hence in order to reduce redundancy it was decided to eliminate the rows having same parameters.<br>\n",
    "\n",
    "The method used for the same was that we first sort the data according to ProductId and then just keep the first similar product review and delelte the others. for eg. in the above just the review for ProductId=B000HDL1RQ remains. This method ensures that there is only one representative for each product and deduplication without sorting would lead to possibility of different representatives still existing for the same product."
   ]
  },
  {
   "cell_type": "code",
   "execution_count": 37,
   "metadata": {
    "colab": {},
    "colab_type": "code",
    "id": "mdsKFc50LPme",
    "scrolled": true
   },
   "outputs": [],
   "source": [
    "#Sorting data according to Time in ascending order. The oldest reviews will be displayed at the top and the new reviews will be display at the end of the dataset.\n",
    "sorted_data=filtered_data.sort_values('Time', axis=0, ascending=False, inplace=False, kind='quicksort', na_position='last')"
   ]
  },
  {
   "cell_type": "code",
   "execution_count": 38,
   "metadata": {
    "colab": {},
    "colab_type": "code",
    "id": "2itLgX-NLPmk",
    "outputId": "ac765625-dfdc-4e4e-f886-bd3b7ca3635a",
    "scrolled": true
   },
   "outputs": [
    {
     "name": "stdout",
     "output_type": "stream",
     "text": [
      "The shape of the data matrix after deduplication, Stage 1: (364173, 12)\n"
     ]
    }
   ],
   "source": [
    "#Removing duplicate entries based on past knowledge.\n",
    "filtered_duplicates=sorted_data.drop_duplicates(subset={\"UserId\",\"ProfileName\",\"Time\",\"Text\"}, keep='first', inplace=False)\n",
    "print(\"The shape of the data matrix after deduplication, Stage 1: {}\".format(filtered_duplicates.shape))"
   ]
  },
  {
   "cell_type": "markdown",
   "metadata": {
    "colab_type": "text",
    "id": "gFBOfSe4LPmy"
   },
   "source": [
    "<b>Observation:-</b> It was also seen that in two rows given below the value of HelpfulnessNumerator is greater than HelpfulnessDenominator which is not practically possible hence these two rows too are removed from calculations"
   ]
  },
  {
   "cell_type": "code",
   "execution_count": 39,
   "metadata": {
    "colab": {},
    "colab_type": "code",
    "id": "50flE40lLPmz",
    "outputId": "b6c7e38e-25c1-4a48-be1f-70fdf31aba13",
    "scrolled": true
   },
   "outputs": [
    {
     "data": {
      "text/html": [
       "<div>\n",
       "<style scoped>\n",
       "    .dataframe tbody tr th:only-of-type {\n",
       "        vertical-align: middle;\n",
       "    }\n",
       "\n",
       "    .dataframe tbody tr th {\n",
       "        vertical-align: top;\n",
       "    }\n",
       "\n",
       "    .dataframe thead th {\n",
       "        text-align: right;\n",
       "    }\n",
       "</style>\n",
       "<table border=\"1\" class=\"dataframe\">\n",
       "  <thead>\n",
       "    <tr style=\"text-align: right;\">\n",
       "      <th></th>\n",
       "      <th>Id</th>\n",
       "      <th>ProductId</th>\n",
       "      <th>UserId</th>\n",
       "      <th>ProfileName</th>\n",
       "      <th>HelpfulnessNumerator</th>\n",
       "      <th>HelpfulnessDenominator</th>\n",
       "      <th>Score</th>\n",
       "      <th>Time</th>\n",
       "      <th>Summary</th>\n",
       "      <th>Text</th>\n",
       "    </tr>\n",
       "  </thead>\n",
       "  <tbody>\n",
       "    <tr>\n",
       "      <th>0</th>\n",
       "      <td>64422</td>\n",
       "      <td>B000MIDROQ</td>\n",
       "      <td>A161DK06JJMCYF</td>\n",
       "      <td>J. E. Stephens \"Jeanne\"</td>\n",
       "      <td>3</td>\n",
       "      <td>1</td>\n",
       "      <td>5</td>\n",
       "      <td>1224892800</td>\n",
       "      <td>Bought This for My Son at College</td>\n",
       "      <td>My son loves spaghetti so I didn't hesitate or...</td>\n",
       "    </tr>\n",
       "    <tr>\n",
       "      <th>1</th>\n",
       "      <td>44737</td>\n",
       "      <td>B001EQ55RW</td>\n",
       "      <td>A2V0I904FH7ABY</td>\n",
       "      <td>Ram</td>\n",
       "      <td>3</td>\n",
       "      <td>2</td>\n",
       "      <td>4</td>\n",
       "      <td>1212883200</td>\n",
       "      <td>Pure cocoa taste with crunchy almonds inside</td>\n",
       "      <td>It was almost a 'love at first bite' - the per...</td>\n",
       "    </tr>\n",
       "  </tbody>\n",
       "</table>\n",
       "</div>"
      ],
      "text/plain": [
       "      Id   ProductId          UserId              ProfileName  \\\n",
       "0  64422  B000MIDROQ  A161DK06JJMCYF  J. E. Stephens \"Jeanne\"   \n",
       "1  44737  B001EQ55RW  A2V0I904FH7ABY                      Ram   \n",
       "\n",
       "   HelpfulnessNumerator  HelpfulnessDenominator  Score        Time  \\\n",
       "0                     3                       1      5  1224892800   \n",
       "1                     3                       2      4  1212883200   \n",
       "\n",
       "                                        Summary  \\\n",
       "0             Bought This for My Son at College   \n",
       "1  Pure cocoa taste with crunchy almonds inside   \n",
       "\n",
       "                                                Text  \n",
       "0  My son loves spaghetti so I didn't hesitate or...  \n",
       "1  It was almost a 'love at first bite' - the per...  "
      ]
     },
     "execution_count": 39,
     "metadata": {},
     "output_type": "execute_result"
    }
   ],
   "source": [
    "display= pd.read_sql_query(\"\"\"\n",
    "SELECT *\n",
    "FROM Reviews\n",
    "WHERE Score != 3 AND Id=44737 OR Id=64422\n",
    "ORDER BY ProductID\n",
    "\"\"\", connection_sqlobject)\n",
    "\n",
    "display.head()"
   ]
  },
  {
   "cell_type": "code",
   "execution_count": 40,
   "metadata": {
    "colab": {},
    "colab_type": "code",
    "id": "0YTPJMLTLPm7",
    "scrolled": true
   },
   "outputs": [],
   "source": [
    "#Removing the entries where HelpfulnessNumerator > HelpfulnessDenominator.\n",
    "final_data=filtered_duplicates[filtered_duplicates.HelpfulnessNumerator <= filtered_duplicates.HelpfulnessDenominator]"
   ]
  },
  {
   "cell_type": "markdown",
   "metadata": {},
   "source": [
    "### Removing duplicate entries from the Dataset."
   ]
  },
  {
   "cell_type": "code",
   "execution_count": 41,
   "metadata": {
    "colab": {},
    "colab_type": "code",
    "id": "LVJ_l-x2LPnC",
    "outputId": "d4a19c7a-16fe-4b5b-c3d1-aa1ef0f948a0",
    "scrolled": false
   },
   "outputs": [
    {
     "name": "stdout",
     "output_type": "stream",
     "text": [
      "\n",
      "The shape of the data matrix after deduplication, Stage 2: : (364171, 12)\n",
      "The median score values after deduplication : 4.27579626054793\n",
      "The number of positive and negative reviews after the removal of duplicate data.\n",
      "Positive    307061\n",
      "Negative     57110\n",
      "Name: SentimentPolarity, dtype: int64\n",
      "\n",
      "Checking to see how much percentage of data still remains.\n",
      "Percentage of redundant data removed : 30.741478926008057\n",
      "Percentage of original data retained : 69.25852107399194\n",
      "\n",
      "First 5 rows of the final data matrix after de-duplication and intial processing of the original dataset.\n"
     ]
    },
    {
     "data": {
      "text/html": [
       "<div>\n",
       "<style scoped>\n",
       "    .dataframe tbody tr th:only-of-type {\n",
       "        vertical-align: middle;\n",
       "    }\n",
       "\n",
       "    .dataframe tbody tr th {\n",
       "        vertical-align: top;\n",
       "    }\n",
       "\n",
       "    .dataframe thead th {\n",
       "        text-align: right;\n",
       "    }\n",
       "</style>\n",
       "<table border=\"1\" class=\"dataframe\">\n",
       "  <thead>\n",
       "    <tr style=\"text-align: right;\">\n",
       "      <th></th>\n",
       "      <th>Id</th>\n",
       "      <th>ProductId</th>\n",
       "      <th>UserId</th>\n",
       "      <th>ProfileName</th>\n",
       "      <th>HelpfulnessNumerator</th>\n",
       "      <th>HelpfulnessDenominator</th>\n",
       "      <th>Score</th>\n",
       "      <th>Time</th>\n",
       "      <th>Summary</th>\n",
       "      <th>Text</th>\n",
       "      <th>SentimentPolarity</th>\n",
       "      <th>Class_Labels</th>\n",
       "    </tr>\n",
       "  </thead>\n",
       "  <tbody>\n",
       "    <tr>\n",
       "      <th>122486</th>\n",
       "      <td>132756</td>\n",
       "      <td>B000O3KMKG</td>\n",
       "      <td>AAB6ZMWFCK4GO</td>\n",
       "      <td>Bill Gary</td>\n",
       "      <td>0</td>\n",
       "      <td>0</td>\n",
       "      <td>5</td>\n",
       "      <td>1351209600</td>\n",
       "      <td>Excellent</td>\n",
       "      <td>The Premium Bourbon Madagascar Vanilla Vannila...</td>\n",
       "      <td>Positive</td>\n",
       "      <td>1</td>\n",
       "    </tr>\n",
       "    <tr>\n",
       "      <th>435165</th>\n",
       "      <td>470583</td>\n",
       "      <td>B001LUM1ZU</td>\n",
       "      <td>A3HJN5HU71FQIT</td>\n",
       "      <td>muxicboxsuprhero</td>\n",
       "      <td>0</td>\n",
       "      <td>0</td>\n",
       "      <td>1</td>\n",
       "      <td>1351209600</td>\n",
       "      <td>God Awful</td>\n",
       "      <td>As a dabbler who enjoys spanning the entire sp...</td>\n",
       "      <td>Negative</td>\n",
       "      <td>0</td>\n",
       "    </tr>\n",
       "    <tr>\n",
       "      <th>279857</th>\n",
       "      <td>303246</td>\n",
       "      <td>B0002DGRZC</td>\n",
       "      <td>AUINI96NMGXUI</td>\n",
       "      <td>Kkrys23</td>\n",
       "      <td>0</td>\n",
       "      <td>0</td>\n",
       "      <td>5</td>\n",
       "      <td>1351209600</td>\n",
       "      <td>Love this faucet</td>\n",
       "      <td>Love this faucet.  My husband had installed th...</td>\n",
       "      <td>Positive</td>\n",
       "      <td>1</td>\n",
       "    </tr>\n",
       "    <tr>\n",
       "      <th>279856</th>\n",
       "      <td>303245</td>\n",
       "      <td>B0002DGRZC</td>\n",
       "      <td>A3SSEJ8IEM4YGW</td>\n",
       "      <td>Seagaul</td>\n",
       "      <td>0</td>\n",
       "      <td>0</td>\n",
       "      <td>5</td>\n",
       "      <td>1351209600</td>\n",
       "      <td>Dogs love it.</td>\n",
       "      <td>This is the \"all gone\" treat after dinner.  It...</td>\n",
       "      <td>Positive</td>\n",
       "      <td>1</td>\n",
       "    </tr>\n",
       "    <tr>\n",
       "      <th>466254</th>\n",
       "      <td>504114</td>\n",
       "      <td>B001M0AKE8</td>\n",
       "      <td>A07112861KSNE1D0ZA1NO</td>\n",
       "      <td>Canon Fan</td>\n",
       "      <td>0</td>\n",
       "      <td>0</td>\n",
       "      <td>4</td>\n",
       "      <td>1351209600</td>\n",
       "      <td>Quaker Instant Oatmeal Dinosaur Eggs</td>\n",
       "      <td>This has been a firm favorite at breakfast tim...</td>\n",
       "      <td>Positive</td>\n",
       "      <td>1</td>\n",
       "    </tr>\n",
       "  </tbody>\n",
       "</table>\n",
       "</div>"
      ],
      "text/plain": [
       "            Id   ProductId                 UserId       ProfileName  \\\n",
       "122486  132756  B000O3KMKG          AAB6ZMWFCK4GO         Bill Gary   \n",
       "435165  470583  B001LUM1ZU         A3HJN5HU71FQIT  muxicboxsuprhero   \n",
       "279857  303246  B0002DGRZC          AUINI96NMGXUI           Kkrys23   \n",
       "279856  303245  B0002DGRZC         A3SSEJ8IEM4YGW           Seagaul   \n",
       "466254  504114  B001M0AKE8  A07112861KSNE1D0ZA1NO         Canon Fan   \n",
       "\n",
       "        HelpfulnessNumerator  HelpfulnessDenominator  Score        Time  \\\n",
       "122486                     0                       0      5  1351209600   \n",
       "435165                     0                       0      1  1351209600   \n",
       "279857                     0                       0      5  1351209600   \n",
       "279856                     0                       0      5  1351209600   \n",
       "466254                     0                       0      4  1351209600   \n",
       "\n",
       "                                     Summary  \\\n",
       "122486                             Excellent   \n",
       "435165                             God Awful   \n",
       "279857                      Love this faucet   \n",
       "279856                         Dogs love it.   \n",
       "466254  Quaker Instant Oatmeal Dinosaur Eggs   \n",
       "\n",
       "                                                     Text SentimentPolarity  \\\n",
       "122486  The Premium Bourbon Madagascar Vanilla Vannila...          Positive   \n",
       "435165  As a dabbler who enjoys spanning the entire sp...          Negative   \n",
       "279857  Love this faucet.  My husband had installed th...          Positive   \n",
       "279856  This is the \"all gone\" treat after dinner.  It...          Positive   \n",
       "466254  This has been a firm favorite at breakfast tim...          Positive   \n",
       "\n",
       "        Class_Labels  \n",
       "122486             1  \n",
       "435165             0  \n",
       "279857             1  \n",
       "279856             1  \n",
       "466254             1  "
      ]
     },
     "execution_count": 41,
     "metadata": {},
     "output_type": "execute_result"
    }
   ],
   "source": [
    "#Display information about the dataset after the removal of duplicate data.\n",
    "print(\"\\nThe shape of the data matrix after deduplication, Stage 2: : {}\".format(final_data.shape))\n",
    "print(\"The median score values after deduplication : {}\".format(final_data['Score'].mean()))\n",
    "print(\"The number of positive and negative reviews after the removal of duplicate data.\")\n",
    "print(final_data[\"SentimentPolarity\"].value_counts())\n",
    "\n",
    "#Checking to see how much % of data still remains.\n",
    "print(\"\\nChecking to see how much percentage of data still remains.\")\n",
    "retained_per = (final_data['SentimentPolarity'].size*1.0)/(filtered_data['SentimentPolarity'].size*1.0)*100\n",
    "removed_per = 100 - retained_per\n",
    "print(\"Percentage of redundant data removed : {}\".format(removed_per))\n",
    "print(\"Percentage of original data retained : {}\".format(retained_per))\n",
    "\n",
    "#Delete unwanted variables to free up memory space\n",
    "del(filtered_duplicates, filtered_data, display, sorted_data)\n",
    "\n",
    "#Display the first 5 rows of the final data matrix after de-duplication and intial processing of the original dataset.\n",
    "print(\"\\nFirst 5 rows of the final data matrix after de-duplication and intial processing of the original dataset.\")\n",
    "final_data.head(5)"
   ]
  },
  {
   "cell_type": "code",
   "execution_count": 42,
   "metadata": {
    "scrolled": true
   },
   "outputs": [
    {
     "data": {
      "text/plain": [
       "<matplotlib.axes._subplots.AxesSubplot at 0x7fb63d1ebf60>"
      ]
     },
     "execution_count": 42,
     "metadata": {},
     "output_type": "execute_result"
    },
    {
     "data": {
      "image/png": "[encoded data removed]",
      "text/plain": [
       "<Figure size 360x360 with 1 Axes>"
      ]
     },
     "metadata": {},
     "output_type": "display_data"
    }
   ],
   "source": [
    "#Display distribution of Postive and Negative reviews in a bar graph\n",
    "final_data[\"Class_Labels\"].value_counts().plot(kind='bar',color=['green','red'],title='Distribution Of Positive and Negative reviews after De-Duplication.',figsize=(5,5))"
   ]
  },
  {
   "cell_type": "markdown",
   "metadata": {
    "colab_type": "text",
    "id": "GrTYWzYrLPnH"
   },
   "source": [
    "#  [3] Preprocessing"
   ]
  },
  {
   "cell_type": "markdown",
   "metadata": {
    "colab_type": "text",
    "id": "zbvLitZeLPnI"
   },
   "source": [
    "## [3.1].  Preprocessing Review Text\n",
    "\n",
    "Now that we have finished deduplication our data requires some preprocessing before we go on further with analysis and making the prediction model.\n",
    "\n",
    "Hence in the Preprocessing phase we do the following in the order below:-\n",
    "\n",
    "1. Begin by removing the html tags\n",
    "2. Remove any punctuations or limited set of special characters like , or . or # etc.\n",
    "3. Check if the word is made up of english letters and is not alpha-numeric\n",
    "4. Check to see if the length of the word is greater than 2 (as it was researched that there is no adjective in 2-letters)\n",
    "5. Convert the word to lowercase\n",
    "6. Remove Stopwords\n",
    "7. Finally Snowball Stemming the word (it was obsereved to be better than Porter Stemming)<br>\n",
    "\n",
    "After which we collect the words used to describe positive and negative reviews"
   ]
  },
  {
   "cell_type": "code",
   "execution_count": 43,
   "metadata": {
    "colab": {},
    "colab_type": "code",
    "id": "yYDc0ZXALPnK",
    "outputId": "5403fab9-796a-493d-f9d3-2a410d004f64",
    "scrolled": false
   },
   "outputs": [
    {
     "name": "stdout",
     "output_type": "stream",
     "text": [
      "The Premium Bourbon Madagascar Vanilla Vannila Beans were exactly as described in the ad.  They arrived promptly and I have made my first batch of homemade French Vanilla Creamer with them.  They are wonderful.\n",
      "Review Polarity: Positive\n",
      "=======================================================================================================================================================================================================================\n",
      "I was concerned about the what the expiration dates might be on these canned items, but they were good until 2015. This is a good deal.\n",
      "Review Polarity: Positive\n",
      "=======================================================================================================================================================================================================================\n",
      "This is my first time trying coconut oil.  I was happy that the oil has a very mild flavor.  I did try cooking with it by adding some to butter when cooking eggs.  I didn't taste any coconut, so I was happy with that.<br /><br />Overall, it is a good product because it didn't have a strong taste and I will be purchasing it again.\n",
      "Review Polarity: Positive\n",
      "=======================================================================================================================================================================================================================\n",
      "At first I too loved this shampoo. After only 2 weeks (washing 3 times a week) my hair started falling out in huge amounts. I quit using it and after a month there seems to be less fall out. My once thick native hair is now weak and thin. My daughter also had the same results.\n",
      "Review Polarity: Negative\n",
      "=======================================================================================================================================================================================================================\n",
      "Excellent service, the product arrived on time and same presentation I asked for. Will count for a next purchase with them.\n",
      "Review Polarity: Positive\n",
      "=======================================================================================================================================================================================================================\n",
      "I recently bought this maple-flavored Agave syrup and absolutely loved the maple flavor on my homemade oat pancakes and french toast. I had to stop consuming sugar and real maple syrup and this is the best substitute so far.  I only use 1 tablespoon on 2 pancakes or french toast. To cut calories, I also use I can't Believe it's Not Butter spray that has no calories or fat. I did buy it at my local health store in south Florida.\n",
      "Review Polarity: Positive\n",
      "=======================================================================================================================================================================================================================\n"
     ]
    }
   ],
   "source": [
    "#Printing some random reviews from the deduplicated dataset.\n",
    "sent_1 = final_data['Text'].values[0]\n",
    "print(sent_1)\n",
    "print(\"Review Polarity: {}\".format(final_data['SentimentPolarity'].values[0]))\n",
    "print(\"=\"*215)\n",
    "\n",
    "sent_2 = final_data['Text'].values[1000]\n",
    "print(sent_2)\n",
    "print(\"Review Polarity: {}\".format(final_data['SentimentPolarity'].values[1000]))\n",
    "print(\"=\"*215)\n",
    "\n",
    "sent_3 = final_data['Text'].values[1500]\n",
    "print(sent_3)\n",
    "print(\"Review Polarity: {}\".format(final_data['SentimentPolarity'].values[1500]))\n",
    "print(\"=\"*215)\n",
    "\n",
    "sent_4 = final_data['Text'].values[4900]\n",
    "print(sent_4)\n",
    "print(\"Review Polarity: {}\".format(final_data['SentimentPolarity'].values[4900]))\n",
    "print(\"=\"*215)\n",
    "\n",
    "sent_5 = final_data['Text'].values[12566]\n",
    "print(sent_5)\n",
    "print(\"Review Polarity: {}\".format(final_data['SentimentPolarity'].values[12566]))\n",
    "print(\"=\"*215)\n",
    "\n",
    "sent_6 = final_data['Text'].values[255600]\n",
    "print(sent_6)\n",
    "print(\"Review Polarity: {}\".format(final_data['SentimentPolarity'].values[255600]))\n",
    "print(\"=\"*215)"
   ]
  },
  {
   "cell_type": "code",
   "execution_count": 44,
   "metadata": {
    "colab": {},
    "colab_type": "code",
    "id": "AxYh-wPiLPnS",
    "outputId": "31bddcb2-6c52-4b16-f9fb-c03d5b3bb7c8",
    "scrolled": false
   },
   "outputs": [
    {
     "name": "stdout",
     "output_type": "stream",
     "text": [
      "The Premium Bourbon Madagascar Vanilla Vannila Beans were exactly as described in the ad.  They arrived promptly and I have made my first batch of homemade French Vanilla Creamer with them.  They are wonderful. \n",
      "\n",
      "=======================================================================================================================================================================================================================\n",
      "I was concerned about the what the expiration dates might be on these canned items, but they were good until 2015. This is a good deal. \n",
      "\n",
      "=======================================================================================================================================================================================================================\n",
      "This is my first time trying coconut oil.  I was happy that the oil has a very mild flavor.  I did try cooking with it by adding some to butter when cooking eggs.  I didn't taste any coconut, so I was happy with that.<br /><br />Overall, it is a good product because it didn't have a strong taste and I will be purchasing it again. \n",
      "\n",
      "=======================================================================================================================================================================================================================\n",
      "At first I too loved this shampoo. After only 2 weeks (washing 3 times a week) my hair started falling out in huge amounts. I quit using it and after a month there seems to be less fall out. My once thick native hair is now weak and thin. My daughter also had the same results. \n",
      "\n",
      "=======================================================================================================================================================================================================================\n",
      "Excellent service, the product arrived on time and same presentation I asked for. Will count for a next purchase with them. \n",
      "\n",
      "=======================================================================================================================================================================================================================\n",
      "I recently bought this maple-flavored Agave syrup and absolutely loved the maple flavor on my homemade oat pancakes and french toast. I had to stop consuming sugar and real maple syrup and this is the best substitute so far.  I only use 1 tablespoon on 2 pancakes or french toast. To cut calories, I also use I can't Believe it's Not Butter spray that has no calories or fat. I did buy it at my local health store in south Florida. \n",
      "\n",
      "=======================================================================================================================================================================================================================\n"
     ]
    }
   ],
   "source": [
    "#Remove urls from text python: https://stackoverflow.com/a/40823105/4084039\n",
    "sent_1 = re.sub(r\"http\\S+\", \" \", sent_1)\n",
    "sent_2 = re.sub(r\"http\\S+\", \" \", sent_2)\n",
    "sent_3 = re.sub(r\"http\\S+\", \" \", sent_3)\n",
    "sent_4 = re.sub(r\"http\\S+\", \" \", sent_4)\n",
    "sent_5 = re.sub(r\"http\\S+\", \" \", sent_5)\n",
    "sent_6 = re.sub(r\"http\\S+\", \" \", sent_6)\n",
    "\n",
    "print(sent_1,\"\\n\")\n",
    "print(\"=\"*215)\n",
    "print(sent_2,\"\\n\")\n",
    "print(\"=\"*215)\n",
    "print(sent_3,\"\\n\")\n",
    "print(\"=\"*215)\n",
    "print(sent_4,\"\\n\")\n",
    "print(\"=\"*215)\n",
    "print(sent_5,\"\\n\")\n",
    "print(\"=\"*215)\n",
    "print(sent_6,\"\\n\")\n",
    "print(\"=\"*215)"
   ]
  },
  {
   "cell_type": "code",
   "execution_count": 45,
   "metadata": {
    "colab": {},
    "colab_type": "code",
    "id": "JMSSWjZqLPne",
    "outputId": "eb1bae4e-6f37-45ee-84a3-ef3bebf4e30a",
    "scrolled": false
   },
   "outputs": [
    {
     "name": "stdout",
     "output_type": "stream",
     "text": [
      "The Premium Bourbon Madagascar Vanilla Vannila Beans were exactly as described in the ad.  They arrived promptly and I have made my first batch of homemade French Vanilla Creamer with them.  They are wonderful.\n",
      "\n",
      "I was concerned about the what the expiration dates might be on these canned items, but they were good until 2015. This is a good deal.\n",
      "\n",
      "This is my first time trying coconut oil.  I was happy that the oil has a very mild flavor.  I did try cooking with it by adding some to butter when cooking eggs.  I didn't taste any coconut, so I was happy with that.  Overall, it is a good product because it didn't have a strong taste and I will be purchasing it again.\n",
      "\n",
      "At first I too loved this shampoo. After only 2 weeks (washing 3 times a week) my hair started falling out in huge amounts. I quit using it and after a month there seems to be less fall out. My once thick native hair is now weak and thin. My daughter also had the same results.\n",
      "\n",
      "Excellent service, the product arrived on time and same presentation I asked for. Will count for a next purchase with them.\n",
      "\n",
      "I recently bought this maple-flavored Agave syrup and absolutely loved the maple flavor on my homemade oat pancakes and french toast. I had to stop consuming sugar and real maple syrup and this is the best substitute so far.  I only use 1 tablespoon on 2 pancakes or french toast. To cut calories, I also use I can't Believe it's Not Butter spray that has no calories or fat. I did buy it at my local health store in south Florida.\n",
      "\n"
     ]
    }
   ],
   "source": [
    "#Function to clean html tags from a sentence\n",
    "def removeHtml(sentence): \n",
    "    pattern = re.compile('<.*?>')\n",
    "    cleaned_text = re.sub(pattern,' ',sentence)\n",
    "    return cleaned_text\n",
    "\n",
    "\n",
    "print(removeHtml(sent_1) + \"\\n\")\n",
    "print(removeHtml(sent_2) + \"\\n\")\n",
    "print(removeHtml(sent_3) + \"\\n\")\n",
    "print(removeHtml(sent_4) + \"\\n\")\n",
    "print(removeHtml(sent_5) + \"\\n\")\n",
    "print(removeHtml(sent_6) + \"\\n\")"
   ]
  },
  {
   "cell_type": "code",
   "execution_count": 46,
   "metadata": {
    "colab": {},
    "colab_type": "code",
    "id": "BEtpMkhULPnt",
    "scrolled": true
   },
   "outputs": [],
   "source": [
    "# https://stackoverflow.com/a/47091490/4084039\n",
    "# https://en.wikipedia.org/wiki/Wikipedia:List_of_English_contractions\n",
    "import re\n",
    "\n",
    "#Expand the reviews x is aninput string of any length. Convert all the words to lower case\n",
    "def decontracted(x):\n",
    "    x = str(x).lower()\n",
    "    x = x.replace(\",000,000\", \" m\").replace(\",000\", \" k\").replace(\"′\", \"'\").replace(\"’\", \"'\")\\\n",
    "                           .replace(\"won't\", \" will not\").replace(\"cannot\", \" can not\").replace(\"can't\", \" can not\")\\\n",
    "                           .replace(\"n't\", \" not\").replace(\"what's\", \" what is\").replace(\"it's\", \" it is\")\\\n",
    "                           .replace(\"'ve\", \" have\").replace(\"'m\", \" am\").replace(\"'re\", \" are\")\\\n",
    "                           .replace(\"he's\", \" he is\").replace(\"she's\", \" she is\").replace(\"'s\", \" own\")\\\n",
    "                           .replace(\"%\", \" percent \").replace(\"₹\", \" rupee \").replace(\"$\", \" dollar \")\\\n",
    "                           .replace(\"€\", \" euro \").replace(\"'ll\", \" will\").replace(\"how's\",\" how has\").replace(\"y'all\",\" you all\")\\\n",
    "                           .replace(\"o'clock\",\" of the clock\").replace(\"ne'er\",\" never\").replace(\"let's\",\" let us\")\\\n",
    "                           .replace(\"finna\",\" fixing to\").replace(\"gonna\",\" going to\").replace(\"gimme\",\" give me\").replace(\"gotta\",\" got to\").replace(\"'d\",\" would\")\\\n",
    "                           .replace(\"daresn't\",\" dare not\").replace(\"dasn't\",\" dare not\").replace(\"e'er\",\" ever\").replace(\"everyone's\",\" everyone is\")\\\n",
    "                           .replace(\"'cause'\",\" because\")\n",
    "    \n",
    "    x = re.sub(r\"([0-9]+)000000\", r\"\\1m\", x)\n",
    "    x = re.sub(r\"([0-9]+)000\", r\"\\1k\", x)\n",
    "    return x"
   ]
  },
  {
   "cell_type": "code",
   "execution_count": 47,
   "metadata": {
    "colab": {},
    "colab_type": "code",
    "id": "Kl8nOoL-LPn3",
    "outputId": "16742d57-2529-4fc0-9d28-e9332dbbca97",
    "scrolled": true
   },
   "outputs": [
    {
     "name": "stdout",
     "output_type": "stream",
     "text": [
      "The Premium Bourbon Madagascar Vanilla Vannila Beans were exactly as described in the ad.  They arrived promptly and I have made my first batch of homemade French Vanilla Creamer with them.  They are wonderful.\n"
     ]
    }
   ],
   "source": [
    "#remove words with numbers python: https://stackoverflow.com/a/18082370/4084039\n",
    "'''\n",
    ">>> import re\n",
    ">>> s = \"ABCD abcd AB55 55CD A55D 5555\"\n",
    ">>> re.sub(\"\\S*\\d\\S*\", \"\", s).strip()\n",
    "\n",
    "'ABCD abcd'\n",
    ">>>'''\n",
    "\n",
    "sent_1 = re.sub(\"\\S*\\d\\S*\", \" \", sent_1).strip()\n",
    "print(sent_1)"
   ]
  },
  {
   "cell_type": "code",
   "execution_count": 73,
   "metadata": {
    "colab": {},
    "colab_type": "code",
    "id": "EGB6X2uxLPn7",
    "outputId": "dbd754e5-eb73-4b3a-f3c3-7b1b40952851",
    "scrolled": true
   },
   "outputs": [],
   "source": [
    "'''Data Cleaning Stage. Clean each review from the sampled Amazon Dataset.'''\n",
    "#Data Cleaning Stage. Clean each review from the sampled Amazon Dataset\n",
    "\n",
    "''' pattern = re.compile('<.*?>') #Function to clean html tags from a sentence\n",
    "    cleaned_text = re.sub(pattern,' ',sentence)\n",
    "    return cleaned_text'''\n",
    "\n",
    "#Remove words with numbers python: https://stackoverflow.com/a/18082370/4084039\n",
    "def removeNumbers(sentence):\n",
    "    sentence = re.sub(\"\\S*\\d\\S*\", \" \", sentence).strip()\n",
    "    return (sentence)\n",
    "\n",
    "#Function to clean html tags from a sentence\n",
    "def removeHtml(sentence): \n",
    "    pattern = re.compile('<.*?>')\n",
    "    cleaned_text = re.sub(pattern,' ',sentence)\n",
    "    return cleaned_text\n",
    "\n",
    "#Remove URL from sentences.\n",
    "def removeURL(sentence):\n",
    "    text = re.sub(r\"http\\S+\", \" \", sentence)\n",
    "    sentence = re.sub(r\"www.\\S+\", \" \", text)\n",
    "    return (sentence)\n",
    "    \n",
    "#Function to keep only words containing letters A-Z and a-z. This will remove all punctuations, special characters etc. https://stackoverflow.com/a/5843547/4084039\n",
    "def removePunctuations(sentence):\n",
    "    cleaned_text  = re.sub('[^a-zA-Z]',' ',sentence)\n",
    "    return (cleaned_text)\n",
    "\n",
    "#https://stackoverflow.com/questions/37012948/regex-to-match-an-entire-word-that-contains-repeated-character\n",
    "#Remove words like 'zzzzzzzzzzzzzzzzzzzzzzz', 'testtting', 'grrrrrrreeeettttt' etc. Preserves words like 'looks', 'goods', 'soon' etc. We will remove all such words which has three consecutive repeating characters.\n",
    "def removePatterns(sentence): \n",
    "    cleaned_text  = re.sub(\"\\\\s*\\\\b(?=\\\\w*(\\\\w)\\\\1{2,})\\\\w*\\\\b\",' ',sentence)\n",
    "    return (cleaned_text)"
   ]
  },
  {
   "cell_type": "code",
   "execution_count": 49,
   "metadata": {
    "colab": {},
    "colab_type": "code",
    "id": "CCurSJJ2LPn_",
    "scrolled": true
   },
   "outputs": [],
   "source": [
    "#Stemming and stopwords removal\n",
    "from nltk.stem.snowball import SnowballStemmer\n",
    "sno = SnowballStemmer(language='english')\n",
    "\n",
    "#Removing the word 'not' from stopwords\n",
    "default_stopwords = set(stopwords.words('english'))\n",
    "remove_not = set(['no', 'nor', 'not'])\n",
    "custom_stopwords = default_stopwords - remove_not"
   ]
  },
  {
   "cell_type": "markdown",
   "metadata": {},
   "source": [
    "<h2><font color='red'>[3.1] Preprocessing Review Text</font></h2>"
   ]
  },
  {
   "cell_type": "code",
   "execution_count": 71,
   "metadata": {
    "scrolled": false
   },
   "outputs": [
    {
     "name": "stderr",
     "output_type": "stream",
     "text": [
      "100%|██████████| 364171/364171 [07:29<00:00, 810.97it/s] \n",
      "100%|██████████| 70246/70246 [00:00<00:00, 797137.23it/s]\n"
     ]
    },
    {
     "data": {
      "text/plain": [
       "Text(0,0.5,'Number of Words')"
      ]
     },
     "execution_count": 71,
     "metadata": {},
     "output_type": "execute_result"
    },
    {
     "data": {
      "image/png": "[encoded data removed]",
      "text/plain": [
       "<Figure size 1440x720 with 1 Axes>"
      ]
     },
     "metadata": {},
     "output_type": "display_data"
    }
   ],
   "source": [
    "#We will check the distribution of stemmed word lengths across the whole review dataset to understand what is the length of the maximum number of words we will consider for the word to be relevant.\n",
    "#In other words we will keep only those words which has a length less than that of a speicific length (we will obtain this specific length from the histogram).\n",
    "total_words = []\n",
    "\n",
    "for review in tqdm(final_data['Text'].values):\n",
    "    filtered_sentence=[]\n",
    "    review = decontracted(review)\n",
    "    review = removeNumbers(review)\n",
    "    review = removeHtml(review)\n",
    "    review = removeURL(review)\n",
    "    review = removePunctuations(review)\n",
    "    review = removePatterns(review)\n",
    "    \n",
    "    for cleaned_words in review.split():   \n",
    "        if((cleaned_words not in custom_stopwords)):          \n",
    "            stemed_word=(sno.stem(cleaned_words.lower()))\n",
    "            total_words.append(stemed_word)\n",
    "\n",
    "total_words = list(set(total_words)) #Get list of unique words.\n",
    "\n",
    "#A list to hold the length of each words used in all the reviews used across the whole dataset.\n",
    "dist = []\n",
    "for i in tqdm(total_words):\n",
    "    length = len(i)\n",
    "    dist.append(length)\n",
    "\n",
    "# matplotlib histogram to see the distribution of the length of words\n",
    "plt.figure(figsize=(20,10))\n",
    "plt.hist(dist, color = 'red', edgecolor = 'blue', bins =90)\n",
    "plt.title('Distribution of the length of Words across all reviews.')\n",
    "plt.xlabel('Word Lengths')\n",
    "plt.ylabel('Number of Words')"
   ]
  },
  {
   "cell_type": "markdown",
   "metadata": {},
   "source": [
    "### Conclusion from the above histogram:\n",
    "We can see that most stemmed words present in the reviews has lengths between 4 and 10. Words which has length greater than 15 are very very very few as compared to other words. So we will discard these words from the reviews when we process them. It means we will consider only those words whose length is greater than 2 and less than 16."
   ]
  },
  {
   "cell_type": "code",
   "execution_count": 74,
   "metadata": {
    "colab": {},
    "colab_type": "code",
    "id": "mFHQEvfnLPoF",
    "outputId": "5cd6bcc3-54fe-4a8e-a39d-d6dabf3f37f9",
    "scrolled": true
   },
   "outputs": [
    {
     "name": "stderr",
     "output_type": "stream",
     "text": [
      "100%|██████████| 364171/364171 [11:37<00:00, 521.74it/s]\n"
     ]
    },
    {
     "name": "stdout",
     "output_type": "stream",
     "text": [
      "The length of the data corpus is : 364171\n"
     ]
    }
   ],
   "source": [
    "# Combining all the above data cleaning methodologies as discussed above.\n",
    "\n",
    "#Processing review Texts\n",
    "preprocessed_reviews = [] #Store all the processed reviews\n",
    "all_positive_words=[] #Store all the relevant words from Positive reviews\n",
    "all_negative_words=[] #Store all the relevant words from Negative reviews\n",
    " \n",
    "count=0     #Iterator to iterate through the list of reviews and check if a given review belongs to the positive or negative class\n",
    "string=' '    \n",
    "stemed_word=' '\n",
    "\n",
    "for review in tqdm(final_data['Text'].values):\n",
    "    filtered_sentence=[]\n",
    "    review = decontracted(review)\n",
    "    review = removeNumbers(review)\n",
    "    review = removeHtml(review)\n",
    "    review = removeURL(review)\n",
    "    review = removePunctuations(review)\n",
    "    review = removePatterns(review)\n",
    "    \n",
    "    for cleaned_words in review.split():   \n",
    "        if((cleaned_words not in custom_stopwords) and (2<len(cleaned_words)<16)):\n",
    "            stemed_word=(sno.stem(cleaned_words.lower()))                                   \n",
    "            filtered_sentence.append(stemed_word)\n",
    "            if (final_data['SentimentPolarity'].values)[count] == 'Positive': \n",
    "                all_positive_words.append(stemed_word) #List of all the relevant words from Positive reviews\n",
    "            if(final_data['SentimentPolarity'].values)[count] == 'Negative':\n",
    "                all_negative_words.append(stemed_word) #List of all the relevant words from Negative reviews\n",
    "        else:\n",
    "            continue\n",
    "    review = \" \".join(filtered_sentence) #Final string of cleaned words    \n",
    "    preprocessed_reviews.append(review.strip()) #Data corpus contaning cleaned reviews from the whole dataset\n",
    "    count+=1\n",
    "    \n",
    "#Save the list of positive words and negative words\n",
    "import pickle\n",
    "with open('all_positive_words.pkl', 'wb') as file:\n",
    "    pickle.dump(all_positive_words, file)\n",
    "    \n",
    "with open('all_negative_words.pkl', 'wb') as file:\n",
    "    pickle.dump(all_negative_words, file)\n",
    "    \n",
    "#Adding a column of CleanedText to the table final which stores the data_corpus after pre-processing the reviews \n",
    "final_data['CleanedText']=preprocessed_reviews \n",
    "    \n",
    "print(\"The length of the data corpus is : {}\".format(len(preprocessed_reviews)))\n",
    "\n",
    "#Adding a column of CleanedText to the table final which stores the data_corpus after pre-processing the reviews \n",
    "final_data['CleanedText']=preprocessed_reviews"
   ]
  },
  {
   "cell_type": "markdown",
   "metadata": {
    "colab_type": "text",
    "id": "9IuKp2HULPoL"
   },
   "source": [
    "<h2><font color='red'>[3.2] Preprocessing Review Summary + Saving the Processed DB for future use.</font></h2>"
   ]
  },
  {
   "cell_type": "code",
   "execution_count": 79,
   "metadata": {
    "colab": {},
    "colab_type": "code",
    "id": "Qk7gYOmKLPoM",
    "scrolled": false
   },
   "outputs": [
    {
     "name": "stdout",
     "output_type": "stream",
     "text": [
      "File is saved as 'totally_processed_DB.sqlite'\n"
     ]
    }
   ],
   "source": [
    "## Similartly you can do preprocessing for summary summary also.\n",
    "import warnings\n",
    "warnings.filterwarnings(\"ignore\")\n",
    "\n",
    "preprocessed_summary = [] #Store all the processed summary\n",
    " \n",
    "count=0     #Iterator to iterate through the list of summarys and check if a given summary belongs to the positive or negative class\n",
    "string=' '    \n",
    "stemed_word=' '\n",
    "\n",
    "for summary in tqdm(final_data['Summary'].values):\n",
    "    filtered_sentence=[]\n",
    "    summary = decontracted(summary)\n",
    "    summary = removeNumbers(summary)\n",
    "    summary = removeHtml(summary)\n",
    "    summary = removeURL(summary)\n",
    "    summary = removePunctuations(summary)\n",
    "    summary = removePatterns(summary)\n",
    "    \n",
    "    for cleaned_words in summary.split():\n",
    "        if(2<len(cleaned_words)<16):\n",
    "            stemed_word=(sno.stem(cleaned_words.lower()))\n",
    "            filtered_sentence.append(stemed_word)\n",
    "    summary = \" \".join(filtered_sentence) #Final string of cleaned words    \n",
    "    preprocessed_summary.append(summary.strip()) #Data corpus contaning cleaned summarys from the whole dataset\n",
    "    count+=1\n",
    "    \n",
    "#Adding a column of CleanedSummary to the table final which stores the data_corpus after pre-processing the summarys \n",
    "final_data['CleanedSummary']=preprocessed_summary\n",
    "\n",
    "#Combing the reviews with summary for each sentence\n",
    "final_data['Combined_Reviews'] = final_data['CleanedText'].values + \" \" + final_data['CleanedSummary'].values \n",
    "\n",
    "#Store final table into an SQlLite table for future.\n",
    "connection_sqlobject = sqlite3.connect('totally_processed_DB.sqlite')\n",
    "c=connection_sqlobject.cursor()\n",
    "connection_sqlobject.text_factory = str\n",
    "final_data.to_sql('Reviews', connection_sqlobject, schema=None, if_exists='replace', index=True)\n",
    "\n",
    "print(\"File is saved as 'totally_processed_DB.sqlite'\")"
   ]
  },
  {
   "cell_type": "markdown",
   "metadata": {
    "colab_type": "text",
    "id": "B93jqKuhLPoQ"
   },
   "source": [
    "# [4] Featurization"
   ]
  },
  {
   "cell_type": "code",
   "execution_count": 4,
   "metadata": {
    "scrolled": false
   },
   "outputs": [
    {
     "data": {
      "text/html": [
       "<div>\n",
       "<style scoped>\n",
       "    .dataframe tbody tr th:only-of-type {\n",
       "        vertical-align: middle;\n",
       "    }\n",
       "\n",
       "    .dataframe tbody tr th {\n",
       "        vertical-align: top;\n",
       "    }\n",
       "\n",
       "    .dataframe thead th {\n",
       "        text-align: right;\n",
       "    }\n",
       "</style>\n",
       "<table border=\"1\" class=\"dataframe\">\n",
       "  <thead>\n",
       "    <tr style=\"text-align: right;\">\n",
       "      <th></th>\n",
       "      <th>index</th>\n",
       "      <th>Id</th>\n",
       "      <th>ProductId</th>\n",
       "      <th>UserId</th>\n",
       "      <th>ProfileName</th>\n",
       "      <th>HelpfulnessNumerator</th>\n",
       "      <th>HelpfulnessDenominator</th>\n",
       "      <th>Score</th>\n",
       "      <th>Time</th>\n",
       "      <th>Summary</th>\n",
       "      <th>Text</th>\n",
       "      <th>SentimentPolarity</th>\n",
       "      <th>Class_Labels</th>\n",
       "      <th>CleanedText</th>\n",
       "      <th>CleanedSummary</th>\n",
       "      <th>Combined_Reviews</th>\n",
       "    </tr>\n",
       "  </thead>\n",
       "  <tbody>\n",
       "    <tr>\n",
       "      <th>0</th>\n",
       "      <td>122486</td>\n",
       "      <td>132756</td>\n",
       "      <td>B000O3KMKG</td>\n",
       "      <td>AAB6ZMWFCK4GO</td>\n",
       "      <td>Bill Gary</td>\n",
       "      <td>0</td>\n",
       "      <td>0</td>\n",
       "      <td>5</td>\n",
       "      <td>1351209600</td>\n",
       "      <td>Excellent</td>\n",
       "      <td>The Premium Bourbon Madagascar Vanilla Vannila...</td>\n",
       "      <td>Positive</td>\n",
       "      <td>1</td>\n",
       "      <td>premium bourbon madagascar vanilla vannila bea...</td>\n",
       "      <td>excel</td>\n",
       "      <td>premium bourbon madagascar vanilla vannila bea...</td>\n",
       "    </tr>\n",
       "    <tr>\n",
       "      <th>1</th>\n",
       "      <td>435165</td>\n",
       "      <td>470583</td>\n",
       "      <td>B001LUM1ZU</td>\n",
       "      <td>A3HJN5HU71FQIT</td>\n",
       "      <td>muxicboxsuprhero</td>\n",
       "      <td>0</td>\n",
       "      <td>0</td>\n",
       "      <td>1</td>\n",
       "      <td>1351209600</td>\n",
       "      <td>God Awful</td>\n",
       "      <td>As a dabbler who enjoys spanning the entire sp...</td>\n",
       "      <td>Negative</td>\n",
       "      <td>0</td>\n",
       "      <td>dabbler enjoy span entir spectrum tast will tr...</td>\n",
       "      <td>god aw</td>\n",
       "      <td>dabbler enjoy span entir spectrum tast will tr...</td>\n",
       "    </tr>\n",
       "    <tr>\n",
       "      <th>2</th>\n",
       "      <td>279857</td>\n",
       "      <td>303246</td>\n",
       "      <td>B0002DGRZC</td>\n",
       "      <td>AUINI96NMGXUI</td>\n",
       "      <td>Kkrys23</td>\n",
       "      <td>0</td>\n",
       "      <td>0</td>\n",
       "      <td>5</td>\n",
       "      <td>1351209600</td>\n",
       "      <td>Love this faucet</td>\n",
       "      <td>Love this faucet.  My husband had installed th...</td>\n",
       "      <td>Positive</td>\n",
       "      <td>1</td>\n",
       "      <td>love faucet husband instal one old hous curren...</td>\n",
       "      <td>love this faucet</td>\n",
       "      <td>love faucet husband instal one old hous curren...</td>\n",
       "    </tr>\n",
       "    <tr>\n",
       "      <th>3</th>\n",
       "      <td>279856</td>\n",
       "      <td>303245</td>\n",
       "      <td>B0002DGRZC</td>\n",
       "      <td>A3SSEJ8IEM4YGW</td>\n",
       "      <td>Seagaul</td>\n",
       "      <td>0</td>\n",
       "      <td>0</td>\n",
       "      <td>5</td>\n",
       "      <td>1351209600</td>\n",
       "      <td>Dogs love it.</td>\n",
       "      <td>This is the \"all gone\" treat after dinner.  It...</td>\n",
       "      <td>Positive</td>\n",
       "      <td>1</td>\n",
       "      <td>gone treat dinner treat dog work run chanc los...</td>\n",
       "      <td>dog love</td>\n",
       "      <td>gone treat dinner treat dog work run chanc los...</td>\n",
       "    </tr>\n",
       "    <tr>\n",
       "      <th>4</th>\n",
       "      <td>466254</td>\n",
       "      <td>504114</td>\n",
       "      <td>B001M0AKE8</td>\n",
       "      <td>A07112861KSNE1D0ZA1NO</td>\n",
       "      <td>Canon Fan</td>\n",
       "      <td>0</td>\n",
       "      <td>0</td>\n",
       "      <td>4</td>\n",
       "      <td>1351209600</td>\n",
       "      <td>Quaker Instant Oatmeal Dinosaur Eggs</td>\n",
       "      <td>This has been a firm favorite at breakfast tim...</td>\n",
       "      <td>Positive</td>\n",
       "      <td>1</td>\n",
       "      <td>firm favorit breakfast time hous mani year pic...</td>\n",
       "      <td>quaker instant oatmeal dinosaur egg</td>\n",
       "      <td>firm favorit breakfast time hous mani year pic...</td>\n",
       "    </tr>\n",
       "  </tbody>\n",
       "</table>\n",
       "</div>"
      ],
      "text/plain": [
       "    index      Id   ProductId                 UserId       ProfileName  \\\n",
       "0  122486  132756  B000O3KMKG          AAB6ZMWFCK4GO         Bill Gary   \n",
       "1  435165  470583  B001LUM1ZU         A3HJN5HU71FQIT  muxicboxsuprhero   \n",
       "2  279857  303246  B0002DGRZC          AUINI96NMGXUI           Kkrys23   \n",
       "3  279856  303245  B0002DGRZC         A3SSEJ8IEM4YGW           Seagaul   \n",
       "4  466254  504114  B001M0AKE8  A07112861KSNE1D0ZA1NO         Canon Fan   \n",
       "\n",
       "   HelpfulnessNumerator  HelpfulnessDenominator  Score        Time  \\\n",
       "0                     0                       0      5  1351209600   \n",
       "1                     0                       0      1  1351209600   \n",
       "2                     0                       0      5  1351209600   \n",
       "3                     0                       0      5  1351209600   \n",
       "4                     0                       0      4  1351209600   \n",
       "\n",
       "                                Summary  \\\n",
       "0                             Excellent   \n",
       "1                             God Awful   \n",
       "2                      Love this faucet   \n",
       "3                         Dogs love it.   \n",
       "4  Quaker Instant Oatmeal Dinosaur Eggs   \n",
       "\n",
       "                                                Text SentimentPolarity  \\\n",
       "0  The Premium Bourbon Madagascar Vanilla Vannila...          Positive   \n",
       "1  As a dabbler who enjoys spanning the entire sp...          Negative   \n",
       "2  Love this faucet.  My husband had installed th...          Positive   \n",
       "3  This is the \"all gone\" treat after dinner.  It...          Positive   \n",
       "4  This has been a firm favorite at breakfast tim...          Positive   \n",
       "\n",
       "   Class_Labels                                        CleanedText  \\\n",
       "0             1  premium bourbon madagascar vanilla vannila bea...   \n",
       "1             0  dabbler enjoy span entir spectrum tast will tr...   \n",
       "2             1  love faucet husband instal one old hous curren...   \n",
       "3             1  gone treat dinner treat dog work run chanc los...   \n",
       "4             1  firm favorit breakfast time hous mani year pic...   \n",
       "\n",
       "                        CleanedSummary  \\\n",
       "0                                excel   \n",
       "1                               god aw   \n",
       "2                     love this faucet   \n",
       "3                             dog love   \n",
       "4  quaker instant oatmeal dinosaur egg   \n",
       "\n",
       "                                    Combined_Reviews  \n",
       "0  premium bourbon madagascar vanilla vannila bea...  \n",
       "1  dabbler enjoy span entir spectrum tast will tr...  \n",
       "2  love faucet husband instal one old hous curren...  \n",
       "3  gone treat dinner treat dog work run chanc los...  \n",
       "4  firm favorit breakfast time hous mani year pic...  "
      ]
     },
     "execution_count": 4,
     "metadata": {},
     "output_type": "execute_result"
    }
   ],
   "source": [
    "'''Loading the Amazon dataset, Remove duplicate data.'''\n",
    "#Data Source: https://www.kaggle.com/snap/amazon-fine-food-reviews.\n",
    "connection_sqlobject = sqlite3.connect('totally_processed_DB.sqlite') \n",
    "processed_db = pd.read_sql_query(\"\"\" SELECT * FROM Reviews \"\"\", connection_sqlobject)\n",
    "\n",
    "#Split the data into train and test set. The train set will contain 100K old reviews. The test set has 30k newer reviews. We will also use 40K latest reviews as a calibration dataset to calibrate our model. \n",
    "X_train = processed_db['CleanedText'].iloc[150000:250000,] ; y_train = processed_db['Class_Labels'].iloc[150000:250000,]\n",
    "X_test = processed_db['CleanedText'].iloc[250000:280000,] ; y_test = processed_db['Class_Labels'].iloc[250000:280000,]\n",
    "X_calib = processed_db['CleanedText'].iloc[280000:320000,] ; y_calib = processed_db['Class_Labels'].iloc[280000:320000,]\n",
    "\n",
    "processed_db.head()"
   ]
  },
  {
   "cell_type": "code",
   "execution_count": 5,
   "metadata": {
    "scrolled": false
   },
   "outputs": [
    {
     "data": {
      "text/plain": [
       "<matplotlib.axes._subplots.AxesSubplot at 0x7efee6c84320>"
      ]
     },
     "execution_count": 5,
     "metadata": {},
     "output_type": "execute_result"
    },
    {
     "data": {
      "image/png": "[encoded data removed]",
      "text/plain": [
       "<Figure size 360x360 with 1 Axes>"
      ]
     },
     "metadata": {},
     "output_type": "display_data"
    }
   ],
   "source": [
    "#Display distribution of Postive and Negative reviews.\n",
    "processed_db[\"SentimentPolarity\"].value_counts().plot(kind='bar',color=['green','red'],title='Distribution Of Positive and Negative reviews in 150K datapoints.',figsize=(5,5))"
   ]
  },
  {
   "cell_type": "markdown",
   "metadata": {
    "colab_type": "text",
    "id": "Mr4j2QhgLPoQ"
   },
   "source": [
    "## [4.1] BAG OF WORDS\n",
    "\n",
    "A bag-of-words model, or BoW for short, is a way of extracting features from text for use in modeling, such as with machine learning algorithms.\n",
    "The approach is very simple and flexible, and can be used in a myriad of ways for extracting features from documents. Suppose we have N reviews in our dataset and we want to convert the words in our reviews to vectors. We can use BOW as a method to do this. What it does is that for each unique word in the data corpus, it creates a dimension. Then it counts how many number of times a word is present in a review. And then this number is placed under that word for a corresponding review. We will get a Sparse Matrix representation for all the worods inthe review.\n",
    "\n",
    "Let's look at this example of 2 reviews below :\n",
    "\n",
    "r1 = {\"The food is great, ambience is great\"} and  </br>r2 = {\"I love this food\"}\n",
    "\n",
    "At first the words will be extracted from r1 and r2.\n",
    "\n",
    "r1' = {\"The\", \"food\", \"is\", \"great\", \"ambience\", \"is\", \"great\"} and r2' = {\"I\", \"love\", \"this\", \"food\"}\n",
    "\n",
    "Now using r1' and r2' we will create a vector of unique words -> V =  {\"The\", \"food\", \"is\", \"great\", \"ambience\", \"I\", \"love\", \"this\"}\n",
    "\n",
    "Now here's how the vector representation will look like for each reviews r1 and r2, when we make use of the vector 'V' created above.\n",
    "\n",
    "r1_vector = [1,1,2,2,1,0,0,0] and r2_vector = [0,1,0,0,0,1,1,1]\n",
    "\n",
    "In r1 since, \"great\" and \"is\" occurs twice, we have set the count to 2. If a words doesn't occur in a review we will set the count to 0. Although \"is\" a stopword, the example above is intended to make you understand how bag of words work.\n",
    "\n"
   ]
  },
  {
   "cell_type": "code",
   "execution_count": 6,
   "metadata": {
    "colab": {},
    "colab_type": "code",
    "id": "dZVHt3mtLPoR",
    "outputId": "ea1629cd-7c92-400e-9acd-f7caeef0f389",
    "scrolled": false
   },
   "outputs": [
    {
     "name": "stdout",
     "output_type": "stream",
     "text": [
      "Some feature names  ['afford', 'afghanistan', 'aficionado', 'aforement', 'afraid', 'africa', 'african', 'afteral', 'afternoon', 'aftertast']\n",
      "=======================================================================================================================================================================================================================\n",
      "\n",
      "Creating the BOW vectors using the cleaned corpus...\n",
      "\n",
      "The type of count vectorizer  <class 'scipy.sparse.csr.csr_matrix'>\n",
      "The shape of our train BOW vectorizer  (100000, 8461)\n",
      "The shape of our test BOW vectorizer  (30000, 8461)\n",
      "The number of unique words  8461\n"
     ]
    }
   ],
   "source": [
    "#Initializing the BOW constructor\n",
    "cv_object = CountVectorizer(min_df=10, max_features=50000, dtype='float').fit(X_train)\n",
    "\n",
    "#Print names of some random features\n",
    "print(\"Some feature names \", cv_object.get_feature_names()[100:110])\n",
    "print('='*215)\n",
    "\n",
    "#Creating the BOW matrix from cleaned data corpus. Only 'not', 'no', 'nor' is preserved from stopwords. This is done for both train and test Vectors.\n",
    "print(\"\\nCreating the BOW vectors using the cleaned corpus...\")\n",
    "X_train_vectors = cv_object.transform(X_train)\n",
    "X_test_vectors = cv_object.transform(X_test)\n",
    "X_calib_vectors = cv_object.transform(X_calib)\n",
    "\n",
    "print(\"\\nThe type of count vectorizer \",type(X_train_vectors))\n",
    "print(\"The shape of our train BOW vectorizer \",X_train_vectors.get_shape())\n",
    "print(\"The shape of our test BOW vectorizer \",X_test_vectors.get_shape())\n",
    "print(\"The number of unique words \", X_train_vectors.get_shape()[1])\n",
    "\n",
    "#Save the bow train and test matrices for later use. We will need this later when we apply our models on them\n",
    "import pickle\n",
    "with open('X_train_BOW.pkl', 'wb') as file:\n",
    "    pickle.dump(X_train_vectors, file)\n",
    "\n",
    "with open('y_train_BOW.pkl', 'wb') as file:\n",
    "    pickle.dump(y_train, file)\n",
    "    \n",
    "with open('X_test_BOW.pkl', 'wb') as file:\n",
    "    pickle.dump(X_test_vectors, file)\n",
    "    \n",
    "with open('y_test_BOW.pkl', 'wb') as file:\n",
    "    pickle.dump(y_test, file)\n",
    "    \n",
    "with open('X_calib_BOW.pkl', 'wb') as file:\n",
    "    pickle.dump(X_calib_vectors, file)\n",
    "    \n",
    "with open('y_calib_BOW.pkl', 'wb') as file:\n",
    "    pickle.dump(y_calib, file)"
   ]
  },
  {
   "cell_type": "markdown",
   "metadata": {
    "colab_type": "text",
    "id": "tSf5kRdLLPoV"
   },
   "source": [
    "## [4.2] Bi-Grams and n-Grams."
   ]
  },
  {
   "cell_type": "code",
   "execution_count": 52,
   "metadata": {
    "colab": {},
    "colab_type": "code",
    "id": "Yfk2d7bLLPoW",
    "outputId": "33472132-5eb3-493f-b08c-081749f99239",
    "scrolled": true
   },
   "outputs": [
    {
     "name": "stdout",
     "output_type": "stream",
     "text": [
      "Some feature names  ['accommod', 'accompani', 'accomplish', 'accord', 'accord box', 'accord direct', 'accord instruct', 'accord label', 'accord packag', 'accord tast']\n",
      "=======================================================================================================================================================================================================================\n",
      "\n",
      "Creating the Bi-Gram vectors using the cleaned corpus...\n",
      "\n",
      "The type of count vectorizer  <class 'scipy.sparse.csr.csr_matrix'>\n",
      "The shape of our train BiGram vectorizer  (100000, 50000)\n",
      "The shape of our test BiGram vectorizer  (30000, 50000)\n",
      "The number of unique words  50000\n"
     ]
    }
   ],
   "source": [
    "#bi-gram, tri-gram and n-gram\n",
    "\n",
    "#removing stop words like \"not\" should be avoided before building n-grams\n",
    "# count_vect = CountVectorizer(ngram_range=(1,2))\n",
    "# please do read the CountVectorizer documentation http://scikit-learn.org/stable/modules/generated/sklearn.feature_extraction.text.CountVectorizer.html\n",
    "\n",
    "#Initializing the Bi-Gram constructor\n",
    "cv_object = CountVectorizer(ngram_range=(1,2), min_df=10, max_features=50000, dtype='float')             #min_df=10: ignore terms that have a document frequency strictly lower than 10.\n",
    "cv_object.fit(X_train)                                                                                  #max_features=50000: top 50000 features\n",
    "\n",
    "#Print names of some random features\n",
    "print(\"Some feature names \", cv_object.get_feature_names()[100:110])\n",
    "print('='*215)\n",
    "\n",
    "#Creating the Bi-Gram matrix from cleaned data corpus. Only 'not', 'no', 'nor' is preserved from stopwords. This is done for both train and test Vectors.\n",
    "print(\"\\nCreating the Bi-Gram vectors using the cleaned corpus...\")\n",
    "X_train_vectors = cv_object.transform(X_train)\n",
    "X_test_vectors = cv_object.transform(X_test)\n",
    "\n",
    "print(\"\\nThe type of count vectorizer \",type(X_train_vectors))\n",
    "print(\"The shape of our train BiGram vectorizer \",X_train_vectors.get_shape())\n",
    "print(\"The shape of our test BiGram vectorizer \",X_test_vectors.get_shape())\n",
    "print(\"The number of unique words \", X_train_vectors.get_shape()[1])\n",
    "\n",
    "#Save the bi grams train and test matrices for later use. We will need this later when we apply our models on them\n",
    "import pickle\n",
    "with open('X_train_BiGrm.pkl', 'wb') as file:\n",
    "    pickle.dump(X_train_vectors, file)\n",
    "\n",
    "with open('y_train_BiGrm.pkl', 'wb') as file:\n",
    "    pickle.dump(y_train, file)\n",
    "    \n",
    "with open('X_test_BiGrm.pkl', 'wb') as file:\n",
    "    pickle.dump(X_test_vectors, file)\n",
    "    \n",
    "with open('y_test_BiGrm.pkl', 'wb') as file:\n",
    "    pickle.dump(y_test, file)\n",
    "    \n",
    "with open('X_calib_BiGrm.pkl', 'wb') as file:\n",
    "    pickle.dump(X_calib_vectors, file)\n",
    "    \n",
    "with open('y_calib_BiGrm.pkl', 'wb') as file:\n",
    "    pickle.dump(y_calib, file)"
   ]
  },
  {
   "cell_type": "markdown",
   "metadata": {
    "colab_type": "text",
    "id": "-cEEpDx0LPoZ"
   },
   "source": [
    "## [4.3] TF-IDF\n",
    "\n",
    "In information retrieval, tf–idf or TFIDF, short for term frequency–inverse document frequency, is a numerical statistic that is intended to reflect how important a word is to a document in a collection or corpus.\n",
    "\n",
    "Let's assume we have data corpus D, which contains N reviews {r1,r2,r3,r4...rN}. Let's say our review r1 contains the following words {w1,w2,w3,w1,w9,w6,w7,w9,w9}.\n",
    "\n",
    "TF or Term Frequency for a word is basically the number of times a word occurs in a review divided by the total number of words present in that same review.\n",
    "For example, in the text corpus that we have considered in the above example, the TF for word w1 is (2/9) and for word w9 is (1/3). Intuitively, higher the occurence of a word in a text is, greater will be its TF value. TF values lies between 0 and 1.\n",
    "\n",
    "IDF or Inverse Document Frequency for a word is given by the formula log(N/n), where 'N' is equal to the total number of reviews in the corpus 'D' and 'n' refers to the number of reviews in 'D' which contains that specific word. Intuitively, IDF will be higher for words which occur rarely and will be less for words which occurs more frequently. IDF values are more than 0.\n",
    "\n",
    "So for each word in each review we will consider the product of (TF x IDF), and represent it in a d dimensional vector. \n",
    "\n",
    "TF-IDF basically doesn't consider the semantic meaning of words. But what is does is that it gives more importance to words which occurs less frequently in the whole data corpus and also gives much importance to the most frequent words that occurs in each review."
   ]
  },
  {
   "cell_type": "code",
   "execution_count": 7,
   "metadata": {
    "colab": {},
    "colab_type": "code",
    "id": "TgP61HqBLPoa",
    "outputId": "15f1c123-d93b-414d-914b-d4e3f32a6ac1",
    "scrolled": true
   },
   "outputs": [
    {
     "name": "stdout",
     "output_type": "stream",
     "text": [
      "Some feature names  ['accommod', 'accompani', 'accomplish', 'accord', 'accord box', 'accord direct', 'accord instruct', 'accord label', 'accord packag', 'accord tast']\n",
      "=======================================================================================================================================================================================================================\n",
      "\n",
      "Creating the TF-IDF vectors using the cleaned corpus...\n",
      "\n",
      "The type of count vectorizer  <class 'scipy.sparse.csr.csr_matrix'>\n",
      "The shape of our train BiGram vectorizer  (100000, 50000)\n",
      "The shape of our test BiGram vectorizer  (30000, 50000)\n",
      "The number of unique words including both unigrams and bigrams.  50000\n"
     ]
    }
   ],
   "source": [
    "#Initializing the TF-IDF constructor\n",
    "tf_idf_obj = TfidfVectorizer(ngram_range=(1,2), min_df=10, max_features=50000, dtype='float').fit(X_train) #min_df=10: ignore terms that have a document frequency strictly lower than 10.\n",
    "                                                                                                           #max_features=50000: top 50000 features\n",
    "#Print names of some random features\n",
    "print(\"Some feature names \", tf_idf_obj.get_feature_names()[100:110])\n",
    "print('='*215)\n",
    "\n",
    "#Creating the TF-IDF matrix from cleaned data corpus. Only 'not', 'no', 'nor' is preserved from stopwords. This is done for both train and test Vectors.\n",
    "print(\"\\nCreating the TF-IDF vectors using the cleaned corpus...\")\n",
    "X_train_vectors = tf_idf_obj.transform(X_train)\n",
    "X_test_vectors = tf_idf_obj.transform(X_test)\n",
    "X_calib_vectors = tf_idf_obj.transform(X_calib)\n",
    "\n",
    "print(\"\\nThe type of count vectorizer \",type(X_train_vectors))\n",
    "print(\"The shape of our train BiGram vectorizer \",X_train_vectors.get_shape())\n",
    "print(\"The shape of our test BiGram vectorizer \",X_test_vectors.get_shape())\n",
    "print(\"The number of unique words including both unigrams and bigrams. \", X_train_vectors.get_shape()[1])\n",
    "\n",
    "#Save the bow train and test matrices for later use. We will need this later when we apply our models on them\n",
    "import pickle\n",
    "with open('X_train_TFIDF.pkl', 'wb') as file:\n",
    "    pickle.dump(X_train_vectors, file)\n",
    "    \n",
    "with open('X_test_TFIDF.pkl', 'wb') as file:\n",
    "    pickle.dump(X_test_vectors, file)\n",
    "    \n",
    "with open('y_train_TFIDF.pkl', 'wb') as file:\n",
    "    pickle.dump(y_train, file)\n",
    "    \n",
    "with open('y_test_TFIDF.pkl', 'wb') as file:\n",
    "    pickle.dump(y_test, file)\n",
    "    \n",
    "with open('X_calib_TFIDF.pkl', 'wb') as file:\n",
    "    pickle.dump(X_calib_vectors, file)\n",
    "    \n",
    "with open('y_calib_TFIDF.pkl', 'wb') as file:\n",
    "    pickle.dump(y_calib, file)"
   ]
  },
  {
   "cell_type": "markdown",
   "metadata": {
    "colab_type": "text",
    "id": "m3YEHTLPLPod"
   },
   "source": [
    "## [4.4.1] Google Word2Vec"
   ]
  },
  {
   "cell_type": "code",
   "execution_count": 20,
   "metadata": {
    "colab": {},
    "colab_type": "code",
    "id": "zwPZCf8cLPoe",
    "scrolled": true
   },
   "outputs": [],
   "source": [
    "# Train your own Word2Vec model using your own text corpus\n",
    "i=0\n",
    "list_of_sentance=[]\n",
    "for sentance in processed_db['Combined_Reviews'].values:\n",
    "    list_of_sentance.append(sentance.split())"
   ]
  },
  {
   "cell_type": "code",
   "execution_count": null,
   "metadata": {
    "colab": {},
    "colab_type": "code",
    "id": "8ddGZNUfLPog",
    "outputId": "390d4ccb-cda2-4391-83e9-0e502b578171",
    "scrolled": true
   },
   "outputs": [],
   "source": [
    "# Using Google News Word2Vectors\n",
    "\n",
    "# In this project we are using a pretrained model by google. Its a 3.3G file, once you load this into your memory it occupies ~9Gb, so please do this step only if you have >12G of ram. We will provide a pickle \n",
    "# file wich contains a dict , and it contains all our courpus words as keys and  model[word] as values. To use this code-snippet, download \"GoogleNews-vectors-negative300.bin\" from \n",
    "# https://drive.google.com/file/d/0B7XkCwpI5KDYNlNUTTlSS21pQmM/edit. It's 1.9GB in size.\n",
    "\n",
    "\n",
    "# http://kavita-ganesan.com/gensim-word2vec-tutorial-starter-code/#.W17SRFAzZPY\n",
    "# you can comment this whole cell\n",
    "# or change these varible according to your need\n",
    "\n",
    "is_your_ram_gt_16g=False\n",
    "want_to_use_google_w2v = False\n",
    "want_to_train_w2v = False\n",
    "\n",
    "if want_to_train_w2v:\n",
    "    # min_count = 5 considers only words that occured atleast 5 times\n",
    "    w2v_model=Word2Vec(list_of_sentance,min_count=5,size=50, workers=4)\n",
    "    print(w2v_model.wv.most_similar('great'))\n",
    "    print('='*215)\n",
    "    print(w2v_model.wv.most_similar('worst'))\n",
    "    \n",
    "elif want_to_use_google_w2v and is_your_ram_gt_16g:\n",
    "    if os.path.isfile('GoogleNews-vectors-negative300.bin'):\n",
    "        w2v_model=KeyedVectors.load_word2vec_format('GoogleNews-vectors-negative300.bin', binary=True)\n",
    "        print(w2v_model.wv.most_similar('great'))\n",
    "        print(w2v_model.wv.most_similar('worst'))\n",
    "    else:\n",
    "        print(\"you don't have gogole's word2vec file, keep want_to_train_w2v = True, to train your own w2v \")\n",
    "        \n",
    "'''\n",
    "w2v_words = list(w2v_model.wv.vocab)\n",
    "print(\"number of words that occured minimum 5 times \",len(w2v_words))\n",
    "print(\"sample words \", w2v_words[0:50])\n",
    "'''"
   ]
  },
  {
   "cell_type": "markdown",
   "metadata": {
    "colab_type": "text",
    "id": "JriP5nZCLPot"
   },
   "source": [
    "## [4.4.2] Avg W2V\n",
    "\n",
    "In this model we convert each word present in a review to vectors. For each sentence we will compute the average word to vec representation. Let's look at the below demo example.\n",
    "\n",
    "Suppose we have N words in a sentence {w1,w2,w3,w4,w5,w6 ... , wN}. We will convert each word to a vector, sum them up and divide by the total number of words (N) present in that particular sentence. So our final vector will look like (1/N) * [word2vec(w1) + word2vec(w2) + word2vec(w3) .... + word2vec(wN)]"
   ]
  },
  {
   "cell_type": "code",
   "execution_count": 5,
   "metadata": {
    "colab": {},
    "colab_type": "code",
    "id": "UnXI9NHTLPot",
    "outputId": "ecbe8256-9718-4bad-de33-e5ce1ee69038",
    "scrolled": true
   },
   "outputs": [
    {
     "name": "stderr",
     "output_type": "stream",
     "text": [
      "100%|██████████| 100000/100000 [04:57<00:00, 335.92it/s]\n",
      "100%|██████████| 30000/30000 [00:59<00:00, 505.68it/s]\n",
      "100%|██████████| 40000/40000 [01:23<00:00, 476.88it/s]\n"
     ]
    },
    {
     "name": "stdout",
     "output_type": "stream",
     "text": [
      "The shape of our Avg Word2Vec train vectorizer  (100000, 200)\n",
      "The shape of our Avg Word2Vec test vectorizer  (30000, 200)\n",
      "The shape of our Avg Word2Vec calibration vectorizer  (40000, 200)\n"
     ]
    }
   ],
   "source": [
    "#Build a Word2Vec model on train data and use this to vectorize the test and cv data.\n",
    "word2vec_corpus=[]\n",
    "for sentence in X_train:\n",
    "    word2vec_corpus.append(sentence.split()) #Returns a list of words for each sentence for all the reviews\n",
    "print(\"The size of the Word2Vec text corpus : \",len(word2vec_corpus))\n",
    "\n",
    "word2vec_model=Word2Vec(sentences=word2vec_corpus, size=200, min_count=5, workers=6) #min_count = 5 considers only those words for our model which occurs atleast 5 times\n",
    "word2vec_words = list(word2vec_model.wv.vocab)                                       #print(\"\\nThe number of words that occured minimum 5 times : \",len(word2vec_words))\n",
    "\n",
    "#This method returns the Average Word2Vec vectors for all reviews in a given dataset\n",
    "def vectorize_w2v(dataset, word2vec_model, word2vec_words):\n",
    "    word2vec_corpus=[]\n",
    "    for sentence in dataset:\n",
    "        word2vec_corpus.append(sentence.split()) \n",
    "    \n",
    "    # Creating average Word2Vec model by computing the average word2vec for each review.\n",
    "    sent_vectors = []; #The average word2vec for each sentence/review will be stored in this list\n",
    "    for sentence in tqdm(word2vec_corpus): #For each review\n",
    "        sent_vec = np.zeros(200) #200 dimensional array, where all elements are zero. This is used to add word vectors and find the averages at each iteration.\n",
    "        count_words =0; #This will store the count of the words with a valid vector in each review text\n",
    "        for word in sentence: #For each word in a given review.\n",
    "            if word in word2vec_words:\n",
    "                word_vectors = word2vec_model.wv[word] #Creating a vector(numpy array of 100 dimensions) for each word.\n",
    "                sent_vec += word_vectors\n",
    "                count_words += 1\n",
    "        if count_words != 0:\n",
    "            sent_vec /= count_words\n",
    "        sent_vectors.append(sent_vec)\n",
    "    #print(\"\\nThe length of the sentence vectors :\",len(sent_vectors))\n",
    "    #print(\"\\nSize of each vector : \",len(sent_vectors[0]))\n",
    "    sent_vectors = np.array(sent_vectors)\n",
    "    return sent_vectors\n",
    "\n",
    "\n",
    "X_train_vectors = vectorize_w2v(X_train, word2vec_model, word2vec_words)\n",
    "X_test_vectors = vectorize_w2v(X_test, word2vec_model, word2vec_words)\n",
    "X_calib_vectors = vectorize_w2v(X_calib, word2vec_model, word2vec_words)\n",
    "\n",
    "\n",
    "print(\"The shape of our Avg Word2Vec train vectorizer \",X_train_vectors.shape)\n",
    "print(\"The shape of our Avg Word2Vec test vectorizer \",X_test_vectors.shape)\n",
    "print(\"The shape of our Avg Word2Vec calibration vectorizer \",X_calib_vectors.shape)\n",
    "\n",
    "#Save the bow train and test matrices for later use. We will need this later when we apply our models on them\n",
    "import pickle\n",
    "with open('X_train_W2V.pkl', 'wb') as file:\n",
    "    pickle.dump(X_train_vectors, file)\n",
    "    \n",
    "with open('X_test_W2V.pkl', 'wb') as file:\n",
    "    pickle.dump(X_test_vectors, file)\n",
    "    \n",
    "with open('y_train_W2V.pkl', 'wb') as file:\n",
    "    pickle.dump(y_train, file)\n",
    "    \n",
    "with open('y_test_W2V.pkl', 'wb') as file:\n",
    "    pickle.dump(y_test, file)\n",
    "\n",
    "with open('X_calib_W2V.pkl', 'wb') as file:\n",
    "    pickle.dump(X_calib_vectors, file)\n",
    "    \n",
    "with open('y_calib_W2V.pkl', 'wb') as file:\n",
    "    pickle.dump(y_calib, file)"
   ]
  },
  {
   "cell_type": "markdown",
   "metadata": {
    "colab_type": "text",
    "id": "2sHfb529LPow"
   },
   "source": [
    "## [4.4.3] TFIDF weighted W2v\n",
    "\n",
    "In this model we convert each word present in a review to vectors. For each sentence we will compute the tf-idf average word to vec representation. Let's look at the below demo example.\n",
    "\n",
    "Suppose we have N words in a sentence {w1,w2,w3,w4,w5,w6 ... , wN}. We will compute the tf-idf for each word in a review for all reviews. Lets say the corresponding tf-idfs are {t1,t2,t3,t4,t5,t6......tN}. We will convert each word to a vector, sum them up and divide by the summation of tf-idf vectors for all words present in that particular sentence. So our final vector will look like [1/(t1+t2+t3+t4+t5+t6+ ..... +tN)] * [word2vec(w1) + word2vec(w2) + word2vec(w3) .... + word2vec(wN)]"
   ]
  },
  {
   "cell_type": "code",
   "execution_count": 28,
   "metadata": {
    "scrolled": true
   },
   "outputs": [
    {
     "name": "stderr",
     "output_type": "stream",
     "text": [
      "100%|██████████| 100000/100000 [4:17:26<00:00,  6.47it/s]  \n",
      "100%|██████████| 30000/30000 [17:04<00:00, 29.29it/s]\n",
      "100%|██████████| 40000/40000 [28:44<00:00, 23.20it/s]  \n"
     ]
    },
    {
     "name": "stdout",
     "output_type": "stream",
     "text": [
      "The shape of our TF-IDF Avg Word2Vec train vectorizer  (100000, 200)\n",
      "The shape of our TF-IDF Avg Word2Vec test vectorizer  (30000, 200)\n",
      "The shape of our TF-IDF Avg Word2Vec calibration vectorizer  (40000, 200)\n"
     ]
    }
   ],
   "source": [
    "#Build a word2vec model using the train data and use this model to vectorize test and cv data.\n",
    "#word2vec_corpus will store the list of words for each review.\n",
    "word2vec_corpus=[]\n",
    "for sentence in X_train:\n",
    "    word2vec_corpus.append(sentence.split())\n",
    "\n",
    "#min_count = 5 considers only those words which occurs atleast 5 times\n",
    "word2vec_model=Word2Vec(sentences=word2vec_corpus, size=200, min_count=5, workers=8)\n",
    "word2vec_words = list(word2vec_model.wv.vocab)\n",
    "\n",
    "#Initializing the TF-IDF contructor with review texts. HTML tags and punctuations are removed. Stopwords are preserved.\n",
    "tf_idf_object = TfidfVectorizer(ngram_range=(1,1)).fit(X_train)\n",
    "\n",
    "#This method returns the Average Word2Vec vectors for all reviews in a given dataset\n",
    "def vectorize_tfidf_w2v(dataset, tf_idf_object, word2vec_model, word2vec_words):\n",
    "\n",
    "    #word2vec_corpus will store the list of words for each review.\n",
    "    word2vec_corpus=[]\n",
    "    for sentence in dataset:\n",
    "        word2vec_corpus.append(sentence.split())\n",
    "\n",
    "    #Use the earlier TF-IDF object to vectorize test and cv data.\n",
    "    tf_idf_matrix = tf_idf_object.transform(dataset)\n",
    "    tfidf_features = tf_idf_object.get_feature_names() \n",
    "    \n",
    "    # We are building a dictionary with words as a key, and the idfs as value\n",
    "    dictionary = dict(zip(tf_idf_object.get_feature_names(), list(tf_idf_object.idf_)))\n",
    "\n",
    "    #Algorithm for finding the TF-IDF weighted average word2vec vectors.\n",
    "    tfidf_sent_vectors = []; #The tfidf-w2v for each sentence/review will stored in this list\n",
    "    row=0;\n",
    "    for sentence in tqdm(word2vec_corpus): #For each review/sentence \n",
    "        sent_vec = np.zeros(200) #200 dimensional array, where all elements are zero. This is used to add word vectors and find the averages at each iteration.\n",
    "        weight_sum = 0; #This will store the count of the words with a valid vector in each review text.\n",
    "        for word in sentence: #For each word in a review/sentence\n",
    "            if((word in word2vec_words) and (word in tfidf_features)):\n",
    "                word_vectors = word2vec_model.wv[word]\n",
    "                tf_idf = dictionary[word]*(sentence.count(word)/len(sentence)) #tf_idf = tf_idf_matrix[row, tfidf_features.index(word)] #tf_idfidf of a word in a sentence/review       \n",
    "                sent_vec += (word_vectors * tf_idf)                            #dictionary[word] = idf value of word in whole courpus  # sent.count(word) = tf valeus of word in this review                          \n",
    "                weight_sum += tf_idf\n",
    "        if weight_sum != 0:\n",
    "            sent_vec /= weight_sum\n",
    "        tfidf_sent_vectors.append(sent_vec)\n",
    "        row += 1\n",
    "\n",
    "    tfidf_sent_vectors = np.array(tfidf_sent_vectors)\n",
    "    return tfidf_sent_vectors\n",
    "\n",
    "#Converting the words to word vector representation.\n",
    "X_train_vectors = vectorize_tfidf_w2v(X_train, tf_idf_object, word2vec_model, word2vec_words)\n",
    "X_test_vectors = vectorize_tfidf_w2v(X_test, tf_idf_object, word2vec_model, word2vec_words)\n",
    "X_calib_vectors = vectorize_tfidf_w2v(X_calib, tf_idf_object, word2vec_model, word2vec_words)\n",
    "\n",
    "print(\"The shape of our TF-IDF Avg Word2Vec train vectorizer \",X_train_vectors.shape)\n",
    "print(\"The shape of our TF-IDF Avg Word2Vec test vectorizer \",X_test_vectors.shape)\n",
    "print(\"The shape of our TF-IDF Avg Word2Vec calibration vectorizer \",X_calib_vectors.shape)\n",
    "                                           \n",
    "#Save the bow train and test matrices for later use. We will need this later when we apply our models on them\n",
    "import pickle\n",
    "with open('X_train_TFIDF-W2V.pkl', 'wb') as file:\n",
    "    pickle.dump(X_train_vectors, file)\n",
    "    \n",
    "with open('X_test_TFIDF-W2V.pkl', 'wb') as file:\n",
    "    pickle.dump(X_test_vectors, file)\n",
    "    \n",
    "with open('y_train_TFIDF-W2V.pkl', 'wb') as file:\n",
    "    pickle.dump(y_train, file)\n",
    "    \n",
    "with open('y_test_TFIDF-W2V.pkl', 'wb') as file:\n",
    "    pickle.dump(y_test, file)\n",
    "    \n",
    "with open('X_calib_TFIDF-W2V.pkl', 'wb') as file:\n",
    "    pickle.dump(X_calib_vectors, file)\n",
    "    \n",
    "with open('y_calib_TFIDF-W2V.pkl', 'wb') as file:\n",
    "    pickle.dump(y_calib, file)"
   ]
  }
 ],
 "metadata": {
  "colab": {
   "name": "05 Amazon Fine Food Reviews Analysis_Logistic Regression.ipynb",
   "provenance": [],
   "version": "0.3.2"
  },
  "kernelspec": {
   "display_name": "Python 3",
   "language": "python",
   "name": "python3"
  },
  "language_info": {
   "codemirror_mode": {
    "name": "ipython",
    "version": 3
   },
   "file_extension": ".py",
   "mimetype": "text/x-python",
   "name": "python",
   "nbconvert_exporter": "python",
   "pygments_lexer": "ipython3",
   "version": "3.6.5"
  }
 },
 "nbformat": 4,
 "nbformat_minor": 1
}
