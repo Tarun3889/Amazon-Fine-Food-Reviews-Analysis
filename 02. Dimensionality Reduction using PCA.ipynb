{
 "cells": [
  {
   "cell_type": "code",
   "execution_count": 1,
   "metadata": {},
   "outputs": [
    {
     "data": {
      "text/html": [
       "<style>.container { width:100% !important; }</style>"
      ],
      "text/plain": [
       "<IPython.core.display.HTML object>"
      ]
     },
     "metadata": {},
     "output_type": "display_data"
    }
   ],
   "source": [
    "from IPython.core.display import display, HTML\n",
    "display(HTML(\"<style>.container { width:100% !important; }</style>\"))"
   ]
  },
  {
   "cell_type": "code",
   "execution_count": 2,
   "metadata": {},
   "outputs": [],
   "source": [
    "%matplotlib inline\n",
    "import warnings\n",
    "warnings.filterwarnings(\"ignore\")\n",
    "import sqlite3\n",
    "import pandas as pd\n",
    "import numpy as np\n",
    "import nltk\n",
    "import string\n",
    "import matplotlib.pyplot as plt\n",
    "import seaborn as sns\n",
    "from sklearn.feature_extraction.text import TfidfTransformer, TfidfVectorizer, CountVectorizer\n",
    "from nltk.stem.porter import PorterStemmer\n",
    "import re\n",
    "from nltk.corpus import stopwords\n",
    "from gensim.models import Word2Vec\n",
    "from gensim.models import KeyedVectors\n",
    "import pickle\n",
    "from tqdm import tqdm\n",
    "from datetime import datetime as dt\n",
    "import os\n",
    "from sklearn import decomposition\n",
    "import seaborn as sns"
   ]
  },
  {
   "cell_type": "markdown",
   "metadata": {
    "colab_type": "text",
    "id": "AM7jsfwALPlp"
   },
   "source": [
    "# Amazon Fine Food Reviews Analysis and Visualization using PCA.\n",
    "\n",
    "Data Source: https://www.kaggle.com/snap/amazon-fine-food-reviews\n",
    "\n",
    "#### Basic information about the downloaded dataset<br>\n",
    "\n",
    "Number of reviews: 568,454<br>\n",
    "Number of users: 256,059<br>\n",
    "Number of products: 74,258<br>\n",
    "Timespan: Oct 1999 - Oct 2012<br>\n",
    "Number of Attributes/Columns in data: 10 \n",
    "\n",
    "#### Attribute Information:\n",
    "\n",
    "1. Id\n",
    "2. ProductId - unique identifier for the product\n",
    "3. UserId - unqiue identifier for the user\n",
    "4. ProfileName\n",
    "5. HelpfulnessNumerator - number of users who found the review helpful\n",
    "6. HelpfulnessDenominator - number of users who indicated whether they found the review helpful or not\n",
    "7. Score - rating between 1 and 5\n",
    "8. Time - timestamp for the review\n",
    "9. Summary - brief summary of the review\n",
    "10. Text - text of the review\n",
    "\n",
    "\n",
    "#### Objective:\n",
    "Our main objective for this analysis is to train a model which can seperate the postive and negative reviews.\n",
    "In this problem we will apply classification techniques called Random Forest and Gradient Boosted Decision Trees to get an idea if the data can be seperated based on its polarity, i.e. if the review is positive or negative. By looking at the Score column we can make out that the review is positive or not. But we don't need to implement any ML here. A simple if-else condition will make us do this. So for this problem, we will put our focus on to the Review text. The text is the most important feature here if you may ask. Based on the review text we will build a prediction model and determine if a future review is positive or negative.\n",
    "\n",
    "#### While pre-processing the original dataset we have taken into consideration the following points.\n",
    "\n",
    "1. We will classify a review to be positive if and only if the corresponding Score for the given review is 4 or 5.\n",
    "2. We will classify a review to be negative if and only if the corresponding Score for the given review is 1 or 2.\n",
    "3. We will ignore the reviews for the time being which has a Score rating of 3. Because 3 can be thought of as a neutral review. It's neither negative nor positive.\n",
    "4. We will remove the duplicate entries from the dataset. \n",
    "5. We will train our final mdel using four featurizations -> bag of words model, tf-idf model, average word-to-vec model and tf-idf weighted word-to-vec model.\n",
    "6. So at end of the training the model will be trained on the above four featurizations to determine if a given review is positive or negative (Determining the sentiment polarity of the Amazon reviews)"
   ]
  },
  {
   "cell_type": "markdown",
   "metadata": {
    "colab_type": "text",
    "id": "CaQ7XJ4OLPls"
   },
   "source": [
    "# [1]. Reading Data"
   ]
  },
  {
   "cell_type": "markdown",
   "metadata": {
    "colab_type": "text",
    "id": "5VnEBjKRLPlu"
   },
   "source": [
    "## [1.1] Loading the data\n",
    "\n",
    "The dataset is available in two forms\n",
    "1. .csv file\n",
    "2. SQLite Database\n",
    "\n",
    "In order to load the data, We have used the SQLITE dataset as it is easier to query the data and visualise the data efficiently.\n",
    "<br> \n",
    "\n",
    "Here as we only want to get the global sentiment of the recommendations (positive or negative), we will purposefully ignore all Scores equal to 3. If the score is above 3, then the recommendation wil be set to \"positive\". Otherwise, it will be set to \"negative\"."
   ]
  },
  {
   "cell_type": "code",
   "execution_count": 3,
   "metadata": {
    "colab": {},
    "colab_type": "code",
    "id": "NZ4OSpSiLPl0",
    "outputId": "241c4c64-6186-4351-e38f-fcd06c6896dd",
    "scrolled": false
   },
   "outputs": [
    {
     "ename": "DatabaseError",
     "evalue": "Execution failed on sql ' SELECT * FROM Reviews WHERE Score != 3 ': no such table: Reviews",
     "output_type": "error",
     "traceback": [
      "\u001b[0;31m---------------------------------------------------------------------------\u001b[0m",
      "\u001b[0;31mOperationalError\u001b[0m                          Traceback (most recent call last)",
      "\u001b[0;32m~/anaconda3/lib/python3.6/site-packages/pandas/io/sql.py\u001b[0m in \u001b[0;36mexecute\u001b[0;34m(self, *args, **kwargs)\u001b[0m\n\u001b[1;32m   1399\u001b[0m             \u001b[0;32melse\u001b[0m\u001b[0;34m:\u001b[0m\u001b[0;34m\u001b[0m\u001b[0m\n\u001b[0;32m-> 1400\u001b[0;31m                 \u001b[0mcur\u001b[0m\u001b[0;34m.\u001b[0m\u001b[0mexecute\u001b[0m\u001b[0;34m(\u001b[0m\u001b[0;34m*\u001b[0m\u001b[0margs\u001b[0m\u001b[0;34m)\u001b[0m\u001b[0;34m\u001b[0m\u001b[0m\n\u001b[0m\u001b[1;32m   1401\u001b[0m             \u001b[0;32mreturn\u001b[0m \u001b[0mcur\u001b[0m\u001b[0;34m\u001b[0m\u001b[0m\n",
      "\u001b[0;31mOperationalError\u001b[0m: no such table: Reviews",
      "\nDuring handling of the above exception, another exception occurred:\n",
      "\u001b[0;31mDatabaseError\u001b[0m                             Traceback (most recent call last)",
      "\u001b[0;32m<ipython-input-3-12d7eca0d88d>\u001b[0m in \u001b[0;36m<module>\u001b[0;34m()\u001b[0m\n\u001b[1;32m      7\u001b[0m \u001b[0;31m# SELECT * FROM Reviews WHERE Score != 3 LIMIT 500000, will give top 500000 data points\u001b[0m\u001b[0;34m\u001b[0m\u001b[0;34m\u001b[0m\u001b[0m\n\u001b[1;32m      8\u001b[0m \u001b[0;31m# you can change the number to any other number based on your computing power\u001b[0m\u001b[0;34m\u001b[0m\u001b[0;34m\u001b[0m\u001b[0m\n\u001b[0;32m----> 9\u001b[0;31m \u001b[0mfiltered_data\u001b[0m \u001b[0;34m=\u001b[0m \u001b[0mpd\u001b[0m\u001b[0;34m.\u001b[0m\u001b[0mread_sql_query\u001b[0m\u001b[0;34m(\u001b[0m\u001b[0;34m\"\"\" SELECT * FROM Reviews WHERE Score != 3 \"\"\"\u001b[0m\u001b[0;34m,\u001b[0m \u001b[0mconnection_sqlobject\u001b[0m\u001b[0;34m)\u001b[0m\u001b[0;34m\u001b[0m\u001b[0m\n\u001b[0m\u001b[1;32m     10\u001b[0m \u001b[0;34m\u001b[0m\u001b[0m\n\u001b[1;32m     11\u001b[0m \u001b[0;31m#Give reviews with Score > 3 a 'Positive' tag, and reviews with a score < 3 a 'Negative' tag.\u001b[0m\u001b[0;34m\u001b[0m\u001b[0;34m\u001b[0m\u001b[0m\n",
      "\u001b[0;32m~/anaconda3/lib/python3.6/site-packages/pandas/io/sql.py\u001b[0m in \u001b[0;36mread_sql_query\u001b[0;34m(sql, con, index_col, coerce_float, params, parse_dates, chunksize)\u001b[0m\n\u001b[1;32m    312\u001b[0m     return pandas_sql.read_query(\n\u001b[1;32m    313\u001b[0m         \u001b[0msql\u001b[0m\u001b[0;34m,\u001b[0m \u001b[0mindex_col\u001b[0m\u001b[0;34m=\u001b[0m\u001b[0mindex_col\u001b[0m\u001b[0;34m,\u001b[0m \u001b[0mparams\u001b[0m\u001b[0;34m=\u001b[0m\u001b[0mparams\u001b[0m\u001b[0;34m,\u001b[0m \u001b[0mcoerce_float\u001b[0m\u001b[0;34m=\u001b[0m\u001b[0mcoerce_float\u001b[0m\u001b[0;34m,\u001b[0m\u001b[0;34m\u001b[0m\u001b[0m\n\u001b[0;32m--> 314\u001b[0;31m         parse_dates=parse_dates, chunksize=chunksize)\n\u001b[0m\u001b[1;32m    315\u001b[0m \u001b[0;34m\u001b[0m\u001b[0m\n\u001b[1;32m    316\u001b[0m \u001b[0;34m\u001b[0m\u001b[0m\n",
      "\u001b[0;32m~/anaconda3/lib/python3.6/site-packages/pandas/io/sql.py\u001b[0m in \u001b[0;36mread_query\u001b[0;34m(self, sql, index_col, coerce_float, params, parse_dates, chunksize)\u001b[0m\n\u001b[1;32m   1433\u001b[0m \u001b[0;34m\u001b[0m\u001b[0m\n\u001b[1;32m   1434\u001b[0m         \u001b[0margs\u001b[0m \u001b[0;34m=\u001b[0m \u001b[0m_convert_params\u001b[0m\u001b[0;34m(\u001b[0m\u001b[0msql\u001b[0m\u001b[0;34m,\u001b[0m \u001b[0mparams\u001b[0m\u001b[0;34m)\u001b[0m\u001b[0;34m\u001b[0m\u001b[0m\n\u001b[0;32m-> 1435\u001b[0;31m         \u001b[0mcursor\u001b[0m \u001b[0;34m=\u001b[0m \u001b[0mself\u001b[0m\u001b[0;34m.\u001b[0m\u001b[0mexecute\u001b[0m\u001b[0;34m(\u001b[0m\u001b[0;34m*\u001b[0m\u001b[0margs\u001b[0m\u001b[0;34m)\u001b[0m\u001b[0;34m\u001b[0m\u001b[0m\n\u001b[0m\u001b[1;32m   1436\u001b[0m         \u001b[0mcolumns\u001b[0m \u001b[0;34m=\u001b[0m \u001b[0;34m[\u001b[0m\u001b[0mcol_desc\u001b[0m\u001b[0;34m[\u001b[0m\u001b[0;36m0\u001b[0m\u001b[0;34m]\u001b[0m \u001b[0;32mfor\u001b[0m \u001b[0mcol_desc\u001b[0m \u001b[0;32min\u001b[0m \u001b[0mcursor\u001b[0m\u001b[0;34m.\u001b[0m\u001b[0mdescription\u001b[0m\u001b[0;34m]\u001b[0m\u001b[0;34m\u001b[0m\u001b[0m\n\u001b[1;32m   1437\u001b[0m \u001b[0;34m\u001b[0m\u001b[0m\n",
      "\u001b[0;32m~/anaconda3/lib/python3.6/site-packages/pandas/io/sql.py\u001b[0m in \u001b[0;36mexecute\u001b[0;34m(self, *args, **kwargs)\u001b[0m\n\u001b[1;32m   1410\u001b[0m             ex = DatabaseError(\n\u001b[1;32m   1411\u001b[0m                 \"Execution failed on sql '%s': %s\" % (args[0], exc))\n\u001b[0;32m-> 1412\u001b[0;31m             \u001b[0mraise_with_traceback\u001b[0m\u001b[0;34m(\u001b[0m\u001b[0mex\u001b[0m\u001b[0;34m)\u001b[0m\u001b[0;34m\u001b[0m\u001b[0m\n\u001b[0m\u001b[1;32m   1413\u001b[0m \u001b[0;34m\u001b[0m\u001b[0m\n\u001b[1;32m   1414\u001b[0m     \u001b[0;34m@\u001b[0m\u001b[0mstaticmethod\u001b[0m\u001b[0;34m\u001b[0m\u001b[0m\n",
      "\u001b[0;32m~/anaconda3/lib/python3.6/site-packages/pandas/compat/__init__.py\u001b[0m in \u001b[0;36mraise_with_traceback\u001b[0;34m(exc, traceback)\u001b[0m\n\u001b[1;32m    401\u001b[0m         \u001b[0;32mif\u001b[0m \u001b[0mtraceback\u001b[0m \u001b[0;34m==\u001b[0m \u001b[0mEllipsis\u001b[0m\u001b[0;34m:\u001b[0m\u001b[0;34m\u001b[0m\u001b[0m\n\u001b[1;32m    402\u001b[0m             \u001b[0m_\u001b[0m\u001b[0;34m,\u001b[0m \u001b[0m_\u001b[0m\u001b[0;34m,\u001b[0m \u001b[0mtraceback\u001b[0m \u001b[0;34m=\u001b[0m \u001b[0msys\u001b[0m\u001b[0;34m.\u001b[0m\u001b[0mexc_info\u001b[0m\u001b[0;34m(\u001b[0m\u001b[0;34m)\u001b[0m\u001b[0;34m\u001b[0m\u001b[0m\n\u001b[0;32m--> 403\u001b[0;31m         \u001b[0;32mraise\u001b[0m \u001b[0mexc\u001b[0m\u001b[0;34m.\u001b[0m\u001b[0mwith_traceback\u001b[0m\u001b[0;34m(\u001b[0m\u001b[0mtraceback\u001b[0m\u001b[0;34m)\u001b[0m\u001b[0;34m\u001b[0m\u001b[0m\n\u001b[0m\u001b[1;32m    404\u001b[0m \u001b[0;32melse\u001b[0m\u001b[0;34m:\u001b[0m\u001b[0;34m\u001b[0m\u001b[0m\n\u001b[1;32m    405\u001b[0m     \u001b[0;31m# this version of raise is a syntax error in Python 3\u001b[0m\u001b[0;34m\u001b[0m\u001b[0;34m\u001b[0m\u001b[0m\n",
      "\u001b[0;32m~/anaconda3/lib/python3.6/site-packages/pandas/io/sql.py\u001b[0m in \u001b[0;36mexecute\u001b[0;34m(self, *args, **kwargs)\u001b[0m\n\u001b[1;32m   1398\u001b[0m                 \u001b[0mcur\u001b[0m\u001b[0;34m.\u001b[0m\u001b[0mexecute\u001b[0m\u001b[0;34m(\u001b[0m\u001b[0;34m*\u001b[0m\u001b[0margs\u001b[0m\u001b[0;34m,\u001b[0m \u001b[0;34m**\u001b[0m\u001b[0mkwargs\u001b[0m\u001b[0;34m)\u001b[0m\u001b[0;34m\u001b[0m\u001b[0m\n\u001b[1;32m   1399\u001b[0m             \u001b[0;32melse\u001b[0m\u001b[0;34m:\u001b[0m\u001b[0;34m\u001b[0m\u001b[0m\n\u001b[0;32m-> 1400\u001b[0;31m                 \u001b[0mcur\u001b[0m\u001b[0;34m.\u001b[0m\u001b[0mexecute\u001b[0m\u001b[0;34m(\u001b[0m\u001b[0;34m*\u001b[0m\u001b[0margs\u001b[0m\u001b[0;34m)\u001b[0m\u001b[0;34m\u001b[0m\u001b[0m\n\u001b[0m\u001b[1;32m   1401\u001b[0m             \u001b[0;32mreturn\u001b[0m \u001b[0mcur\u001b[0m\u001b[0;34m\u001b[0m\u001b[0m\n\u001b[1;32m   1402\u001b[0m         \u001b[0;32mexcept\u001b[0m \u001b[0mException\u001b[0m \u001b[0;32mas\u001b[0m \u001b[0mexc\u001b[0m\u001b[0;34m:\u001b[0m\u001b[0;34m\u001b[0m\u001b[0m\n",
      "\u001b[0;31mDatabaseError\u001b[0m: Execution failed on sql ' SELECT * FROM Reviews WHERE Score != 3 ': no such table: Reviews"
     ]
    }
   ],
   "source": [
    "'''Loading the Amazon dataset, Remove duplicate data.'''\n",
    "#Data Source: https://www.kaggle.com/snap/amazon-fine-food-reviews.\n",
    "connection_sqlobject = sqlite3.connect('database.sqlite') \n",
    "\n",
    "#Filter only positive and negative reviews. Do not consider reviews with score = 3.\n",
    "#not taking into consideration those reviews with Score=3\n",
    "# SELECT * FROM Reviews WHERE Score != 3 LIMIT 500000, will give top 500000 data points\n",
    "# you can change the number to any other number based on your computing power\n",
    "filtered_data = pd.read_sql_query(\"\"\" SELECT * FROM Reviews WHERE Score != 3 \"\"\", connection_sqlobject)\n",
    "\n",
    "#Give reviews with Score > 3 a 'Positive' tag, and reviews with a score < 3 a 'Negative' tag.\n",
    "filtered_data['SentimentPolarity'] = filtered_data['Score'].apply(lambda x : 'Positive' if x > 3 else 'Negative')\n",
    "filtered_data['Class_Labels'] = filtered_data['SentimentPolarity'].apply(lambda x : 1 if x == 'Positive' else 0)\n",
    "\n",
    "#Display some of the datapoints from the loaded dataset.\n",
    "print(\"Number of data points in our data\", filtered_data.shape[0])\n",
    "print(\"Number of features in our data\", filtered_data.shape[1])\n",
    "filtered_data.head(5)"
   ]
  },
  {
   "cell_type": "markdown",
   "metadata": {
    "colab_type": "text",
    "id": "PuNkhjz0LPmQ"
   },
   "source": [
    "#  [2] Exploratory Data Analysis"
   ]
  },
  {
   "cell_type": "markdown",
   "metadata": {
    "colab_type": "text",
    "id": "oCJaTWrTLPmS"
   },
   "source": [
    "## [2.1] Data Cleaning: Deduplication\n",
    "\n",
    "It is observed (as shown in the table below) that the reviews data had many duplicate entries. Hence it was necessary to remove duplicates in order to get unbiased results for the analysis of the data.  Following is an example:"
   ]
  },
  {
   "cell_type": "code",
   "execution_count": null,
   "metadata": {
    "scrolled": true
   },
   "outputs": [],
   "source": [
    "#This code block check how many entries are there from the same user id, who has provided review more than one time for different products.\n",
    "display = pd.read_sql_query(\"\"\"\n",
    "SELECT UserId, ProductId, ProfileName, Time, Score, Text, COUNT(*)\n",
    "FROM Reviews\n",
    "GROUP BY UserId\n",
    "HAVING COUNT(*)>1\n",
    "\"\"\", connection_sqlobject)\n",
    "\n",
    "print(display.shape)\n",
    "display.head()"
   ]
  },
  {
   "cell_type": "code",
   "execution_count": 33,
   "metadata": {
    "scrolled": true
   },
   "outputs": [
    {
     "data": {
      "text/html": [
       "<div>\n",
       "<style scoped>\n",
       "    .dataframe tbody tr th:only-of-type {\n",
       "        vertical-align: middle;\n",
       "    }\n",
       "\n",
       "    .dataframe tbody tr th {\n",
       "        vertical-align: top;\n",
       "    }\n",
       "\n",
       "    .dataframe thead th {\n",
       "        text-align: right;\n",
       "    }\n",
       "</style>\n",
       "<table border=\"1\" class=\"dataframe\">\n",
       "  <thead>\n",
       "    <tr style=\"text-align: right;\">\n",
       "      <th></th>\n",
       "      <th>UserId</th>\n",
       "      <th>ProductId</th>\n",
       "      <th>ProfileName</th>\n",
       "      <th>Time</th>\n",
       "      <th>Score</th>\n",
       "      <th>Text</th>\n",
       "      <th>COUNT(*)</th>\n",
       "    </tr>\n",
       "  </thead>\n",
       "  <tbody>\n",
       "    <tr>\n",
       "      <th>80638</th>\n",
       "      <td>AZY10LLTJ71NX</td>\n",
       "      <td>B006P7E5ZI</td>\n",
       "      <td>undertheshrine \"undertheshrine\"</td>\n",
       "      <td>1334707200</td>\n",
       "      <td>5</td>\n",
       "      <td>I was recommended to try green tea extract to ...</td>\n",
       "      <td>5</td>\n",
       "    </tr>\n",
       "  </tbody>\n",
       "</table>\n",
       "</div>"
      ],
      "text/plain": [
       "              UserId   ProductId                      ProfileName        Time  \\\n",
       "80638  AZY10LLTJ71NX  B006P7E5ZI  undertheshrine \"undertheshrine\"  1334707200   \n",
       "\n",
       "       Score                                               Text  COUNT(*)  \n",
       "80638      5  I was recommended to try green tea extract to ...         5  "
      ]
     },
     "execution_count": 33,
     "metadata": {},
     "output_type": "execute_result"
    }
   ],
   "source": [
    "display[display['UserId']=='AZY10LLTJ71NX']"
   ]
  },
  {
   "cell_type": "code",
   "execution_count": 34,
   "metadata": {
    "scrolled": true
   },
   "outputs": [
    {
     "data": {
      "text/plain": [
       "393063"
      ]
     },
     "execution_count": 34,
     "metadata": {},
     "output_type": "execute_result"
    }
   ],
   "source": [
    "display['COUNT(*)'].sum()"
   ]
  },
  {
   "cell_type": "code",
   "execution_count": 35,
   "metadata": {
    "colab": {},
    "colab_type": "code",
    "id": "3lvzRwWVLPmT",
    "outputId": "96ba6f90-6c40-4972-ecd2-d2d208e48877",
    "scrolled": false
   },
   "outputs": [
    {
     "data": {
      "text/html": [
       "<div>\n",
       "<style scoped>\n",
       "    .dataframe tbody tr th:only-of-type {\n",
       "        vertical-align: middle;\n",
       "    }\n",
       "\n",
       "    .dataframe tbody tr th {\n",
       "        vertical-align: top;\n",
       "    }\n",
       "\n",
       "    .dataframe thead th {\n",
       "        text-align: right;\n",
       "    }\n",
       "</style>\n",
       "<table border=\"1\" class=\"dataframe\">\n",
       "  <thead>\n",
       "    <tr style=\"text-align: right;\">\n",
       "      <th></th>\n",
       "      <th>Id</th>\n",
       "      <th>ProductId</th>\n",
       "      <th>UserId</th>\n",
       "      <th>ProfileName</th>\n",
       "      <th>HelpfulnessNumerator</th>\n",
       "      <th>HelpfulnessDenominator</th>\n",
       "      <th>Score</th>\n",
       "      <th>Time</th>\n",
       "      <th>Summary</th>\n",
       "      <th>Text</th>\n",
       "    </tr>\n",
       "  </thead>\n",
       "  <tbody>\n",
       "    <tr>\n",
       "      <th>0</th>\n",
       "      <td>78445</td>\n",
       "      <td>B000HDL1RQ</td>\n",
       "      <td>AR5J8UI46CURR</td>\n",
       "      <td>Geetha Krishnan</td>\n",
       "      <td>2</td>\n",
       "      <td>2</td>\n",
       "      <td>5</td>\n",
       "      <td>1199577600</td>\n",
       "      <td>LOACKER QUADRATINI VANILLA WAFERS</td>\n",
       "      <td>DELICIOUS WAFERS. I FIND THAT EUROPEAN WAFERS ...</td>\n",
       "    </tr>\n",
       "    <tr>\n",
       "      <th>1</th>\n",
       "      <td>138317</td>\n",
       "      <td>B000HDOPYC</td>\n",
       "      <td>AR5J8UI46CURR</td>\n",
       "      <td>Geetha Krishnan</td>\n",
       "      <td>2</td>\n",
       "      <td>2</td>\n",
       "      <td>5</td>\n",
       "      <td>1199577600</td>\n",
       "      <td>LOACKER QUADRATINI VANILLA WAFERS</td>\n",
       "      <td>DELICIOUS WAFERS. I FIND THAT EUROPEAN WAFERS ...</td>\n",
       "    </tr>\n",
       "    <tr>\n",
       "      <th>2</th>\n",
       "      <td>138277</td>\n",
       "      <td>B000HDOPYM</td>\n",
       "      <td>AR5J8UI46CURR</td>\n",
       "      <td>Geetha Krishnan</td>\n",
       "      <td>2</td>\n",
       "      <td>2</td>\n",
       "      <td>5</td>\n",
       "      <td>1199577600</td>\n",
       "      <td>LOACKER QUADRATINI VANILLA WAFERS</td>\n",
       "      <td>DELICIOUS WAFERS. I FIND THAT EUROPEAN WAFERS ...</td>\n",
       "    </tr>\n",
       "    <tr>\n",
       "      <th>3</th>\n",
       "      <td>73791</td>\n",
       "      <td>B000HDOPZG</td>\n",
       "      <td>AR5J8UI46CURR</td>\n",
       "      <td>Geetha Krishnan</td>\n",
       "      <td>2</td>\n",
       "      <td>2</td>\n",
       "      <td>5</td>\n",
       "      <td>1199577600</td>\n",
       "      <td>LOACKER QUADRATINI VANILLA WAFERS</td>\n",
       "      <td>DELICIOUS WAFERS. I FIND THAT EUROPEAN WAFERS ...</td>\n",
       "    </tr>\n",
       "    <tr>\n",
       "      <th>4</th>\n",
       "      <td>155049</td>\n",
       "      <td>B000PAQ75C</td>\n",
       "      <td>AR5J8UI46CURR</td>\n",
       "      <td>Geetha Krishnan</td>\n",
       "      <td>2</td>\n",
       "      <td>2</td>\n",
       "      <td>5</td>\n",
       "      <td>1199577600</td>\n",
       "      <td>LOACKER QUADRATINI VANILLA WAFERS</td>\n",
       "      <td>DELICIOUS WAFERS. I FIND THAT EUROPEAN WAFERS ...</td>\n",
       "    </tr>\n",
       "  </tbody>\n",
       "</table>\n",
       "</div>"
      ],
      "text/plain": [
       "       Id   ProductId         UserId      ProfileName  HelpfulnessNumerator  \\\n",
       "0   78445  B000HDL1RQ  AR5J8UI46CURR  Geetha Krishnan                     2   \n",
       "1  138317  B000HDOPYC  AR5J8UI46CURR  Geetha Krishnan                     2   \n",
       "2  138277  B000HDOPYM  AR5J8UI46CURR  Geetha Krishnan                     2   \n",
       "3   73791  B000HDOPZG  AR5J8UI46CURR  Geetha Krishnan                     2   \n",
       "4  155049  B000PAQ75C  AR5J8UI46CURR  Geetha Krishnan                     2   \n",
       "\n",
       "   HelpfulnessDenominator  Score        Time  \\\n",
       "0                       2      5  1199577600   \n",
       "1                       2      5  1199577600   \n",
       "2                       2      5  1199577600   \n",
       "3                       2      5  1199577600   \n",
       "4                       2      5  1199577600   \n",
       "\n",
       "                             Summary  \\\n",
       "0  LOACKER QUADRATINI VANILLA WAFERS   \n",
       "1  LOACKER QUADRATINI VANILLA WAFERS   \n",
       "2  LOACKER QUADRATINI VANILLA WAFERS   \n",
       "3  LOACKER QUADRATINI VANILLA WAFERS   \n",
       "4  LOACKER QUADRATINI VANILLA WAFERS   \n",
       "\n",
       "                                                Text  \n",
       "0  DELICIOUS WAFERS. I FIND THAT EUROPEAN WAFERS ...  \n",
       "1  DELICIOUS WAFERS. I FIND THAT EUROPEAN WAFERS ...  \n",
       "2  DELICIOUS WAFERS. I FIND THAT EUROPEAN WAFERS ...  \n",
       "3  DELICIOUS WAFERS. I FIND THAT EUROPEAN WAFERS ...  \n",
       "4  DELICIOUS WAFERS. I FIND THAT EUROPEAN WAFERS ...  "
      ]
     },
     "execution_count": 35,
     "metadata": {},
     "output_type": "execute_result"
    }
   ],
   "source": [
    "#Checking the number of entries that came from UserId=\"AR5J8UI46CURR\"\n",
    "display= pd.read_sql_query(\"\"\"\n",
    "SELECT *\n",
    "FROM Reviews\n",
    "WHERE Score != 3 AND UserId=\"AR5J8UI46CURR\"\n",
    "ORDER BY ProductID\n",
    "\"\"\", connection_sqlobject)\n",
    "display.head()"
   ]
  },
  {
   "cell_type": "code",
   "execution_count": 36,
   "metadata": {
    "scrolled": true
   },
   "outputs": [
    {
     "name": "stdout",
     "output_type": "stream",
     "text": [
      "The shape of the filtered matrix : (525814, 12)\n",
      "The median score values : 4.27914813983652\n",
      "The number of positive and negative reviews before the removal of duplicate data.\n",
      "Positive    443777\n",
      "Negative     82037\n",
      "Name: SentimentPolarity, dtype: int64\n"
     ]
    }
   ],
   "source": [
    "#Display information about the dataset before the removal of duplicate data.\n",
    "print(\"The shape of the filtered matrix : {}\".format(filtered_data.shape))\n",
    "print(\"The median score values : {}\".format(filtered_data['Score'].mean()))\n",
    "print(\"The number of positive and negative reviews before the removal of duplicate data.\")\n",
    "print(filtered_data[\"SentimentPolarity\"].value_counts())"
   ]
  },
  {
   "cell_type": "markdown",
   "metadata": {
    "colab_type": "text",
    "id": "uT7p9_deLPmb"
   },
   "source": [
    "As it can be seen above that same user has multiple reviews with same values for HelpfulnessNumerator, HelpfulnessDenominator, Score, Time, Summary and Text and on doing analysis it was found that <br>\n",
    "<br> \n",
    "ProductId=B000HDOPZG was Loacker Quadratini Vanilla Wafer Cookies, 8.82-Ounce Packages (Pack of 8)<br>\n",
    "<br> \n",
    "ProductId=B000HDL1RQ was Loacker Quadratini Lemon Wafer Cookies, 8.82-Ounce Packages (Pack of 8) and so on<br>\n",
    "\n",
    "It was inferred after analysis that reviews with same parameters other than ProductId belonged to the same product just having different flavour or quantity. Hence in order to reduce redundancy it was decided to eliminate the rows having same parameters.<br>\n",
    "\n",
    "The method used for the same was that we first sort the data according to ProductId and then just keep the first similar product review and delelte the others. for eg. in the above just the review for ProductId=B000HDL1RQ remains. This method ensures that there is only one representative for each product and deduplication without sorting would lead to possibility of different representatives still existing for the same product."
   ]
  },
  {
   "cell_type": "code",
   "execution_count": 37,
   "metadata": {
    "colab": {},
    "colab_type": "code",
    "id": "mdsKFc50LPme",
    "scrolled": true
   },
   "outputs": [],
   "source": [
    "#Sorting data according to Time in ascending order. The oldest reviews will be displayed at the top and the new reviews will be display at the end of the dataset.\n",
    "sorted_data=filtered_data.sort_values('Time', axis=0, ascending=False, inplace=False, kind='quicksort', na_position='last')"
   ]
  },
  {
   "cell_type": "code",
   "execution_count": 38,
   "metadata": {
    "colab": {},
    "colab_type": "code",
    "id": "2itLgX-NLPmk",
    "outputId": "ac765625-dfdc-4e4e-f886-bd3b7ca3635a",
    "scrolled": true
   },
   "outputs": [
    {
     "name": "stdout",
     "output_type": "stream",
     "text": [
      "The shape of the data matrix after deduplication, Stage 1: (364173, 12)\n"
     ]
    }
   ],
   "source": [
    "#Removing duplicate entries based on past knowledge.\n",
    "filtered_duplicates=sorted_data.drop_duplicates(subset={\"UserId\",\"ProfileName\",\"Time\",\"Text\"}, keep='first', inplace=False)\n",
    "print(\"The shape of the data matrix after deduplication, Stage 1: {}\".format(filtered_duplicates.shape))"
   ]
  },
  {
   "cell_type": "markdown",
   "metadata": {
    "colab_type": "text",
    "id": "gFBOfSe4LPmy"
   },
   "source": [
    "<b>Observation:-</b> It was also seen that in two rows given below the value of HelpfulnessNumerator is greater than HelpfulnessDenominator which is not practically possible hence these two rows too are removed from calculations"
   ]
  },
  {
   "cell_type": "code",
   "execution_count": 39,
   "metadata": {
    "colab": {},
    "colab_type": "code",
    "id": "50flE40lLPmz",
    "outputId": "b6c7e38e-25c1-4a48-be1f-70fdf31aba13",
    "scrolled": true
   },
   "outputs": [
    {
     "data": {
      "text/html": [
       "<div>\n",
       "<style scoped>\n",
       "    .dataframe tbody tr th:only-of-type {\n",
       "        vertical-align: middle;\n",
       "    }\n",
       "\n",
       "    .dataframe tbody tr th {\n",
       "        vertical-align: top;\n",
       "    }\n",
       "\n",
       "    .dataframe thead th {\n",
       "        text-align: right;\n",
       "    }\n",
       "</style>\n",
       "<table border=\"1\" class=\"dataframe\">\n",
       "  <thead>\n",
       "    <tr style=\"text-align: right;\">\n",
       "      <th></th>\n",
       "      <th>Id</th>\n",
       "      <th>ProductId</th>\n",
       "      <th>UserId</th>\n",
       "      <th>ProfileName</th>\n",
       "      <th>HelpfulnessNumerator</th>\n",
       "      <th>HelpfulnessDenominator</th>\n",
       "      <th>Score</th>\n",
       "      <th>Time</th>\n",
       "      <th>Summary</th>\n",
       "      <th>Text</th>\n",
       "    </tr>\n",
       "  </thead>\n",
       "  <tbody>\n",
       "    <tr>\n",
       "      <th>0</th>\n",
       "      <td>64422</td>\n",
       "      <td>B000MIDROQ</td>\n",
       "      <td>A161DK06JJMCYF</td>\n",
       "      <td>J. E. Stephens \"Jeanne\"</td>\n",
       "      <td>3</td>\n",
       "      <td>1</td>\n",
       "      <td>5</td>\n",
       "      <td>1224892800</td>\n",
       "      <td>Bought This for My Son at College</td>\n",
       "      <td>My son loves spaghetti so I didn't hesitate or...</td>\n",
       "    </tr>\n",
       "    <tr>\n",
       "      <th>1</th>\n",
       "      <td>44737</td>\n",
       "      <td>B001EQ55RW</td>\n",
       "      <td>A2V0I904FH7ABY</td>\n",
       "      <td>Ram</td>\n",
       "      <td>3</td>\n",
       "      <td>2</td>\n",
       "      <td>4</td>\n",
       "      <td>1212883200</td>\n",
       "      <td>Pure cocoa taste with crunchy almonds inside</td>\n",
       "      <td>It was almost a 'love at first bite' - the per...</td>\n",
       "    </tr>\n",
       "  </tbody>\n",
       "</table>\n",
       "</div>"
      ],
      "text/plain": [
       "      Id   ProductId          UserId              ProfileName  \\\n",
       "0  64422  B000MIDROQ  A161DK06JJMCYF  J. E. Stephens \"Jeanne\"   \n",
       "1  44737  B001EQ55RW  A2V0I904FH7ABY                      Ram   \n",
       "\n",
       "   HelpfulnessNumerator  HelpfulnessDenominator  Score        Time  \\\n",
       "0                     3                       1      5  1224892800   \n",
       "1                     3                       2      4  1212883200   \n",
       "\n",
       "                                        Summary  \\\n",
       "0             Bought This for My Son at College   \n",
       "1  Pure cocoa taste with crunchy almonds inside   \n",
       "\n",
       "                                                Text  \n",
       "0  My son loves spaghetti so I didn't hesitate or...  \n",
       "1  It was almost a 'love at first bite' - the per...  "
      ]
     },
     "execution_count": 39,
     "metadata": {},
     "output_type": "execute_result"
    }
   ],
   "source": [
    "display= pd.read_sql_query(\"\"\"\n",
    "SELECT *\n",
    "FROM Reviews\n",
    "WHERE Score != 3 AND Id=44737 OR Id=64422\n",
    "ORDER BY ProductID\n",
    "\"\"\", connection_sqlobject)\n",
    "\n",
    "display.head()"
   ]
  },
  {
   "cell_type": "code",
   "execution_count": 40,
   "metadata": {
    "colab": {},
    "colab_type": "code",
    "id": "0YTPJMLTLPm7",
    "scrolled": true
   },
   "outputs": [],
   "source": [
    "#Removing the entries where HelpfulnessNumerator > HelpfulnessDenominator.\n",
    "final_data=filtered_duplicates[filtered_duplicates.HelpfulnessNumerator <= filtered_duplicates.HelpfulnessDenominator]"
   ]
  },
  {
   "cell_type": "code",
   "execution_count": 41,
   "metadata": {
    "colab": {},
    "colab_type": "code",
    "id": "LVJ_l-x2LPnC",
    "outputId": "d4a19c7a-16fe-4b5b-c3d1-aa1ef0f948a0",
    "scrolled": false
   },
   "outputs": [
    {
     "name": "stdout",
     "output_type": "stream",
     "text": [
      "\n",
      "The shape of the data matrix after deduplication, Stage 2: : (364171, 12)\n",
      "The median score values after deduplication : 4.27579626054793\n",
      "The number of positive and negative reviews after the removal of duplicate data.\n",
      "Positive    307061\n",
      "Negative     57110\n",
      "Name: SentimentPolarity, dtype: int64\n",
      "\n",
      "Checking to see how much percentage of data still remains.\n",
      "Percentage of redundant data removed : 30.741478926008057\n",
      "Percentage of original data retained : 69.25852107399194\n",
      "\n",
      "First 5 rows of the final data matrix after de-duplication and intial processing of the original dataset.\n"
     ]
    },
    {
     "data": {
      "text/html": [
       "<div>\n",
       "<style scoped>\n",
       "    .dataframe tbody tr th:only-of-type {\n",
       "        vertical-align: middle;\n",
       "    }\n",
       "\n",
       "    .dataframe tbody tr th {\n",
       "        vertical-align: top;\n",
       "    }\n",
       "\n",
       "    .dataframe thead th {\n",
       "        text-align: right;\n",
       "    }\n",
       "</style>\n",
       "<table border=\"1\" class=\"dataframe\">\n",
       "  <thead>\n",
       "    <tr style=\"text-align: right;\">\n",
       "      <th></th>\n",
       "      <th>Id</th>\n",
       "      <th>ProductId</th>\n",
       "      <th>UserId</th>\n",
       "      <th>ProfileName</th>\n",
       "      <th>HelpfulnessNumerator</th>\n",
       "      <th>HelpfulnessDenominator</th>\n",
       "      <th>Score</th>\n",
       "      <th>Time</th>\n",
       "      <th>Summary</th>\n",
       "      <th>Text</th>\n",
       "      <th>SentimentPolarity</th>\n",
       "      <th>Class_Labels</th>\n",
       "    </tr>\n",
       "  </thead>\n",
       "  <tbody>\n",
       "    <tr>\n",
       "      <th>122486</th>\n",
       "      <td>132756</td>\n",
       "      <td>B000O3KMKG</td>\n",
       "      <td>AAB6ZMWFCK4GO</td>\n",
       "      <td>Bill Gary</td>\n",
       "      <td>0</td>\n",
       "      <td>0</td>\n",
       "      <td>5</td>\n",
       "      <td>1351209600</td>\n",
       "      <td>Excellent</td>\n",
       "      <td>The Premium Bourbon Madagascar Vanilla Vannila...</td>\n",
       "      <td>Positive</td>\n",
       "      <td>1</td>\n",
       "    </tr>\n",
       "    <tr>\n",
       "      <th>435165</th>\n",
       "      <td>470583</td>\n",
       "      <td>B001LUM1ZU</td>\n",
       "      <td>A3HJN5HU71FQIT</td>\n",
       "      <td>muxicboxsuprhero</td>\n",
       "      <td>0</td>\n",
       "      <td>0</td>\n",
       "      <td>1</td>\n",
       "      <td>1351209600</td>\n",
       "      <td>God Awful</td>\n",
       "      <td>As a dabbler who enjoys spanning the entire sp...</td>\n",
       "      <td>Negative</td>\n",
       "      <td>0</td>\n",
       "    </tr>\n",
       "    <tr>\n",
       "      <th>279857</th>\n",
       "      <td>303246</td>\n",
       "      <td>B0002DGRZC</td>\n",
       "      <td>AUINI96NMGXUI</td>\n",
       "      <td>Kkrys23</td>\n",
       "      <td>0</td>\n",
       "      <td>0</td>\n",
       "      <td>5</td>\n",
       "      <td>1351209600</td>\n",
       "      <td>Love this faucet</td>\n",
       "      <td>Love this faucet.  My husband had installed th...</td>\n",
       "      <td>Positive</td>\n",
       "      <td>1</td>\n",
       "    </tr>\n",
       "    <tr>\n",
       "      <th>279856</th>\n",
       "      <td>303245</td>\n",
       "      <td>B0002DGRZC</td>\n",
       "      <td>A3SSEJ8IEM4YGW</td>\n",
       "      <td>Seagaul</td>\n",
       "      <td>0</td>\n",
       "      <td>0</td>\n",
       "      <td>5</td>\n",
       "      <td>1351209600</td>\n",
       "      <td>Dogs love it.</td>\n",
       "      <td>This is the \"all gone\" treat after dinner.  It...</td>\n",
       "      <td>Positive</td>\n",
       "      <td>1</td>\n",
       "    </tr>\n",
       "    <tr>\n",
       "      <th>466254</th>\n",
       "      <td>504114</td>\n",
       "      <td>B001M0AKE8</td>\n",
       "      <td>A07112861KSNE1D0ZA1NO</td>\n",
       "      <td>Canon Fan</td>\n",
       "      <td>0</td>\n",
       "      <td>0</td>\n",
       "      <td>4</td>\n",
       "      <td>1351209600</td>\n",
       "      <td>Quaker Instant Oatmeal Dinosaur Eggs</td>\n",
       "      <td>This has been a firm favorite at breakfast tim...</td>\n",
       "      <td>Positive</td>\n",
       "      <td>1</td>\n",
       "    </tr>\n",
       "  </tbody>\n",
       "</table>\n",
       "</div>"
      ],
      "text/plain": [
       "            Id   ProductId                 UserId       ProfileName  \\\n",
       "122486  132756  B000O3KMKG          AAB6ZMWFCK4GO         Bill Gary   \n",
       "435165  470583  B001LUM1ZU         A3HJN5HU71FQIT  muxicboxsuprhero   \n",
       "279857  303246  B0002DGRZC          AUINI96NMGXUI           Kkrys23   \n",
       "279856  303245  B0002DGRZC         A3SSEJ8IEM4YGW           Seagaul   \n",
       "466254  504114  B001M0AKE8  A07112861KSNE1D0ZA1NO         Canon Fan   \n",
       "\n",
       "        HelpfulnessNumerator  HelpfulnessDenominator  Score        Time  \\\n",
       "122486                     0                       0      5  1351209600   \n",
       "435165                     0                       0      1  1351209600   \n",
       "279857                     0                       0      5  1351209600   \n",
       "279856                     0                       0      5  1351209600   \n",
       "466254                     0                       0      4  1351209600   \n",
       "\n",
       "                                     Summary  \\\n",
       "122486                             Excellent   \n",
       "435165                             God Awful   \n",
       "279857                      Love this faucet   \n",
       "279856                         Dogs love it.   \n",
       "466254  Quaker Instant Oatmeal Dinosaur Eggs   \n",
       "\n",
       "                                                     Text SentimentPolarity  \\\n",
       "122486  The Premium Bourbon Madagascar Vanilla Vannila...          Positive   \n",
       "435165  As a dabbler who enjoys spanning the entire sp...          Negative   \n",
       "279857  Love this faucet.  My husband had installed th...          Positive   \n",
       "279856  This is the \"all gone\" treat after dinner.  It...          Positive   \n",
       "466254  This has been a firm favorite at breakfast tim...          Positive   \n",
       "\n",
       "        Class_Labels  \n",
       "122486             1  \n",
       "435165             0  \n",
       "279857             1  \n",
       "279856             1  \n",
       "466254             1  "
      ]
     },
     "execution_count": 41,
     "metadata": {},
     "output_type": "execute_result"
    }
   ],
   "source": [
    "#Display information about the dataset after the removal of duplicate data.\n",
    "print(\"\\nThe shape of the data matrix after deduplication, Stage 2: : {}\".format(final_data.shape))\n",
    "print(\"The median score values after deduplication : {}\".format(final_data['Score'].mean()))\n",
    "print(\"The number of positive and negative reviews after the removal of duplicate data.\")\n",
    "print(final_data[\"SentimentPolarity\"].value_counts())\n",
    "\n",
    "#Checking to see how much % of data still remains.\n",
    "print(\"\\nChecking to see how much percentage of data still remains.\")\n",
    "retained_per = (final_data['SentimentPolarity'].size*1.0)/(filtered_data['SentimentPolarity'].size*1.0)*100\n",
    "removed_per = 100 - retained_per\n",
    "print(\"Percentage of redundant data removed : {}\".format(removed_per))\n",
    "print(\"Percentage of original data retained : {}\".format(retained_per))\n",
    "\n",
    "#Delete unwanted variables to free up memory space\n",
    "del(filtered_duplicates, filtered_data, display, sorted_data)\n",
    "\n",
    "#Display the first 5 rows of the final data matrix after de-duplication and intial processing of the original dataset.\n",
    "print(\"\\nFirst 5 rows of the final data matrix after de-duplication and intial processing of the original dataset.\")\n",
    "final_data.head(5)"
   ]
  },
  {
   "cell_type": "code",
   "execution_count": 42,
   "metadata": {
    "scrolled": true
   },
   "outputs": [
    {
     "data": {
      "text/plain": [
       "<matplotlib.axes._subplots.AxesSubplot at 0x7fb63d1ebf60>"
      ]
     },
     "execution_count": 42,
     "metadata": {},
     "output_type": "execute_result"
    },
    {
     "data": {
      "image/png": "[encoded data removed]",
      "text/plain": [
       "<Figure size 360x360 with 1 Axes>"
      ]
     },
     "metadata": {},
     "output_type": "display_data"
    }
   ],
   "source": [
    "#Display distribution of Postive and Negative reviews in a bar graph\n",
    "final_data[\"Class_Labels\"].value_counts().plot(kind='bar',color=['green','red'],title='Distribution Of Positive and Negative reviews after De-Duplication.',figsize=(5,5))"
   ]
  },
  {
   "cell_type": "markdown",
   "metadata": {
    "colab_type": "text",
    "id": "GrTYWzYrLPnH"
   },
   "source": [
    "#  [3] Preprocessing"
   ]
  },
  {
   "cell_type": "markdown",
   "metadata": {
    "colab_type": "text",
    "id": "zbvLitZeLPnI"
   },
   "source": [
    "## [3.1].  Preprocessing Review Text\n",
    "\n",
    "Now that we have finished deduplication our data requires some preprocessing before we go on further with analysis and making the prediction model.\n",
    "\n",
    "Hence in the Preprocessing phase we do the following in the order below:-\n",
    "\n",
    "1. Begin by removing the html tags\n",
    "2. Remove any punctuations or limited set of special characters like , or . or # etc.\n",
    "3. Check if the word is made up of english letters and is not alpha-numeric\n",
    "4. Check to see if the length of the word is greater than 2 (as it was researched that there is no adjective in 2-letters)\n",
    "5. Convert the word to lowercase\n",
    "6. Remove Stopwords\n",
    "7. Finally Snowball Stemming the word (it was obsereved to be better than Porter Stemming)<br>\n",
    "\n",
    "After which we collect the words used to describe positive and negative reviews"
   ]
  },
  {
   "cell_type": "code",
   "execution_count": 43,
   "metadata": {
    "colab": {},
    "colab_type": "code",
    "id": "yYDc0ZXALPnK",
    "outputId": "5403fab9-796a-493d-f9d3-2a410d004f64",
    "scrolled": false
   },
   "outputs": [
    {
     "name": "stdout",
     "output_type": "stream",
     "text": [
      "The Premium Bourbon Madagascar Vanilla Vannila Beans were exactly as described in the ad.  They arrived promptly and I have made my first batch of homemade French Vanilla Creamer with them.  They are wonderful.\n",
      "Review Polarity: Positive\n",
      "=======================================================================================================================================================================================================================\n",
      "I was concerned about the what the expiration dates might be on these canned items, but they were good until 2015. This is a good deal.\n",
      "Review Polarity: Positive\n",
      "=======================================================================================================================================================================================================================\n",
      "This is my first time trying coconut oil.  I was happy that the oil has a very mild flavor.  I did try cooking with it by adding some to butter when cooking eggs.  I didn't taste any coconut, so I was happy with that.<br /><br />Overall, it is a good product because it didn't have a strong taste and I will be purchasing it again.\n",
      "Review Polarity: Positive\n",
      "=======================================================================================================================================================================================================================\n",
      "At first I too loved this shampoo. After only 2 weeks (washing 3 times a week) my hair started falling out in huge amounts. I quit using it and after a month there seems to be less fall out. My once thick native hair is now weak and thin. My daughter also had the same results.\n",
      "Review Polarity: Negative\n",
      "=======================================================================================================================================================================================================================\n",
      "Excellent service, the product arrived on time and same presentation I asked for. Will count for a next purchase with them.\n",
      "Review Polarity: Positive\n",
      "=======================================================================================================================================================================================================================\n",
      "I recently bought this maple-flavored Agave syrup and absolutely loved the maple flavor on my homemade oat pancakes and french toast. I had to stop consuming sugar and real maple syrup and this is the best substitute so far.  I only use 1 tablespoon on 2 pancakes or french toast. To cut calories, I also use I can't Believe it's Not Butter spray that has no calories or fat. I did buy it at my local health store in south Florida.\n",
      "Review Polarity: Positive\n",
      "=======================================================================================================================================================================================================================\n"
     ]
    }
   ],
   "source": [
    "#Printing some random reviews from the deduplicated dataset.\n",
    "sent_1 = final_data['Text'].values[0]\n",
    "print(sent_1)\n",
    "print(\"Review Polarity: {}\".format(final_data['SentimentPolarity'].values[0]))\n",
    "print(\"=\"*215)\n",
    "\n",
    "sent_2 = final_data['Text'].values[1000]\n",
    "print(sent_2)\n",
    "print(\"Review Polarity: {}\".format(final_data['SentimentPolarity'].values[1000]))\n",
    "print(\"=\"*215)\n",
    "\n",
    "sent_3 = final_data['Text'].values[1500]\n",
    "print(sent_3)\n",
    "print(\"Review Polarity: {}\".format(final_data['SentimentPolarity'].values[1500]))\n",
    "print(\"=\"*215)\n",
    "\n",
    "sent_4 = final_data['Text'].values[4900]\n",
    "print(sent_4)\n",
    "print(\"Review Polarity: {}\".format(final_data['SentimentPolarity'].values[4900]))\n",
    "print(\"=\"*215)\n",
    "\n",
    "sent_5 = final_data['Text'].values[12566]\n",
    "print(sent_5)\n",
    "print(\"Review Polarity: {}\".format(final_data['SentimentPolarity'].values[12566]))\n",
    "print(\"=\"*215)\n",
    "\n",
    "sent_6 = final_data['Text'].values[255600]\n",
    "print(sent_6)\n",
    "print(\"Review Polarity: {}\".format(final_data['SentimentPolarity'].values[255600]))\n",
    "print(\"=\"*215)"
   ]
  },
  {
   "cell_type": "code",
   "execution_count": 44,
   "metadata": {
    "colab": {},
    "colab_type": "code",
    "id": "AxYh-wPiLPnS",
    "outputId": "31bddcb2-6c52-4b16-f9fb-c03d5b3bb7c8",
    "scrolled": false
   },
   "outputs": [
    {
     "name": "stdout",
     "output_type": "stream",
     "text": [
      "The Premium Bourbon Madagascar Vanilla Vannila Beans were exactly as described in the ad.  They arrived promptly and I have made my first batch of homemade French Vanilla Creamer with them.  They are wonderful. \n",
      "\n",
      "=======================================================================================================================================================================================================================\n",
      "I was concerned about the what the expiration dates might be on these canned items, but they were good until 2015. This is a good deal. \n",
      "\n",
      "=======================================================================================================================================================================================================================\n",
      "This is my first time trying coconut oil.  I was happy that the oil has a very mild flavor.  I did try cooking with it by adding some to butter when cooking eggs.  I didn't taste any coconut, so I was happy with that.<br /><br />Overall, it is a good product because it didn't have a strong taste and I will be purchasing it again. \n",
      "\n",
      "=======================================================================================================================================================================================================================\n",
      "At first I too loved this shampoo. After only 2 weeks (washing 3 times a week) my hair started falling out in huge amounts. I quit using it and after a month there seems to be less fall out. My once thick native hair is now weak and thin. My daughter also had the same results. \n",
      "\n",
      "=======================================================================================================================================================================================================================\n",
      "Excellent service, the product arrived on time and same presentation I asked for. Will count for a next purchase with them. \n",
      "\n",
      "=======================================================================================================================================================================================================================\n",
      "I recently bought this maple-flavored Agave syrup and absolutely loved the maple flavor on my homemade oat pancakes and french toast. I had to stop consuming sugar and real maple syrup and this is the best substitute so far.  I only use 1 tablespoon on 2 pancakes or french toast. To cut calories, I also use I can't Believe it's Not Butter spray that has no calories or fat. I did buy it at my local health store in south Florida. \n",
      "\n",
      "=======================================================================================================================================================================================================================\n"
     ]
    }
   ],
   "source": [
    "#Remove urls from text python: https://stackoverflow.com/a/40823105/4084039\n",
    "sent_1 = re.sub(r\"http\\S+\", \" \", sent_1)\n",
    "sent_2 = re.sub(r\"http\\S+\", \" \", sent_2)\n",
    "sent_3 = re.sub(r\"http\\S+\", \" \", sent_3)\n",
    "sent_4 = re.sub(r\"http\\S+\", \" \", sent_4)\n",
    "sent_5 = re.sub(r\"http\\S+\", \" \", sent_5)\n",
    "sent_6 = re.sub(r\"http\\S+\", \" \", sent_6)\n",
    "\n",
    "print(sent_1,\"\\n\")\n",
    "print(\"=\"*215)\n",
    "print(sent_2,\"\\n\")\n",
    "print(\"=\"*215)\n",
    "print(sent_3,\"\\n\")\n",
    "print(\"=\"*215)\n",
    "print(sent_4,\"\\n\")\n",
    "print(\"=\"*215)\n",
    "print(sent_5,\"\\n\")\n",
    "print(\"=\"*215)\n",
    "print(sent_6,\"\\n\")\n",
    "print(\"=\"*215)"
   ]
  },
  {
   "cell_type": "code",
   "execution_count": 45,
   "metadata": {
    "colab": {},
    "colab_type": "code",
    "id": "JMSSWjZqLPne",
    "outputId": "eb1bae4e-6f37-45ee-84a3-ef3bebf4e30a",
    "scrolled": false
   },
   "outputs": [
    {
     "name": "stdout",
     "output_type": "stream",
     "text": [
      "The Premium Bourbon Madagascar Vanilla Vannila Beans were exactly as described in the ad.  They arrived promptly and I have made my first batch of homemade French Vanilla Creamer with them.  They are wonderful.\n",
      "\n",
      "I was concerned about the what the expiration dates might be on these canned items, but they were good until 2015. This is a good deal.\n",
      "\n",
      "This is my first time trying coconut oil.  I was happy that the oil has a very mild flavor.  I did try cooking with it by adding some to butter when cooking eggs.  I didn't taste any coconut, so I was happy with that.  Overall, it is a good product because it didn't have a strong taste and I will be purchasing it again.\n",
      "\n",
      "At first I too loved this shampoo. After only 2 weeks (washing 3 times a week) my hair started falling out in huge amounts. I quit using it and after a month there seems to be less fall out. My once thick native hair is now weak and thin. My daughter also had the same results.\n",
      "\n",
      "Excellent service, the product arrived on time and same presentation I asked for. Will count for a next purchase with them.\n",
      "\n",
      "I recently bought this maple-flavored Agave syrup and absolutely loved the maple flavor on my homemade oat pancakes and french toast. I had to stop consuming sugar and real maple syrup and this is the best substitute so far.  I only use 1 tablespoon on 2 pancakes or french toast. To cut calories, I also use I can't Believe it's Not Butter spray that has no calories or fat. I did buy it at my local health store in south Florida.\n",
      "\n"
     ]
    }
   ],
   "source": [
    "#Function to clean html tags from a sentence\n",
    "def removeHtml(sentence): \n",
    "    pattern = re.compile('<.*?>')\n",
    "    cleaned_text = re.sub(pattern,' ',sentence)\n",
    "    return cleaned_text\n",
    "\n",
    "\n",
    "print(removeHtml(sent_1) + \"\\n\")\n",
    "print(removeHtml(sent_2) + \"\\n\")\n",
    "print(removeHtml(sent_3) + \"\\n\")\n",
    "print(removeHtml(sent_4) + \"\\n\")\n",
    "print(removeHtml(sent_5) + \"\\n\")\n",
    "print(removeHtml(sent_6) + \"\\n\")"
   ]
  },
  {
   "cell_type": "code",
   "execution_count": 46,
   "metadata": {
    "colab": {},
    "colab_type": "code",
    "id": "BEtpMkhULPnt",
    "scrolled": true
   },
   "outputs": [],
   "source": [
    "# https://stackoverflow.com/a/47091490/4084039\n",
    "# https://en.wikipedia.org/wiki/Wikipedia:List_of_English_contractions\n",
    "import re\n",
    "\n",
    "#Expand the reviews x is aninput string of any length. Convert all the words to lower case\n",
    "def decontracted(x):\n",
    "    x = str(x).lower()\n",
    "    x = x.replace(\",000,000\", \" m\").replace(\",000\", \" k\").replace(\"′\", \"'\").replace(\"’\", \"'\")\\\n",
    "                           .replace(\"won't\", \" will not\").replace(\"cannot\", \" can not\").replace(\"can't\", \" can not\")\\\n",
    "                           .replace(\"n't\", \" not\").replace(\"what's\", \" what is\").replace(\"it's\", \" it is\")\\\n",
    "                           .replace(\"'ve\", \" have\").replace(\"'m\", \" am\").replace(\"'re\", \" are\")\\\n",
    "                           .replace(\"he's\", \" he is\").replace(\"she's\", \" she is\").replace(\"'s\", \" own\")\\\n",
    "                           .replace(\"%\", \" percent \").replace(\"₹\", \" rupee \").replace(\"$\", \" dollar \")\\\n",
    "                           .replace(\"€\", \" euro \").replace(\"'ll\", \" will\").replace(\"how's\",\" how has\").replace(\"y'all\",\" you all\")\\\n",
    "                           .replace(\"o'clock\",\" of the clock\").replace(\"ne'er\",\" never\").replace(\"let's\",\" let us\")\\\n",
    "                           .replace(\"finna\",\" fixing to\").replace(\"gonna\",\" going to\").replace(\"gimme\",\" give me\").replace(\"gotta\",\" got to\").replace(\"'d\",\" would\")\\\n",
    "                           .replace(\"daresn't\",\" dare not\").replace(\"dasn't\",\" dare not\").replace(\"e'er\",\" ever\").replace(\"everyone's\",\" everyone is\")\\\n",
    "                           .replace(\"'cause'\",\" because\")\n",
    "    \n",
    "    x = re.sub(r\"([0-9]+)000000\", r\"\\1m\", x)\n",
    "    x = re.sub(r\"([0-9]+)000\", r\"\\1k\", x)\n",
    "    return x"
   ]
  },
  {
   "cell_type": "code",
   "execution_count": 47,
   "metadata": {
    "colab": {},
    "colab_type": "code",
    "id": "Kl8nOoL-LPn3",
    "outputId": "16742d57-2529-4fc0-9d28-e9332dbbca97",
    "scrolled": true
   },
   "outputs": [
    {
     "name": "stdout",
     "output_type": "stream",
     "text": [
      "The Premium Bourbon Madagascar Vanilla Vannila Beans were exactly as described in the ad.  They arrived promptly and I have made my first batch of homemade French Vanilla Creamer with them.  They are wonderful.\n"
     ]
    }
   ],
   "source": [
    "#remove words with numbers python: https://stackoverflow.com/a/18082370/4084039\n",
    "'''\n",
    ">>> import re\n",
    ">>> s = \"ABCD abcd AB55 55CD A55D 5555\"\n",
    ">>> re.sub(\"\\S*\\d\\S*\", \"\", s).strip()\n",
    "\n",
    "'ABCD abcd'\n",
    ">>>'''\n",
    "\n",
    "sent_1 = re.sub(\"\\S*\\d\\S*\", \" \", sent_1).strip()\n",
    "print(sent_1)"
   ]
  },
  {
   "cell_type": "code",
   "execution_count": 73,
   "metadata": {
    "colab": {},
    "colab_type": "code",
    "id": "EGB6X2uxLPn7",
    "outputId": "dbd754e5-eb73-4b3a-f3c3-7b1b40952851",
    "scrolled": true
   },
   "outputs": [],
   "source": [
    "'''Data Cleaning Stage. Clean each review from the sampled Amazon Dataset.'''\n",
    "#Data Cleaning Stage. Clean each review from the sampled Amazon Dataset\n",
    "\n",
    "''' pattern = re.compile('<.*?>') #Function to clean html tags from a sentence\n",
    "    cleaned_text = re.sub(pattern,' ',sentence)\n",
    "    return cleaned_text'''\n",
    "\n",
    "#Remove words with numbers python: https://stackoverflow.com/a/18082370/4084039\n",
    "def removeNumbers(sentence):\n",
    "    sentence = re.sub(\"\\S*\\d\\S*\", \" \", sentence).strip()\n",
    "    return (sentence)\n",
    "\n",
    "#Function to clean html tags from a sentence\n",
    "def removeHtml(sentence): \n",
    "    pattern = re.compile('<.*?>')\n",
    "    cleaned_text = re.sub(pattern,' ',sentence)\n",
    "    return cleaned_text\n",
    "\n",
    "#Remove URL from sentences.\n",
    "def removeURL(sentence):\n",
    "    text = re.sub(r\"http\\S+\", \" \", sentence)\n",
    "    sentence = re.sub(r\"www.\\S+\", \" \", text)\n",
    "    return (sentence)\n",
    "    \n",
    "#Function to keep only words containing letters A-Z and a-z. This will remove all punctuations, special characters etc. https://stackoverflow.com/a/5843547/4084039\n",
    "def removePunctuations(sentence):\n",
    "    cleaned_text  = re.sub('[^a-zA-Z]',' ',sentence)\n",
    "    return (cleaned_text)\n",
    "\n",
    "#https://stackoverflow.com/questions/37012948/regex-to-match-an-entire-word-that-contains-repeated-character\n",
    "#Remove words like 'zzzzzzzzzzzzzzzzzzzzzzz', 'testtting', 'grrrrrrreeeettttt' etc. Preserves words like 'looks', 'goods', 'soon' etc. We will remove all such words which has three consecutive repeating characters.\n",
    "def removePatterns(sentence): \n",
    "    cleaned_text  = re.sub(\"\\\\s*\\\\b(?=\\\\w*(\\\\w)\\\\1{2,})\\\\w*\\\\b\",' ',sentence)\n",
    "    return (cleaned_text)"
   ]
  },
  {
   "cell_type": "code",
   "execution_count": 49,
   "metadata": {
    "colab": {},
    "colab_type": "code",
    "id": "CCurSJJ2LPn_",
    "scrolled": true
   },
   "outputs": [],
   "source": [
    "#Stemming and stopwords removal\n",
    "from nltk.stem.snowball import SnowballStemmer\n",
    "sno = SnowballStemmer(language='english')\n",
    "\n",
    "#Removing the word 'not' from stopwords\n",
    "default_stopwords = set(stopwords.words('english'))\n",
    "remove_not = set(['no', 'nor', 'not'])\n",
    "custom_stopwords = default_stopwords - remove_not"
   ]
  },
  {
   "cell_type": "markdown",
   "metadata": {},
   "source": [
    "<h2><font color='red'>[3.1] Preprocessing Review Text</font></h2>"
   ]
  },
  {
   "cell_type": "code",
   "execution_count": 71,
   "metadata": {
    "scrolled": false
   },
   "outputs": [
    {
     "name": "stderr",
     "output_type": "stream",
     "text": [
      "100%|██████████| 364171/364171 [07:29<00:00, 810.97it/s] \n",
      "100%|██████████| 70246/70246 [00:00<00:00, 797137.23it/s]\n"
     ]
    },
    {
     "data": {
      "text/plain": [
       "Text(0,0.5,'Number of Words')"
      ]
     },
     "execution_count": 71,
     "metadata": {},
     "output_type": "execute_result"
    },
    {
     "data": {
      "image/png": "[encoded data removed]",
      "text/plain": [
       "<Figure size 1440x720 with 1 Axes>"
      ]
     },
     "metadata": {},
     "output_type": "display_data"
    }
   ],
   "source": [
    "#We will check the distribution of stemmed word lengths across the whole review dataset to understand what is the length of the maximum number of words we will consider for the word to be relevant.\n",
    "#In other words we will keep only those words which has a length less than that of a speicific length (we will obtain this specific length from the histogram).\n",
    "total_words = []\n",
    "\n",
    "for review in tqdm(final_data['Text'].values):\n",
    "    filtered_sentence=[]\n",
    "    review = decontracted(review)\n",
    "    review = removeNumbers(review)\n",
    "    review = removeHtml(review)\n",
    "    review = removeURL(review)\n",
    "    review = removePunctuations(review)\n",
    "    review = removePatterns(review)\n",
    "    \n",
    "    for cleaned_words in review.split():   \n",
    "        if((cleaned_words not in custom_stopwords)):          \n",
    "            stemed_word=(sno.stem(cleaned_words.lower()))\n",
    "            total_words.append(stemed_word)\n",
    "\n",
    "total_words = list(set(total_words)) #Get list of unique words.\n",
    "\n",
    "#A list to hold the length of each words used in all the reviews used across the whole dataset.\n",
    "dist = []\n",
    "for i in tqdm(total_words):\n",
    "    length = len(i)\n",
    "    dist.append(length)\n",
    "\n",
    "# matplotlib histogram to see the distribution of the length of words\n",
    "plt.figure(figsize=(20,10))\n",
    "plt.hist(dist, color = 'red', edgecolor = 'blue', bins =90)\n",
    "plt.title('Distribution of the length of Words across all reviews.')\n",
    "plt.xlabel('Word Lengths')\n",
    "plt.ylabel('Number of Words')"
   ]
  },
  {
   "cell_type": "markdown",
   "metadata": {},
   "source": [
    "### Conclusion from the above histogram:\n",
    "We can see that most stemmed words present in the reviews has lengths between 4 and 10. Words which has length greater than 15 are very very very few as compared to other words. So we will discard these words from the reviews when we process them. It means we will consider only those words whose length is greater than 2 and less than 16."
   ]
  },
  {
   "cell_type": "code",
   "execution_count": 74,
   "metadata": {
    "colab": {},
    "colab_type": "code",
    "id": "mFHQEvfnLPoF",
    "outputId": "5cd6bcc3-54fe-4a8e-a39d-d6dabf3f37f9",
    "scrolled": true
   },
   "outputs": [
    {
     "name": "stderr",
     "output_type": "stream",
     "text": [
      "100%|██████████| 364171/364171 [11:37<00:00, 521.74it/s]\n"
     ]
    },
    {
     "name": "stdout",
     "output_type": "stream",
     "text": [
      "The length of the data corpus is : 364171\n"
     ]
    }
   ],
   "source": [
    "# Combining all the above data cleaning methodologies as discussed above.\n",
    "\n",
    "#Processing review Texts\n",
    "preprocessed_reviews = [] #Store all the processed reviews\n",
    "all_positive_words=[] #Store all the relevant words from Positive reviews\n",
    "all_negative_words=[] #Store all the relevant words from Negative reviews\n",
    " \n",
    "count=0     #Iterator to iterate through the list of reviews and check if a given review belongs to the positive or negative class\n",
    "string=' '    \n",
    "stemed_word=' '\n",
    "\n",
    "for review in tqdm(final_data['Text'].values):\n",
    "    filtered_sentence=[]\n",
    "    review = decontracted(review)\n",
    "    review = removeNumbers(review)\n",
    "    review = removeHtml(review)\n",
    "    review = removeURL(review)\n",
    "    review = removePunctuations(review)\n",
    "    review = removePatterns(review)\n",
    "    \n",
    "    for cleaned_words in review.split():   \n",
    "        if((cleaned_words not in custom_stopwords) and (2<len(cleaned_words)<16)):\n",
    "            stemed_word=(sno.stem(cleaned_words.lower()))                                   \n",
    "            filtered_sentence.append(stemed_word)\n",
    "            if (final_data['SentimentPolarity'].values)[count] == 'Positive': \n",
    "                all_positive_words.append(stemed_word) #List of all the relevant words from Positive reviews\n",
    "            if(final_data['SentimentPolarity'].values)[count] == 'Negative':\n",
    "                all_negative_words.append(stemed_word) #List of all the relevant words from Negative reviews\n",
    "        else:\n",
    "            continue\n",
    "    review = \" \".join(filtered_sentence) #Final string of cleaned words    \n",
    "    preprocessed_reviews.append(review.strip()) #Data corpus contaning cleaned reviews from the whole dataset\n",
    "    count+=1\n",
    "    \n",
    "#Save the list of positive words and negative words\n",
    "import pickle\n",
    "with open('all_positive_words.pkl', 'wb') as file:\n",
    "    pickle.dump(all_positive_words, file)\n",
    "    \n",
    "with open('all_negative_words.pkl', 'wb') as file:\n",
    "    pickle.dump(all_negative_words, file)\n",
    "    \n",
    "#Adding a column of CleanedText to the table final which stores the data_corpus after pre-processing the reviews \n",
    "final_data['CleanedText']=preprocessed_reviews \n",
    "    \n",
    "print(\"The length of the data corpus is : {}\".format(len(preprocessed_reviews)))\n",
    "\n",
    "#Adding a column of CleanedText to the table final which stores the data_corpus after pre-processing the reviews \n",
    "final_data['CleanedText']=preprocessed_reviews"
   ]
  },
  {
   "cell_type": "markdown",
   "metadata": {
    "colab_type": "text",
    "id": "9IuKp2HULPoL"
   },
   "source": [
    "<h2><font color='red'>[3.2] Preprocessing Review Summary + Saving the Processed DB for future use.</font></h2>"
   ]
  },
  {
   "cell_type": "code",
   "execution_count": 79,
   "metadata": {
    "colab": {},
    "colab_type": "code",
    "id": "Qk7gYOmKLPoM",
    "scrolled": false
   },
   "outputs": [
    {
     "name": "stdout",
     "output_type": "stream",
     "text": [
      "File is saved as 'totally_processed_DB.sqlite'\n"
     ]
    }
   ],
   "source": [
    "## Similartly you can do preprocessing for summary summary also.\n",
    "import warnings\n",
    "warnings.filterwarnings(\"ignore\")\n",
    "\n",
    "preprocessed_summary = [] #Store all the processed summary\n",
    " \n",
    "count=0     #Iterator to iterate through the list of summarys and check if a given summary belongs to the positive or negative class\n",
    "string=' '    \n",
    "stemed_word=' '\n",
    "\n",
    "for summary in tqdm(final_data['Summary'].values):\n",
    "    filtered_sentence=[]\n",
    "    summary = decontracted(summary)\n",
    "    summary = removeNumbers(summary)\n",
    "    summary = removeHtml(summary)\n",
    "    summary = removeURL(summary)\n",
    "    summary = removePunctuations(summary)\n",
    "    summary = removePatterns(summary)\n",
    "    \n",
    "    for cleaned_words in summary.split():\n",
    "        if(2<len(cleaned_words)<16):\n",
    "            stemed_word=(sno.stem(cleaned_words.lower()))\n",
    "            filtered_sentence.append(stemed_word)\n",
    "    summary = \" \".join(filtered_sentence) #Final string of cleaned words    \n",
    "    preprocessed_summary.append(summary.strip()) #Data corpus contaning cleaned summarys from the whole dataset\n",
    "    count+=1\n",
    "    \n",
    "#Adding a column of CleanedSummary to the table final which stores the data_corpus after pre-processing the summarys \n",
    "final_data['CleanedSummary']=preprocessed_summary\n",
    "\n",
    "#Combing the reviews with summary for each sentence\n",
    "final_data['Combined_Reviews'] = final_data['CleanedText'].values + \" \" + final_data['CleanedSummary'].values \n",
    "\n",
    "#Store final table into an SQlLite table for future.\n",
    "connection_sqlobject = sqlite3.connect('totally_processed_DB.sqlite')\n",
    "c=connection_sqlobject.cursor()\n",
    "connection_sqlobject.text_factory = str\n",
    "final_data.to_sql('Reviews', connection_sqlobject, schema=None, if_exists='replace', index=True)\n",
    "\n",
    "print(\"File is saved as 'totally_processed_DB.sqlite'\")"
   ]
  },
  {
   "cell_type": "markdown",
   "metadata": {},
   "source": [
    "## Apply PCA"
   ]
  },
  {
   "cell_type": "markdown",
   "metadata": {},
   "source": [
    "### PCA for Data Visualization."
   ]
  },
  {
   "cell_type": "code",
   "execution_count": 10,
   "metadata": {},
   "outputs": [],
   "source": [
    "def standardize(data):\n",
    "    from sklearn.preprocessing import StandardScaler\n",
    "    data_std = StandardScaler().fit_transform(data)\n",
    "    return data_std\n",
    "\n",
    "def pca_vis(data, labels):\n",
    "    #Initializing the pca & Configuring the parameteres, the number of components = 2\n",
    "    st = dt.now()\n",
    "    pca = decomposition.PCA(n_components = 2)\n",
    "    pca_reduced = pca.fit_transform(data)\n",
    "\n",
    "    #pca_reduced will contain the 2-d projects of simple data\n",
    "    print(\"Shape of pca_reduced.shape = \", pca_reduced.shape)\n",
    "    \n",
    "    # attaching the label for each 2-d data point \n",
    "    pca_data = np.vstack((pca_reduced.T, labels)).T\n",
    "    print(\"shape of pca_data.shape = \", pca_data.shape)\n",
    "\n",
    "    #Creating a new data frame which help us in ploting the result data\n",
    "    pca_df = pd.DataFrame(data=pca_data, columns=(\"1st_principal_component\", \"2nd_principal_component\", \"labels\"))\n",
    "    sns.FacetGrid(pca_df, hue=\"labels\", height=6).map(plt.scatter, '1st_principal_component', '2nd_principal_component').add_legend()\n",
    "    plt.show()\n",
    "    print(\"Time taken to perform Principal Component Analysis: \",dt.now()-st)"
   ]
  },
  {
   "cell_type": "markdown",
   "metadata": {},
   "source": [
    "### PCA for Dimensionality reduction (Not for visualization)"
   ]
  },
  {
   "cell_type": "code",
   "execution_count": 11,
   "metadata": {},
   "outputs": [],
   "source": [
    "def pca_redu(data,labels):\n",
    "    # PCA for dimensionality redcution (non-visualization)\n",
    "    pca = decomposition.PCA()\n",
    "    pca.n_components = data.shape[1]\n",
    "    pca_data = pca.fit_transform(data)\n",
    "\n",
    "    percentage_var_explained = pca.explained_variance_ / np.sum(pca.explained_variance_);\n",
    "\n",
    "    cum_var_explained = np.cumsum(percentage_var_explained)\n",
    "\n",
    "    # Plot the PCA spectrum\n",
    "    plt.figure(1, figsize=(6, 4))\n",
    "\n",
    "    plt.clf()\n",
    "    plt.plot(cum_var_explained, linewidth=2)\n",
    "    plt.axis('tight')\n",
    "    plt.grid()\n",
    "    plt.xlabel('n_components')\n",
    "    plt.ylabel('Cumulative_explained_variance')\n",
    "    plt.show()"
   ]
  },
  {
   "cell_type": "markdown",
   "metadata": {},
   "source": [
    "# [4] Featurization"
   ]
  },
  {
   "cell_type": "code",
   "execution_count": 12,
   "metadata": {
    "scrolled": false
   },
   "outputs": [
    {
     "data": {
      "text/html": [
       "<div>\n",
       "<style scoped>\n",
       "    .dataframe tbody tr th:only-of-type {\n",
       "        vertical-align: middle;\n",
       "    }\n",
       "\n",
       "    .dataframe tbody tr th {\n",
       "        vertical-align: top;\n",
       "    }\n",
       "\n",
       "    .dataframe thead th {\n",
       "        text-align: right;\n",
       "    }\n",
       "</style>\n",
       "<table border=\"1\" class=\"dataframe\">\n",
       "  <thead>\n",
       "    <tr style=\"text-align: right;\">\n",
       "      <th></th>\n",
       "      <th>index</th>\n",
       "      <th>Id</th>\n",
       "      <th>ProductId</th>\n",
       "      <th>UserId</th>\n",
       "      <th>ProfileName</th>\n",
       "      <th>HelpfulnessNumerator</th>\n",
       "      <th>HelpfulnessDenominator</th>\n",
       "      <th>Score</th>\n",
       "      <th>Time</th>\n",
       "      <th>Summary</th>\n",
       "      <th>Text</th>\n",
       "      <th>SentimentPolarity</th>\n",
       "      <th>Class_Labels</th>\n",
       "      <th>CleanedText</th>\n",
       "      <th>CleanedSummary</th>\n",
       "      <th>Combined_Reviews</th>\n",
       "    </tr>\n",
       "  </thead>\n",
       "  <tbody>\n",
       "    <tr>\n",
       "      <th>194118</th>\n",
       "      <td>167430</td>\n",
       "      <td>181532</td>\n",
       "      <td>B003M60630</td>\n",
       "      <td>A1IJEKEM7UBQLZ</td>\n",
       "      <td>Jan A</td>\n",
       "      <td>0</td>\n",
       "      <td>0</td>\n",
       "      <td>4</td>\n",
       "      <td>1307145600</td>\n",
       "      <td>Great tea</td>\n",
       "      <td>It took me a long time to find some non-sweete...</td>\n",
       "      <td>Positive</td>\n",
       "      <td>1</td>\n",
       "      <td>took long time find non sweeten black tea prod...</td>\n",
       "      <td>great tea</td>\n",
       "      <td>took long time find non sweeten black tea prod...</td>\n",
       "    </tr>\n",
       "    <tr>\n",
       "      <th>205569</th>\n",
       "      <td>39298</td>\n",
       "      <td>42669</td>\n",
       "      <td>B000096O8Y</td>\n",
       "      <td>A22AWYOE96I4M3</td>\n",
       "      <td>P. A. Ross</td>\n",
       "      <td>0</td>\n",
       "      <td>0</td>\n",
       "      <td>5</td>\n",
       "      <td>1302998400</td>\n",
       "      <td>nostalgia</td>\n",
       "      <td>When I was a child I fell in love with this ca...</td>\n",
       "      <td>Positive</td>\n",
       "      <td>1</td>\n",
       "      <td>child fell love candi flavor fun fast forward ...</td>\n",
       "      <td>nostalgia</td>\n",
       "      <td>child fell love candi flavor fun fast forward ...</td>\n",
       "    </tr>\n",
       "    <tr>\n",
       "      <th>251045</th>\n",
       "      <td>82195</td>\n",
       "      <td>89380</td>\n",
       "      <td>B003X0VMLU</td>\n",
       "      <td>A13X0B0WFM69UB</td>\n",
       "      <td>D. Newman \"PC Doc\"</td>\n",
       "      <td>0</td>\n",
       "      <td>0</td>\n",
       "      <td>5</td>\n",
       "      <td>1285027200</td>\n",
       "      <td>Weetabix is excellent!</td>\n",
       "      <td>I have eaten Weetabix cereal for over 30 years...</td>\n",
       "      <td>Positive</td>\n",
       "      <td>1</td>\n",
       "      <td>eaten weetabix cereal year sinc first found en...</td>\n",
       "      <td>weetabix excel</td>\n",
       "      <td>eaten weetabix cereal year sinc first found en...</td>\n",
       "    </tr>\n",
       "    <tr>\n",
       "      <th>192337</th>\n",
       "      <td>100659</td>\n",
       "      <td>109353</td>\n",
       "      <td>B000FKR1H0</td>\n",
       "      <td>A2QUAQ4GR6SLF7</td>\n",
       "      <td>Anniepoo \"just myself\"</td>\n",
       "      <td>0</td>\n",
       "      <td>0</td>\n",
       "      <td>5</td>\n",
       "      <td>1307836800</td>\n",
       "      <td>An excellent peppermint!</td>\n",
       "      <td>I love C Howard Violet Mints.  I also love the...</td>\n",
       "      <td>Positive</td>\n",
       "      <td>1</td>\n",
       "      <td>love howard violet mint also love peppermint t...</td>\n",
       "      <td>excel peppermint</td>\n",
       "      <td>love howard violet mint also love peppermint t...</td>\n",
       "    </tr>\n",
       "    <tr>\n",
       "      <th>135085</th>\n",
       "      <td>437907</td>\n",
       "      <td>473559</td>\n",
       "      <td>B004M8PNQM</td>\n",
       "      <td>A3RSCZVW3CZYSQ</td>\n",
       "      <td>Mom of three</td>\n",
       "      <td>0</td>\n",
       "      <td>0</td>\n",
       "      <td>5</td>\n",
       "      <td>1323820800</td>\n",
       "      <td>Not too sweet...just satisfying</td>\n",
       "      <td>I enjoyed the fresh taste, the pulp, the way I...</td>\n",
       "      <td>Positive</td>\n",
       "      <td>1</td>\n",
       "      <td>enjoy fresh tast pulp way felt drink energ smo...</td>\n",
       "      <td>not too sweet just satisfi</td>\n",
       "      <td>enjoy fresh tast pulp way felt drink energ smo...</td>\n",
       "    </tr>\n",
       "  </tbody>\n",
       "</table>\n",
       "</div>"
      ],
      "text/plain": [
       "         index      Id   ProductId          UserId             ProfileName  \\\n",
       "194118  167430  181532  B003M60630  A1IJEKEM7UBQLZ                   Jan A   \n",
       "205569   39298   42669  B000096O8Y  A22AWYOE96I4M3              P. A. Ross   \n",
       "251045   82195   89380  B003X0VMLU  A13X0B0WFM69UB      D. Newman \"PC Doc\"   \n",
       "192337  100659  109353  B000FKR1H0  A2QUAQ4GR6SLF7  Anniepoo \"just myself\"   \n",
       "135085  437907  473559  B004M8PNQM  A3RSCZVW3CZYSQ            Mom of three   \n",
       "\n",
       "        HelpfulnessNumerator  HelpfulnessDenominator  Score        Time  \\\n",
       "194118                     0                       0      4  1307145600   \n",
       "205569                     0                       0      5  1302998400   \n",
       "251045                     0                       0      5  1285027200   \n",
       "192337                     0                       0      5  1307836800   \n",
       "135085                     0                       0      5  1323820800   \n",
       "\n",
       "                                Summary  \\\n",
       "194118                        Great tea   \n",
       "205569                        nostalgia   \n",
       "251045           Weetabix is excellent!   \n",
       "192337         An excellent peppermint!   \n",
       "135085  Not too sweet...just satisfying   \n",
       "\n",
       "                                                     Text SentimentPolarity  \\\n",
       "194118  It took me a long time to find some non-sweete...          Positive   \n",
       "205569  When I was a child I fell in love with this ca...          Positive   \n",
       "251045  I have eaten Weetabix cereal for over 30 years...          Positive   \n",
       "192337  I love C Howard Violet Mints.  I also love the...          Positive   \n",
       "135085  I enjoyed the fresh taste, the pulp, the way I...          Positive   \n",
       "\n",
       "        Class_Labels                                        CleanedText  \\\n",
       "194118             1  took long time find non sweeten black tea prod...   \n",
       "205569             1  child fell love candi flavor fun fast forward ...   \n",
       "251045             1  eaten weetabix cereal year sinc first found en...   \n",
       "192337             1  love howard violet mint also love peppermint t...   \n",
       "135085             1  enjoy fresh tast pulp way felt drink energ smo...   \n",
       "\n",
       "                    CleanedSummary  \\\n",
       "194118                   great tea   \n",
       "205569                   nostalgia   \n",
       "251045              weetabix excel   \n",
       "192337            excel peppermint   \n",
       "135085  not too sweet just satisfi   \n",
       "\n",
       "                                         Combined_Reviews  \n",
       "194118  took long time find non sweeten black tea prod...  \n",
       "205569  child fell love candi flavor fun fast forward ...  \n",
       "251045  eaten weetabix cereal year sinc first found en...  \n",
       "192337  love howard violet mint also love peppermint t...  \n",
       "135085  enjoy fresh tast pulp way felt drink energ smo...  "
      ]
     },
     "execution_count": 12,
     "metadata": {},
     "output_type": "execute_result"
    }
   ],
   "source": [
    "'''Loading the Amazon dataset, Remove duplicate data.'''\n",
    "#Data Source: https://www.kaggle.com/snap/amazon-fine-food-reviews.\n",
    "connection_sqlobject = sqlite3.connect('totally_processed_DB.sqlite') \n",
    "processed_db = pd.read_sql_query(\"\"\" SELECT * FROM Reviews \"\"\", connection_sqlobject)\n",
    "\n",
    "#Balancing the dataset. Taking 10000 reviews belonging to each classes\n",
    "df0 = processed_db[processed_db['Class_Labels'] == 0]\n",
    "df1 = processed_db[processed_db['Class_Labels'] == 1]\n",
    "df_balncd = pd.concat([df1.sample(20000,random_state=0),df0.sample(20000, random_state=0)])\n",
    "\n",
    "#Split the data into train and test set. The train set will contain 40K old reviews. The test set has 30k newer reviews. We will also use 40K latest reviews as a calibration dataset to calibrate our model. \n",
    "X_train = df_balncd['CleanedText']\n",
    "labels=df_balncd['Class_Labels']\n",
    "\n",
    "df_balncd.head()"
   ]
  },
  {
   "cell_type": "code",
   "execution_count": 13,
   "metadata": {
    "scrolled": false
   },
   "outputs": [
    {
     "data": {
      "text/plain": [
       "<matplotlib.axes._subplots.AxesSubplot at 0x7f72988c1860>"
      ]
     },
     "execution_count": 13,
     "metadata": {},
     "output_type": "execute_result"
    },
    {
     "data": {
      "image/png": "[encoded data removed]",
      "text/plain": [
       "<Figure size 360x360 with 1 Axes>"
      ]
     },
     "metadata": {},
     "output_type": "display_data"
    }
   ],
   "source": [
    "#Display distribution of Postive and Negative reviews.\n",
    "df_balncd[\"SentimentPolarity\"].value_counts().plot(kind='bar',color=['green','red'],title='Distribution Of Positive and Negative reviews.',figsize=(5,5))"
   ]
  },
  {
   "cell_type": "markdown",
   "metadata": {
    "colab_type": "text",
    "id": "m3YEHTLPLPod"
   },
   "source": [
    "## [4.4.1] Avg Word2Vec"
   ]
  },
  {
   "cell_type": "markdown",
   "metadata": {
    "colab_type": "text",
    "id": "JriP5nZCLPot"
   },
   "source": [
    "In this model we convert each word present in a review to vectors. For each sentence we will compute the average word to vec representation. Let's look at the below demo example.\n",
    "\n",
    "Suppose we have N words in a sentence {w1,w2,w3,w4,w5,w6 ... , wN}. We will convert each word to a vector, sum them up and divide by the total number of words (N) present in that particular sentence. So our final vector will look like (1/N) * [word2vec(w1) + word2vec(w2) + word2vec(w3) .... + word2vec(wN)]"
   ]
  },
  {
   "cell_type": "code",
   "execution_count": 14,
   "metadata": {
    "colab": {},
    "colab_type": "code",
    "id": "UnXI9NHTLPot",
    "outputId": "ecbe8256-9718-4bad-de33-e5ce1ee69038",
    "scrolled": false
   },
   "outputs": [
    {
     "name": "stdout",
     "output_type": "stream",
     "text": [
      "The size of the Word2Vec text corpus :  40000\n"
     ]
    },
    {
     "name": "stderr",
     "output_type": "stream",
     "text": [
      "100%|██████████| 40000/40000 [01:04<00:00, 621.83it/s]\n"
     ]
    },
    {
     "name": "stdout",
     "output_type": "stream",
     "text": [
      "The shape of our Avg Word2Vec train vectorizer  (40000, 200)\n",
      "Shape of pca_reduced.shape =  (40000, 2)\n",
      "shape of pca_data.shape =  (40000, 3)\n"
     ]
    },
    {
     "data": {
      "image/png": "[encoded data removed]",
      "text/plain": [
       "<Figure size 483.875x432 with 1 Axes>"
      ]
     },
     "metadata": {},
     "output_type": "display_data"
    },
    {
     "name": "stdout",
     "output_type": "stream",
     "text": [
      "Time taken to perform Principal Component Analysis:  0:00:01.731085\n"
     ]
    },
    {
     "data": {
      "image/png": "[encoded data removed]",
      "text/plain": [
       "<Figure size 432x288 with 1 Axes>"
      ]
     },
     "metadata": {},
     "output_type": "display_data"
    }
   ],
   "source": [
    "#Build a Word2Vec model on train data and use this to vectorize the test and cv data.\n",
    "word2vec_corpus=[]\n",
    "for sentence in X_train:\n",
    "    word2vec_corpus.append(sentence.split()) #Returns a list of words for each sentence for all the reviews\n",
    "print(\"The size of the Word2Vec text corpus : \",len(word2vec_corpus))\n",
    "\n",
    "word2vec_model=Word2Vec(sentences=word2vec_corpus, size=200, min_count=5, workers=6) #min_count = 5 considers only those words for our model which occurs atleast 5 times\n",
    "word2vec_words = list(word2vec_model.wv.vocab)                                       #print(\"\\nThe number of words that occured minimum 5 times : \",len(word2vec_words))\n",
    "\n",
    "#This method returns the Average Word2Vec vectors for all reviews in a given dataset\n",
    "def vectorize_w2v(dataset, word2vec_model, word2vec_words):\n",
    "    word2vec_corpus=[]\n",
    "    for sentence in dataset:\n",
    "        word2vec_corpus.append(sentence.split()) \n",
    "    \n",
    "    # Creating average Word2Vec model by computing the average word2vec for each review.\n",
    "    sent_vectors = []; #The average word2vec for each sentence/review will be stored in this list\n",
    "    for sentence in tqdm(word2vec_corpus): #For each review\n",
    "        sent_vec = np.zeros(200) #200 dimensional array, where all elements are zero. This is used to add word vectors and find the averages at each iteration.\n",
    "        count_words =0; #This will store the count of the words with a valid vector in each review text\n",
    "        for word in sentence: #For each word in a given review.\n",
    "            if word in word2vec_words:\n",
    "                word_vectors = word2vec_model.wv[word] #Creating a vector(numpy array of 100 dimensions) for each word.\n",
    "                sent_vec += word_vectors\n",
    "                count_words += 1\n",
    "        if count_words != 0:\n",
    "            sent_vec /= count_words\n",
    "        sent_vectors.append(sent_vec)\n",
    "    #print(\"\\nThe length of the sentence vectors :\",len(sent_vectors))\n",
    "    #print(\"\\nSize of each vector : \",len(sent_vectors[0]))\n",
    "    sent_vectors = np.array(sent_vectors)\n",
    "    return sent_vectors\n",
    "\n",
    "\n",
    "X_train_vec= vectorize_w2v(X_train, word2vec_model, word2vec_words)\n",
    "X_train_vec = standardize(X_train_vec)\n",
    "\n",
    "print(\"The shape of our Avg Word2Vec train vectorizer \",X_train_vec.shape)\n",
    "\n",
    "#Perform PCA visualization using 2 components\n",
    "pca_vis(X_train_vec, labels)\n",
    "\n",
    "#Check to see how many number of features can be retained which explains the most variance.\n",
    "pca_redu(X_train_vec, labels)"
   ]
  },
  {
   "cell_type": "markdown",
   "metadata": {},
   "source": [
    "#### Here we can see that by reducing the dimensions to 50 (from 200) we are retaining almost 98% of the explained variance amongs all the features. That's pretty impressive!"
   ]
  },
  {
   "cell_type": "markdown",
   "metadata": {
    "colab_type": "text",
    "id": "2sHfb529LPow"
   },
   "source": [
    "## [4.4.1.2] TFIDF weighted W2V\n",
    "\n",
    "In this model we convert each word present in a review to vectors. For each sentence we will compute the tf-idf average word to vec representation. Let's look at the below demo example.\n",
    "\n",
    "Suppose we have N words in a sentence {w1,w2,w3,w4,w5,w6 ... , wN}. We will compute the tf-idf for each word in a review for all reviews. Lets say the corresponding tf-idfs are {t1,t2,t3,t4,t5,t6......tN}. We will convert each word to a vector, sum them up and divide by the summation of tf-idf vectors for all words present in that particular sentence. So our final vector will look like [1/(t1+t2+t3+t4+t5+t6+ ..... +tN)] * [word2vec(w1) + word2vec(w2) + word2vec(w3) .... + word2vec(wN)]"
   ]
  },
  {
   "cell_type": "code",
   "execution_count": 15,
   "metadata": {
    "scrolled": false
   },
   "outputs": [
    {
     "name": "stderr",
     "output_type": "stream",
     "text": [
      "100%|██████████| 40000/40000 [13:19<00:00, 50.03it/s]\n"
     ]
    },
    {
     "name": "stdout",
     "output_type": "stream",
     "text": [
      "The shape of our Avg Word2Vec train vectorizer  (40000, 200)\n",
      "Shape of pca_reduced.shape =  (40000, 2)\n",
      "shape of pca_data.shape =  (40000, 3)\n"
     ]
    },
    {
     "data": {
      "image/png": "[encoded data removed]",
      "text/plain": [
       "<Figure size 483.875x432 with 1 Axes>"
      ]
     },
     "metadata": {},
     "output_type": "display_data"
    },
    {
     "name": "stdout",
     "output_type": "stream",
     "text": [
      "Time taken to perform Principal Component Analysis:  0:00:01.762572\n"
     ]
    },
    {
     "data": {
      "image/png": "[encoded data removed]",
      "text/plain": [
       "<Figure size 432x288 with 1 Axes>"
      ]
     },
     "metadata": {},
     "output_type": "display_data"
    }
   ],
   "source": [
    "#Build a word2vec model using the train data and use this model to vectorize test and cv data.\n",
    "#word2vec_corpus will store the list of words for each review.\n",
    "word2vec_corpus=[]\n",
    "for sentence in X_train:\n",
    "    word2vec_corpus.append(sentence.split())\n",
    "\n",
    "#min_count = 5 considers only those words which occurs atleast 5 times\n",
    "word2vec_model=Word2Vec(sentences=word2vec_corpus, size=200, min_count=5, workers=8)\n",
    "word2vec_words = list(word2vec_model.wv.vocab)\n",
    "\n",
    "#Initializing the TF-IDF contructor with review texts. HTML tags and punctuations are removed. Stopwords are preserved.\n",
    "tf_idf_object = TfidfVectorizer(ngram_range=(1,1)).fit(X_train)\n",
    "\n",
    "#This method returns the Average Word2Vec vectors for all reviews in a given dataset\n",
    "def vectorize_tfidf_w2v(dataset, tf_idf_object, word2vec_model, word2vec_words):\n",
    "\n",
    "    #word2vec_corpus will store the list of words for each review.\n",
    "    word2vec_corpus=[]\n",
    "    for sentence in dataset:\n",
    "        word2vec_corpus.append(sentence.split())\n",
    "\n",
    "    #Use the earlier TF-IDF object to vectorize test and cv data.\n",
    "    tf_idf_matrix = tf_idf_object.transform(dataset)\n",
    "    tfidf_features = tf_idf_object.get_feature_names() \n",
    "    \n",
    "    # We are building a dictionary with words as a key, and the idfs as value\n",
    "    dictionary = dict(zip(tf_idf_object.get_feature_names(), list(tf_idf_object.idf_)))\n",
    "\n",
    "    #Algorithm for finding the TF-IDF weighted average word2vec vectors.\n",
    "    tfidf_sent_vectors = []; #The tfidf-w2v for each sentence/review will stored in this list\n",
    "    row=0;\n",
    "    for sentence in tqdm(word2vec_corpus): #For each review/sentence \n",
    "        sent_vec = np.zeros(200) #200 dimensional array, where all elements are zero. This is used to add word vectors and find the averages at each iteration.\n",
    "        weight_sum = 0; #This will store the count of the words with a valid vector in each review text.\n",
    "        for word in sentence: #For each word in a review/sentence\n",
    "            if((word in word2vec_words) and (word in tfidf_features)):\n",
    "                word_vectors = word2vec_model.wv[word]\n",
    "                tf_idf = dictionary[word]*(sentence.count(word)/len(sentence)) #tf_idf = tf_idf_matrix[row, tfidf_features.index(word)] #tf_idfidf of a word in a sentence/review       \n",
    "                sent_vec += (word_vectors * tf_idf)                            #dictionary[word] = idf value of word in whole courpus  # sent.count(word) = tf valeus of word in this review                          \n",
    "                weight_sum += tf_idf\n",
    "        if weight_sum != 0:\n",
    "            sent_vec /= weight_sum\n",
    "        tfidf_sent_vectors.append(sent_vec)\n",
    "        row += 1\n",
    "\n",
    "    tfidf_sent_vectors = np.array(tfidf_sent_vectors)\n",
    "    return tfidf_sent_vectors\n",
    "\n",
    "#Converting the words to word vector representation.\n",
    "X_train_vec = vectorize_tfidf_w2v(X_train, tf_idf_object, word2vec_model, word2vec_words)\n",
    "X_train_vec = standardize(X_train_vec)\n",
    "\n",
    "print(\"The shape of our Avg Word2Vec train vectorizer \",X_train_vec.shape)\n",
    "\n",
    "#Perform PCA visualization using 2 components\n",
    "pca_vis(X_train_vec, labels)\n",
    "\n",
    "#Check to see how many number of features can be retained which explains the most variance.\n",
    "pca_redu(X_train_vec, labels)"
   ]
  },
  {
   "cell_type": "markdown",
   "metadata": {},
   "source": [
    "#### Here also, we can see that by reducing the dimensions to 50 (from 200) we are retaining almost 98% of the explained variance amongs all the features. That's pretty impressive!"
   ]
  }
 ],
 "metadata": {
  "colab": {
   "name": "05 Amazon Fine Food Reviews Analysis_Logistic Regression.ipynb",
   "provenance": [],
   "version": "0.3.2"
  },
  "kernelspec": {
   "display_name": "Python 3",
   "language": "python",
   "name": "python3"
  },
  "language_info": {
   "codemirror_mode": {
    "name": "ipython",
    "version": 3
   },
   "file_extension": ".py",
   "mimetype": "text/x-python",
   "name": "python",
   "nbconvert_exporter": "python",
   "pygments_lexer": "ipython3",
   "version": "3.6.5"
  }
 },
 "nbformat": 4,
 "nbformat_minor": 1
}
